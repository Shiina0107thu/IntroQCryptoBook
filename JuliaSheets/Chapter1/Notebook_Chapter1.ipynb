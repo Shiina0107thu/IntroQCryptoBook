{
 "cells": [
  {
   "cell_type": "markdown",
   "metadata": {},
   "source": [
    "<h1 style=\"color:#00A6D6;\">Introduction to Quantum Cryptography - Jupyter Notebooks</h1>\n",
    "<h2 style=\"color:#00A6D6;\">Chapter 1: Background Material</h2>\n",
    "\n",
    "Welcome to the lab exercises in Julia. These notebooks are meant to help you study the material by performing many calculations in an easy and intuitive manner - in short, by playing around!\n",
    "\n",
    "Each notebook consists out of two types of parts:\n",
    "\n",
    "First off, there are parts where Julia is used to make certain calculations and/or visualize the outcomes: The computer programming makes it possible to calculate and visualize things that are otherwise difficult. You may wish to change the examples, or extend them to perform other calculations that help you become familiar with the material in the book and beyond. \n",
    "\n",
    "Secondly, each notebook has a few homework exercises marked \"Exercises\". These are calculations that we would definitely like you to perform.\n",
    "\n",
    "### If you have never used a Julia Jupyter sheet before, we recommend you to begin with the \"Getting Started\" notebook. \n",
    "\n",
    "Ready? Then let's get started! Click shift-enter in the box below to load the first snippet of Julia! The first time you do this, Julia will compile several packages, which may generate many info and warning messages. "
   ]
  },
  {
   "cell_type": "code",
   "execution_count": null,
   "metadata": {
    "jupyter": {
     "outputs_hidden": false
    }
   },
   "outputs": [],
   "source": [
    "# load functions/globals used throughout the notebook\n",
    "include(\"source/main.jl\") ;"
   ]
  },
  {
   "cell_type": "markdown",
   "metadata": {},
   "source": [
    "* <a href=\"#single_qubit\"> The Single Qubit </a>\n",
    "\n",
    "* <a href=\"#two_qubits\"> Two Qubits </a>\n",
    "\n",
    "* <a href=\"#measurements\"> Measurements </a>\n",
    "\n",
    "* <a href=\"#transformations\"> Unitary Transformations </a>\n",
    "\n",
    "* <a href=\"#bloch_sphere\"> Bloch Sphere </a>"
   ]
  },
  {
   "cell_type": "markdown",
   "metadata": {},
   "source": [
    "------\n",
    "<a id=\"single_qubit\"></a>\n",
    "<h2 style=\"color:#00A6D6;\">The Single Qubit</h2>\n",
    "\n",
    "Let's start with a single qubit! As you've learned in the book already, the word qubit refers to a quantum bit. \n",
    "\n",
    "Throughout we will use the bra-ket notation, the quantum information way of writing down vectors. Let's remember what the two vectors corresponding to the two classical bits 0 and 1 look like.\n",
    "\n",
    "$$\\left| 0 \\right\\rangle := \\begin{pmatrix}1 \\\\ 0\\end{pmatrix}, \\quad \\text{and} \\quad \\left| 1 \\right\\rangle := \\begin{pmatrix}0 \\\\ 1\\end{pmatrix}.$$\n",
    "\n",
    "Let's define them in Julia:"
   ]
  },
  {
   "cell_type": "code",
   "execution_count": null,
   "metadata": {
    "jupyter": {
     "outputs_hidden": false
    }
   },
   "outputs": [],
   "source": [
    "# The vector corresponding to |0>\n",
    "v0 = [1; 0]"
   ]
  },
  {
   "cell_type": "code",
   "execution_count": null,
   "metadata": {
    "jupyter": {
     "outputs_hidden": false
    }
   },
   "outputs": [],
   "source": [
    "# The vector corresponding to |1>\n",
    "v1 = [0; 1]"
   ]
  },
  {
   "cell_type": "markdown",
   "metadata": {},
   "source": [
    "Accordingly, we can describe the state $\\left| \\psi \\right\\rangle$ of a qubit in general by\n",
    "\n",
    "$$\\left| \\psi \\right\\rangle = \\alpha \\left| 0 \\right\\rangle + \\beta \\left| 1 \\right\\rangle = \\begin{pmatrix} \\alpha \\\\ \\beta \\end{pmatrix} \\:.$$\n",
    "\n",
    "The parameters $\\alpha$ and $\\beta$ are amplitudes. Let's try constructing such a vector for some values of $\\alpha$ and $\\beta$ in Julia:"
   ]
  },
  {
   "cell_type": "code",
   "execution_count": null,
   "metadata": {
    "jupyter": {
     "outputs_hidden": false
    }
   },
   "outputs": [],
   "source": [
    "# Amplitudes\n",
    "alpha = 1/sqrt(2); # note, by ending a line of Julia with a semi-colon output is supressed\n",
    "beta = 1/sqrt(2);  # try adding a semi-colon to the last line of this cell to see what happens\n",
    "\n",
    "# The qubit psi corresponding to such amplitudes\n",
    "psi = alpha * v0 + beta * v1"
   ]
  },
  {
   "cell_type": "markdown",
   "metadata": {},
   "source": [
    "---\n",
    "\n",
    "<a id='normalization'></a>\n",
    "<h4 style=\"color:#00A6D6;\">Normalization</h4>\n",
    "\n",
    "Remember that for $\\left| \\psi \\right\\rangle$ to be a valid qubit we require $\\left| \\psi \\right\\rangle$ to be normalized. For the inner product of $\\left| \\psi \\right\\rangle$ with itself&mdash;in bra-ket notation as $ \\langle \\psi \\:|\\: \\psi \\rangle$&mdash;it must be that\n",
    "\n",
    "$$ \\langle \\psi \\:|\\: \\psi \\rangle = \\lvert\\alpha\\rvert^2 + \\lvert\\beta\\rvert^2 = 1$$\n",
    "\n",
    "To make this more explicit recall that a bra $\\left\\langle \\psi \\right|$ denotes the complex conjugate of the ket $\\left| \\psi \\right\\rangle$:\n",
    "\n",
    "$$\\left\\langle \\psi \\right|:= \\begin{pmatrix} \\alpha \\\\ \\beta \\end{pmatrix}^{*T} = \\begin{pmatrix} \\alpha^* , \\beta^* \\end{pmatrix} \\:.$$ \n",
    "\n",
    "Let's expand this in terms of the vector: \n",
    "\n",
    "$$\\langle \\psi \\:|\\: \\psi \\rangle = \\begin{pmatrix} \\alpha^*\\:, \\beta^* \\end{pmatrix} \\cdot \\begin{pmatrix} \\alpha \\\\ \\beta \\end{pmatrix} = \\alpha \\cdot \\alpha^* + \\beta \\cdot \\beta^* = \\lvert\\alpha\\rvert^2 + \\lvert\\beta\\rvert^2 = 1$$\n",
    "\n",
    "Let's check whether the qubit psi we have defined above is normalized!"
   ]
  },
  {
   "cell_type": "code",
   "execution_count": null,
   "metadata": {
    "jupyter": {
     "outputs_hidden": false
    }
   },
   "outputs": [],
   "source": [
    "# In Julia, this gives us the bra of a vector. Let's print it\n",
    "psi'"
   ]
  },
  {
   "cell_type": "code",
   "execution_count": null,
   "metadata": {
    "jupyter": {
     "outputs_hidden": false
    }
   },
   "outputs": [],
   "source": [
    "# Let's now check normalization - up to numerical accuracy!\n",
    "psi' * psi"
   ]
  },
  {
   "cell_type": "markdown",
   "metadata": {},
   "source": [
    "Be careful that the bra is the <b>conjugate</b> transpose - and not merely the transpose! To see this, let's construct a complex vector, where \"im\" is the Julia way of writing the complex i."
   ]
  },
  {
   "cell_type": "code",
   "execution_count": null,
   "metadata": {
    "jupyter": {
     "outputs_hidden": false
    }
   },
   "outputs": [],
   "source": [
    "# Let's define a complex vector\n",
    "alpha = 1/sqrt(2);\n",
    "beta = im * 1/sqrt(2);\n",
    "\n",
    "# Let's display the vector\n",
    "psi = alpha * v0 + beta * v1"
   ]
  },
  {
   "cell_type": "code",
   "execution_count": null,
   "metadata": {
    "jupyter": {
     "outputs_hidden": false
    }
   },
   "outputs": [],
   "source": [
    "# And let's display it's bra: the complex conjugate\n",
    "psi'"
   ]
  },
  {
   "cell_type": "markdown",
   "metadata": {},
   "source": [
    "As an exercise for yourself, go and adapt the Julia code below to test whether $$|\\Psi\\rangle = \\alpha |0\\rangle + \\beta |1\\rangle$$ with $\\alpha = 1/3$ and $\\beta = 2/3$ is normalized! "
   ]
  },
  {
   "cell_type": "code",
   "execution_count": null,
   "metadata": {
    "jupyter": {
     "outputs_hidden": false
    }
   },
   "outputs": [],
   "source": [
    "# First, let's define again the amplitudes\n",
    "alpha = ...;\n",
    "beta = ...;\n",
    "\n",
    "# Construct the vector psi\n",
    "psi = alpha * v0 + beta * v1;\n",
    "\n",
    "# Compute the inner product <psi|psi>\n",
    "psi'*psi"
   ]
  },
  {
   "cell_type": "markdown",
   "metadata": {},
   "source": [
    "---\n",
    "\n",
    "<h4 style=\"color:#00A6D6;\">A real valued example</h4>\n",
    "\n",
    "Remember that $\\alpha$ and $\\beta$ are in general complex numbers! Let us however assume here that $\\alpha$ and $\\beta$ have a real value</b>. The normalization condition thus becomes $\\alpha^2 + \\beta^2 = 1$. \n",
    "\n",
    "To visualize such a qubit, let us make the following parametrization \n",
    "\n",
    "$$\\alpha = \\cos\\theta \\quad \\text{and} \\quad \\beta = \\sin\\theta$$\n",
    "\n",
    "and see how the state vector can be represented in a 2D plot.\n",
    "\n",
    "<b> click in the code block below and press shift+enter, it might take a moment before the resulting image is loaded</b>.\n",
    "\n",
    "You will see a slider appear which lets you set $\\theta$. You will see a plot of the corresponding state vector appear. \n",
    "\n",
    "$$\\left| \\psi(\\theta) \\right\\rangle = \\alpha \\left| 0 \\right\\rangle + \\beta \\left| 1 \\right\\rangle = \\begin{pmatrix} \\alpha \\\\ \\beta \\end{pmatrix} \\:.$$\n",
    "\n",
    "Use the slider and vary $\\theta$, you will see the state vector representation vary accordingly. As an exercise for yourself, go and investigate the angles for the elements $|0\\rangle$ and $|1\\rangle$ of the standard basis, and the vectors defining the Hadmard basis:\n",
    "\n",
    "$$|+\\rangle = \\frac{1}{\\sqrt{2}}(|0\\rangle + |1\\rangle).$$\n",
    "\n",
    "$$|-\\rangle = \\frac{1}{\\sqrt{2}}(|0\\rangle - |1\\rangle).$$"
   ]
  },
  {
   "cell_type": "code",
   "execution_count": null,
   "metadata": {
    "jupyter": {
     "outputs_hidden": false
    }
   },
   "outputs": [],
   "source": [
    "single_state_vector_plot() # load the interactive plot\n",
    "\n",
    "# Note it may take a bit to load. If you have troubles, try reloading the page without restarting the kernel."
   ]
  },
  {
   "cell_type": "markdown",
   "metadata": {},
   "source": [
    "We have already seen above how to express $|+\\rangle$ and $|-\\rangle$ in terms of the standard Basis $|0\\rangle$, $|1\\rangle$ above. Since the Hadmard basis is also a basis, we should of course also be able to write $|0\\rangle$ and $|1\\rangle$ in terms of $|+\\rangle$ and $|-\\rangle$. \n",
    "\n",
    "Can you guess by looking at the picture above? Go and find the coefficients $\\alpha_0, \\beta_0$ and $\\alpha_1,\\beta_1$ visually:\n",
    "\n",
    "$$|0\\rangle = \\alpha_0 |+\\rangle + \\beta_0 |-\\rangle$$\n",
    "$$|1\\rangle = \\alpha_1 |+\\rangle + \\beta_1 |-\\rangle$$.\n",
    "\n",
    "Verify your answers using the Julia code below!"
   ]
  },
  {
   "cell_type": "code",
   "execution_count": null,
   "metadata": {
    "jupyter": {
     "outputs_hidden": false
    }
   },
   "outputs": [],
   "source": [
    "# Let's first define the plus and minus state\n",
    "plus = 1/sqrt(2) * (v0 + v1);\n",
    "minus = 1/sqrt(2) * (v0 - v1);\n",
    "\n",
    "# Let's first make the v0 vector by combining plus and minus\n",
    "alpha0 = ...;\n",
    "beta0 = ...;\n",
    "newV0 = alpha0 * plus + beta0 * minus"
   ]
  },
  {
   "cell_type": "code",
   "execution_count": null,
   "metadata": {
    "jupyter": {
     "outputs_hidden": false
    }
   },
   "outputs": [],
   "source": [
    "# And then the new one vector\n",
    "alpha1 = ...;\n",
    "beta1 = ...;\n",
    "newV1 = alpha1 * plus + beta1 * minus"
   ]
  },
  {
   "cell_type": "markdown",
   "metadata": {},
   "source": [
    "<h3 style=\"color:#00A6D6;\">Exercise 1</h3>\n",
    "\n",
    "We're now ready for the first exercise. Consider $$\\left| b_0 \\right\\rangle = \\sqrt{\\frac{1}{3}} \\left| 0 \\right\\rangle + \\sqrt{\\frac{2}{3}} \\left| 1 \\right\\rangle$$\n",
    "\n",
    "What real-valued vectors are orthogonal to this vector? In other words given $\\left| b_0 \\right\\rangle$ which $\\left| b_1 \\right\\rangle$ satisfy\n",
    "\n",
    "$$ \\left\\langle b_1 | b_0 \\right\\rangle = 0 \\:?$$\n",
    "\n",
    "<b>Your task is to find parameters $\\alpha_1 \\geq 0$ and $\\beta_1$ such that\n",
    "\n",
    "$$\\left| b_1 \\right\\rangle = \\begin{pmatrix} \\alpha_1 \\\\ \\beta_1 \\end{pmatrix}$$\n",
    "\n",
    "is orthogonal to $\\left| b_0 \\right\\rangle$ </b>.\n",
    "\n",
    "Take a guess, use Julia to find the vector for you, or compute it by hand! By clicking in the code box just below you can fill in values for $\\alpha_1$ and $\\beta_1$ and calculate $ \\left\\langle b_1 | b_0 \\right\\rangle$ to see how you are doing.\n",
    "\n",
    "To start you off we have set $\\alpha_1$ and $\\beta_1$ to $\\sqrt{\\frac{1}{2}}$ and $\\sqrt{\\frac{1}{2}}$ respectively."
   ]
  },
  {
   "cell_type": "code",
   "execution_count": null,
   "metadata": {
    "jupyter": {
     "outputs_hidden": false
    }
   },
   "outputs": [],
   "source": [
    "# First let's define the vector b0. We'll do this directly as a vector now\n",
    "b0 = [sqrt(1/3) ; sqrt(2/3)];\n",
    "\n",
    "# Set the amplitudes for b1. We'll put some funny amplitudes to start with...\n",
    "alpha1 = sqrt(1/2);\n",
    "beta1 = sqrt(1/2);\n",
    "\n",
    "b1 = [alpha1; beta1]\n",
    "###### \n",
    "println(\"You have entered |b_1> = \")\n",
    "println(\"$alpha1 ⋅|0> + $beta1 ⋅|1> \\n\")\n",
    "println(\"The inner product is \\n  < b_0 | b_1 > = \")\n",
    "println(b0'*b1)"
   ]
  },
  {
   "cell_type": "markdown",
   "metadata": {},
   "source": [
    "<h3 style=\"color:#00A6D6;\">Exercise 2</h3>\n",
    "\n",
    "Calculate the exact inner product of $$|+\\rangle$$ and $$|0_y\\rangle = \\frac{1}{\\sqrt{2}}(|0\\rangle + i |1\\rangle)\\:.$$ \n",
    "\n",
    "In other words, calculate \n",
    "\n",
    "$$ \\langle 0_y | + \\rangle$$\n",
    "\n",
    "<b> Note: $|0_y\\rangle$ is complex valued. </b>\n",
    "\n",
    "<h4 style=\"color:#00A6D6;\"> Supplement to Exercise 2</h4>\n",
    "\n",
    "Below, you can enter the states $\\lvert+\\rangle$ and $|0_y\\rangle$ in terms of coefficients $\\alpha_1$, $\\beta_1$ and $\\alpha_2$, $\\beta_2$:\n",
    "\n",
    "$$ \\lvert+\\rangle = \\begin{pmatrix} \\alpha_1 \\\\ \\beta_1 \\end{pmatrix} \\quad \\lvert0_y\\rangle = \\begin{pmatrix} \\alpha_2 \\\\ \\beta_2 \\end{pmatrix} $$ \n",
    "\n",
    "Note, in Julia, when it comes to complex numbers, one writes <pre> im </pre> instead of $i$. \n",
    "\n",
    "\n",
    "Thus $ z := x + i \\cdot y $ translates to Julia code\n",
    "\n",
    "<pre>\n",
    "z = x + im*y\n",
    "</pre> \n"
   ]
  },
  {
   "cell_type": "code",
   "execution_count": null,
   "metadata": {
    "jupyter": {
     "outputs_hidden": false
    }
   },
   "outputs": [],
   "source": [
    "# |+> state\n",
    "# replace the dots \"..\" with the appropriate coefficient\n",
    "# we have filled in a value for β_2\n",
    "# to show you how to fill in \"im\" times the square root of a fraction.\n",
    "α_1 = .. \n",
    "β_1 = ..\n",
    "\n",
    "plus = [α_1; β_1];\n",
    "\n",
    "# |0>_y state\n",
    "# replace the dots \"..\" with the appropriate coefficient\n",
    "α_2 = ..\n",
    "β_2 = im*sqrt(1/2)\n",
    "\n",
    "y0 = [α_2; β_2];\n",
    "\n",
    "# Compute the inner product - your code goes below!\n"
   ]
  },
  {
   "cell_type": "markdown",
   "metadata": {},
   "source": [
    "------\n",
    "<a id=\"two_qubits\"></a>\n",
    "<h2 style=\"color:#00A6D6;\">Two Qubits</h2>\n",
    "\n",
    "Of course we will generally have more than one qubit! Remember the rule for combining the state of two distinct qubits into a two qubit state. Let $$\\lvert \\psi_i \\rangle = \\alpha_i \\left| 0 \\right\\rangle + \\beta_i \\left| 1 \\right\\rangle = \\begin{pmatrix} \\alpha_i \\\\ \\beta_i \\end{pmatrix} $$\n",
    "\n",
    "describe the state of the $i$-th qubit. \n",
    "\n",
    "We can describe the state of two qubits by taking the tensor product\n",
    "\n",
    "$$\\left| \\psi_1 \\right\\rangle \\otimes \\left| \\psi_2 \\right\\rangle = \\Big(\\alpha_1 \\left| 0 \\right\\rangle + \\beta_1 \\left| 1 \\right\\rangle \\Big) \\otimes \\Big(\\alpha_2 \\left| 0 \\right\\rangle + \\beta_2 \\left| 1 \\right\\rangle \\Big) =$$\n",
    "\n",
    "$$\\begin{pmatrix} \\alpha_1 \\\\ \\beta_1 \\end{pmatrix} \\otimes \\begin{pmatrix} \\alpha_2 \\\\ \\beta_2 \\end{pmatrix} = \\begin{pmatrix} \\alpha_1 \\begin{pmatrix} \\alpha_2 \\\\ \\beta_2 \\end{pmatrix}  \\\\ \\beta_1 \\begin{pmatrix} \\alpha_2 \\\\ \\beta_2 \\end{pmatrix}  \\end{pmatrix} = \\begin{pmatrix} \\alpha_1 \\cdot \\alpha_2 \\\\ \\alpha_1 \\cdot \\beta_2  \\\\  \\beta_1 \\cdot \\alpha_2 \\\\ \\beta_1 \\cdot \\beta_2 \\end{pmatrix}  $$\n",
    "\n",
    "To illustrate this, let us calculate the vector associated with $ \\left| \\psi_1 \\right\\rangle \\otimes \\left| \\psi_2 \\right\\rangle$ given $\\left| \\psi_1 \\right\\rangle$ and $\\left| \\psi_2 \\right\\rangle$.\n",
    "\n",
    "<b> click in the code block below and press shift+enter to see the results</b>."
   ]
  },
  {
   "cell_type": "code",
   "execution_count": null,
   "metadata": {
    "jupyter": {
     "outputs_hidden": false
    }
   },
   "outputs": [],
   "source": [
    "# Let's first define the vectors, adapt the amplitudes to play around!\n",
    "\n",
    "# Define Psi1\n",
    "alpha1 = 1;\n",
    "beta1 = 0;\n",
    "psi1 = [alpha1; beta1];\n",
    "\n",
    "# Define Psi2\n",
    "alpha2 = 0;\n",
    "beta2 = 1;\n",
    "psi2 = [alpha2; beta2];\n",
    "\n",
    "# Compute the tensor product\n",
    "psiTwo = kron(psi1,psi2)"
   ]
  },
  {
   "cell_type": "markdown",
   "metadata": {},
   "source": [
    "<h3 style=\"color:#00A6D6;\">Exercise 3</h3>\n",
    "\n",
    "Consider the following tensor product\n",
    "\n",
    "$$ |0_y\\rangle \\otimes | + \\rangle = \\begin{pmatrix} c_1 \\\\ c_2 \\\\ c_3 \\\\ c_4 \\end{pmatrix} $$\n",
    "\n",
    "Calculate the coefficients $c_1$, $c_2$, $c_3$, $c_4$. \n",
    "\n",
    "Note, $|0\\rangle_y$ has been defined in exercise 2.\n",
    "\n",
    "<h4 style=\"color:#00A6D6;\"> Supplement to Exercise 3 </h4>\n",
    "\n",
    "Similar to the previous exercise you can check if your calculations went well using the code block just below :\n",
    "\n",
    "You can enter the states $|0_y\\rangle$ and $|+\\rangle$ numerically in terms of coefficients $\\alpha_1$, $\\beta_1$ and $\\alpha_2$, $\\beta_2$ and calculate the associated tensor product."
   ]
  },
  {
   "cell_type": "code",
   "execution_count": null,
   "metadata": {
    "jupyter": {
     "outputs_hidden": false
    }
   },
   "outputs": [],
   "source": [
    "# |0_y> state\n",
    "# replace the dots \"..\" with the appropriate coefficient\n",
    "# we have already filled in a correct value for β_1\n",
    "# to demonstrate the syntax.\n",
    "α_1 = ..\n",
    "β_1 = im*sqrt(1/2)\n",
    "\n",
    "y0 = [α_1; β_1];\n",
    "\n",
    "# |+> state\n",
    "# replace the dots \"..\" with the appropriate coefficient\n",
    "α_2 = ..\n",
    "β_2 = ..\n",
    "z0 = [α_2; β_2];\n",
    "\n",
    "# Compute the tensor product using the kron function\n",
    "kron(y0,z0)"
   ]
  },
  {
   "cell_type": "markdown",
   "metadata": {},
   "source": [
    "-----\n",
    "<a id=\"measurements\"></a>\n",
    "<h2 style=\"color:#00A6D6;\">Measurements</h2>\n",
    "\n",
    "Let's now measure some qubits! Chiefly, we will be measuring one - or more - qubits in a basis, where we will write the basis vectors as $|b_j\\rangle$ for outcome \"j\". We saw in the book that the probability of obtaining a particular outcome is given by\n",
    "\n",
    "$$P_{B=j} := \\lvert \\langle \\psi \\:|\\: b_j \\rangle \\rvert^2 $$\n",
    "\n",
    "<h4 style=\"color:#00A6D6;\">Measuring a real-valued qubit</h4>\n",
    "\n",
    "To gain some intuition, let us now again consider a qubit with real valued amplitudes. Remember, that we can parameterize such a qubit by an angle $\\theta$\n",
    "\n",
    "$$\\left| \\psi(\\theta) \\right\\rangle = \\cos\\theta \\left| 0 \\right\\rangle + \\sin\\theta \\left| 1 \\right\\rangle = \\begin{pmatrix} \\cos\\theta \\\\ \\sin\\theta \\end{pmatrix} \\:.$$\n",
    "\n",
    "Let's now assume the basis that we measure in is also real valued where the outcome j=0 corresponds to the vector \n",
    "\n",
    "$$\\left| b_0 \\right\\rangle = \\begin{pmatrix} \\cos\\gamma \\\\ \\sin\\gamma \\end{pmatrix} \\:.$$\n",
    "\n",
    "Let us visualize $\\lvert \\psi \\rangle$ and $\\lvert b_0 \\rangle$ and calculate the corresponding probability $P_{B=0}$.\n",
    "\n",
    "<b> Click in the code block below and press shift+enter, it might take a moment before the resulting image is loaded</b>.\n",
    "\n",
    "You will see a sliders appear which lets you set $\\theta$ and $\\gamma$ (in degrees).\n",
    "\n",
    "A plot will appear of $\\lvert \\psi \\rangle$ and $\\lvert b_0 \\rangle$ - the solid part corresponds to the projection $ \\big| \\langle b_0 | \\psi \\rangle \\big| \\lvert b_0 \\rangle$ - with $P_{B=0}$ written in the title.\n",
    "\n",
    "Play around with the values of $\\theta$ and $\\gamma$ and see if you can understand what is going."
   ]
  },
  {
   "cell_type": "code",
   "execution_count": null,
   "metadata": {
    "jupyter": {
     "outputs_hidden": false
    }
   },
   "outputs": [],
   "source": [
    "measurement_plot() # load the interactive plot."
   ]
  },
  {
   "cell_type": "markdown",
   "metadata": {},
   "source": [
    "<h4 style=\"color:#00A6D6;\">Global phase is irrelevant</h4>\n",
    "\n",
    "Is there a difference between the qubit $|\\psi\\rangle$ and $|\\phi\\rangle = e^{i\\gamma} |\\psi\\rangle$ for some angle $\\gamma \\in \\mathbb{R}$? It turns out that such a global phase $e^{i\\gamma}$ is irrelevant: there is no measurement that will give us any information on such a global phase - or, in other words - a global phase leads to no observable differences.\n",
    "\n",
    "Let's try and convince ourselves below by means of some examples, by measuring a qubit, and the one with the global phase in the standard basis. Of course, you may wish to measure in other bases as well!"
   ]
  },
  {
   "cell_type": "code",
   "execution_count": null,
   "metadata": {
    "jupyter": {
     "outputs_hidden": false
    }
   },
   "outputs": [],
   "source": [
    "# Basis to measure in - default is the standard basis\n",
    "b0 = [1; 0];\n",
    "b1 = [0; 1];\n",
    "\n",
    "# State to be measured - default is the plus state\n",
    "psi = [1; 1]/sqrt(2);\n",
    "\n",
    "# Set the global phase\n",
    "gamma = 0.1;\n",
    "phi = ℯ^(im * gamma) * psi\n",
    "# Note: ℯ is the Natural Exponent(Euler's number).\n",
    "# You can get in Julia by typing \"\\euler\" and pressing tab"
   ]
  },
  {
   "cell_type": "code",
   "execution_count": null,
   "metadata": {
    "jupyter": {
     "outputs_hidden": false
    }
   },
   "outputs": [],
   "source": [
    "# Compute the outcome probabilities\n",
    "\n",
    "val = b0'*psi;         # note, we compute the inner product by multiplying\n",
    "                       # a row vector - here b0' (note the accent: b0' is the hermitian transposes of b0)\n",
    "                       # and a column vector - here psi.\n",
    "                       # This returns a 1-element array - here val. \n",
    "                       # val[1] returns the first and only entry of this array."
   ]
  },
  {
   "cell_type": "code",
   "execution_count": null,
   "metadata": {
    "jupyter": {
     "outputs_hidden": false
    }
   },
   "outputs": [],
   "source": [
    "p0 = abs(val[1])^2;    \n",
    "\n",
    "val = b0'*phi;\n",
    "p0Phase = abs(val[1])^2;\n",
    "\n",
    "# Round and print\n",
    "digits = 3;\n",
    "p0 = round(p0,digits=digits);\n",
    "p0Phase = round(p0Phase,digits=digits);\n",
    "\n",
    "println(\"Without phase: p0 = \", p0, \"\\n\")\n",
    "println(\"With phase: p0Phase = \", p0Phase, \"\\n\")"
   ]
  },
  {
   "cell_type": "markdown",
   "metadata": {},
   "source": [
    "<h3 style=\"color:#00A6D6;\"> Exercise 4 </h3>\n",
    "\n",
    "Consider the measurement basis \n",
    "\n",
    "$$ \\{ \\left| b_0 \\right\\rangle , \\left| b_1 \\right\\rangle \\} $$\n",
    "\n",
    "with\n",
    "\n",
    "$$ \\left| b_0 \\right\\rangle = \\sqrt{\\frac{1}{3}} \\left| 0 \\right\\rangle + \\sqrt{\\frac{2}{3}} \\left| 1 \\right\\rangle$$\n",
    "\n",
    "and \n",
    "\n",
    "$$\\left| b_1 \\right\\rangle = \\sqrt{\\frac{2}{3}} \\left| 0 \\right\\rangle - \\sqrt{\\frac{1}{3}} \\left| 1 \\right\\rangle$$\n",
    "\n",
    "For different states $ | \\psi \\rangle$ calculate probabilities of obtaining measurement outcomes 0 and 1. That is, compute the exact probabilities\n",
    "\n",
    "$$ P(B=0) = p_0 = |\\langle b_0 | \\psi \\rangle|^2 $$\n",
    "\n",
    "and \n",
    "\n",
    "$$ P(B=1) =  p_1 = |\\langle b_1 | \\psi \\rangle|^2 \\:.$$\n",
    "\n",
    "for each of the following states\n",
    "\n",
    "$$ |\\psi_1 \\rangle = |0\\rangle$$\n",
    "\n",
    "$$ |\\psi_2 \\rangle = |+\\rangle$$\n",
    "\n",
    "$$ |\\psi_3 \\rangle = |-\\rangle$$"
   ]
  },
  {
   "cell_type": "code",
   "execution_count": null,
   "metadata": {},
   "outputs": [],
   "source": [
    "# Feel free to use some code to check yourself"
   ]
  },
  {
   "cell_type": "markdown",
   "metadata": {},
   "source": [
    "<h4 style=\"color:#00A6D6;\"> Supplement no. 1 to Exercise 4 </h4>\n",
    "\n",
    "The code below can be completed to calculate the answers to exercise 4 numerically."
   ]
  },
  {
   "cell_type": "code",
   "execution_count": null,
   "metadata": {
    "jupyter": {
     "outputs_hidden": false
    }
   },
   "outputs": [],
   "source": [
    "# This is the basis we will measure in\n",
    "b0 = [1/sqrt(3); sqrt(2/3)];\n",
    "b1 = [sqrt(2/3); -1/sqrt(3)];\n",
    "\n",
    "# Define the states\n",
    "psi1 = [1; 0]; # write down the state vector for |0>\n",
    "psi2 = [..; ..]; # write down the state vector for |+>\n",
    "psi3 = [..; ..]; # write down the state vector for |->\n",
    "\n",
    "# Write code to compute the probabilities - we'll do it for just one of the cases here.\n",
    "val = b0'*psi1;\n",
    "p0GivenPsi1 = abs(val[1])^2"
   ]
  },
  {
   "cell_type": "markdown",
   "metadata": {},
   "source": [
    "<h4 style=\"color:#00A6D6;\"> Supplement no. 2 to Exercise 4 </h4>\n",
    "\n",
    "It is helpful to visualize the measurement. Run the code below by clicking inside the block of code and pressing shift+enter. Again note that it may take a while for the image to appear.\n",
    "\n",
    "You will see a 2D plot of $\\left| b_0 \\right\\rangle$ and $\\left| b_1 \\right\\rangle$ appear. \n",
    "\n",
    "Furthermore a selection box will appear which allows you to select $|\\psi \\rangle = |0\\rangle$, $|\\psi \\rangle = |+\\rangle$ or $|\\psi \\rangle = |-\\rangle$.\n",
    "\n",
    "Accordingly $|\\psi \\rangle$ is plot together with a numerical approximation of \n",
    "\n",
    "$$ p_0 = |\\langle b_0 | \\psi \\rangle|^2$$\n",
    "\n",
    "and \n",
    "\n",
    "$$ p_1 = |\\langle b_1 | \\psi \\rangle|^2 \\:.$$\n",
    "\n"
   ]
  },
  {
   "cell_type": "code",
   "execution_count": null,
   "metadata": {
    "jupyter": {
     "outputs_hidden": false
    }
   },
   "outputs": [],
   "source": [
    "projective_measurement_plot()"
   ]
  },
  {
   "cell_type": "markdown",
   "metadata": {},
   "source": [
    "<h3 style=\"color:#00A6D6;\"> Measuring two qubits</h3>\n",
    "\n",
    "Let's now imagine we have two qubits A and B. We will imagine that Alice holds qubit A and Bob holds qubit B. Evidently we might imagine that Alice measures her qubit in a basis... and also Bob could measure his qubit in a basis. What can we say about the overall measurement? \n",
    "\n",
    "Let's consider the example where Alice measures in the in the standard basis\n",
    "\n",
    "$$ |0\\rangle_A = |0\\rangle \\\\ |1\\rangle_A = |1\\rangle$$\n",
    "\n",
    "and Bob measures in in a \"$\\pi/8$ rotated\" basis:\n",
    "\n",
    "$$ |0_L\\rangle_B = cos \\frac{\\pi}{8} |0\\rangle + sin\\frac{\\pi}{8} |1\\rangle \\\\ |1_L\\rangle_B = -sin\\frac{\\pi}{8} |0\\rangle + cos \\frac{\\pi}{8} |1\\rangle$$\n",
    "\n",
    "To see how this is a \"$\\pi/8$ rotated\" basis consider the following picture, where we will actually plot the basis of Alice and Bob into the same plot even though they are of course on two different qubits.\n",
    "\n",
    "<b> In case you see no image, click in the code block below and press shift+enter, it might take a moment before the resulting image is loaded</b>."
   ]
  },
  {
   "cell_type": "code",
   "execution_count": null,
   "metadata": {
    "jupyter": {
     "outputs_hidden": false
    }
   },
   "outputs": [],
   "source": [
    "pi8_rotated_basis_plot()"
   ]
  },
  {
   "cell_type": "markdown",
   "metadata": {},
   "source": [
    "<h3 style=\"color:#00A6D6;\">Exercise 5 </h3>\n",
    "\n",
    "How can we describe the overall measurement if Alice measures in the basis $\\{|0\\rangle_A, |1\\rangle_A\\}$ and Bob - as defined just above - measures in the basis $\\{|0_L\\rangle_B,|1_L\\rangle_B\\}$  ?\n",
    "\n",
    "Clearly we expect the overall measurement to have 4 outcomes, 0 or 1 for Alice, as well as 0 and 1 for Bob. This is indeed the case, and we can compute the outcome probabilities by taking the basis for Alice and the one for Bob, and constructing the basis for both qubits together.\n",
    "\n",
    "This can be done using the tensor product. Find the <b> measurement basis for A and B combined_L</b>:\n",
    "\n",
    "1. $|0\\rangle_A \\otimes |0_L\\rangle_B$\n",
    "2. $|0\\rangle_A \\otimes |1_L\\rangle_B$\n",
    "3. $|1\\rangle_A \\otimes |0_L\\rangle_B$\n",
    "4. $|1\\rangle_A \\otimes |1_L\\rangle_B$\n",
    "\n",
    "For clarity we have filled in the first coefficient for the first listed tensor product:\n",
    "\n",
    "1. $|0\\rangle_A \\otimes |0_L\\rangle_B = \\begin{pmatrix} cos(\\frac{\\pi}{8}) \\\\ ? \\\\ ? \\\\ ? \\end{pmatrix}$\n",
    "\n",
    "Find such exact vector representations for the tensor products (1.), (2.), (3.) and (4.)."
   ]
  },
  {
   "cell_type": "code",
   "execution_count": null,
   "metadata": {
    "jupyter": {
     "outputs_hidden": true
    }
   },
   "outputs": [],
   "source": []
  },
  {
   "cell_type": "markdown",
   "metadata": {},
   "source": [
    "To check your answer, use the Julia snippet below!"
   ]
  },
  {
   "cell_type": "code",
   "execution_count": null,
   "metadata": {
    "jupyter": {
     "outputs_hidden": false
    }
   },
   "outputs": [],
   "source": [
    "# Let's first define Alice's basis. She measures in the standard basis\n",
    "alice0 = [1 ; 0];\n",
    "alice1 = [0 ; 1];\n",
    "\n",
    "# Let's now define Bob's basis.\n",
    "bob0 = [cos(pi/8); sin(pi/8)];\n",
    "bob1 = [- sin(pi/8); cos(pi/8)];\n",
    "\n",
    "# Compute the combined basis - your code goes here!\n",
    "cb_1 = kron(alice0,bob0)\n",
    "cb_2 = ...\n",
    "cb_3 = ...\n",
    "cb_4 = ...\n",
    "\n",
    "# To print, let's round \n",
    "digits = 3;\n",
    "cb_1r = round(cb_1,digits);\n",
    "cb_2r = round(cb_2,digits);\n",
    "cb_3r = round(cb_3,digits);\n",
    "cb_4r = round(cb_4,digits);\n",
    "\n",
    "println(\"combined basis (1.): $cb_1r^T \\n\")\n",
    "println(\"combined basis (2.): $cb_2r^T \\n\")\n",
    "println(\"combined basis (3.): $cb_3r^T \\n\")\n",
    "println(\"combined basis (4.): $cb_4r^T \\n\")"
   ]
  },
  {
   "cell_type": "markdown",
   "metadata": {},
   "source": [
    "<h3 style=\"color:#00A6D6;\"> Exercise 6 </h3>\n",
    "\n",
    "Suppose now that Alice and Bob measure in the basis we constructed above. And let's suppose they measure the EPR pair \n",
    "\n",
    "$$ | \\Phi \\rangle = \\frac{ |0\\rangle \\otimes |0\\rangle + |1\\rangle \\otimes |1\\rangle}{\\sqrt{2}} = \\frac{1}{\\sqrt{2}}\\begin{pmatrix} 1 \\\\ 0 \\\\ 0 \\\\ 1\\end{pmatrix}\\:.$$\n",
    "\n",
    "What are the probabilities \n",
    "\n",
    "$$ p_{xy} = \\Big|\\big( \\langle x \\rvert_A \\otimes \\langle y_L \\rvert_B \\big) \\cdot | \\Phi \\rangle \\Big|^2$$\n",
    "\n",
    "of Alice getting outcome $x \\in \\{0,1\\}$ and Bob outcome $y \\in \\{0,1\\}$ rounded to 3 digits ?\n",
    "\n",
    "In other words, what are \n",
    "\n",
    "1. $ p_{00} = \\Big|\\big( \\langle 0\\rvert_A \\otimes \\langle 0_L \\rvert_B \\big) \\cdot | \\Phi \\rangle \\Big|^2$\n",
    "2. $ p_{01} = \\Big|\\big( \\langle 0\\rvert_A \\otimes \\langle 1_L \\rvert_B \\big) \\cdot | \\Phi \\rangle \\Big|^2$\n",
    "3. $ p_{10} = \\Big|\\big( \\langle 1\\rvert_A \\otimes \\langle 0_L \\rvert_B \\big) \\cdot | \\Phi \\rangle \\Big|^2$\n",
    "4. $ p_{11} = \\Big|\\big( \\langle 1\\rvert_A \\otimes \\langle 1_L \\rvert_B \\big) \\cdot | \\Phi \\rangle \\Big|^2$\n",
    "\n",
    "rounded to 3 digits? \n",
    "\n",
    "Help yourself by making use of some code, we have made a draft below."
   ]
  },
  {
   "cell_type": "code",
   "execution_count": null,
   "metadata": {
    "jupyter": {
     "outputs_hidden": false
    }
   },
   "outputs": [],
   "source": [
    "## in case you have succesfully ran the previous code block\n",
    "## the combined basis cb_1 till cb_4 should be defined.\n",
    "\n",
    "## Then let us define the state to be measured\n",
    "\n",
    "Phi = [1;0;0;1]/sqrt(2);\n",
    "\n",
    "# The probabilities follow from the squared inner product\n",
    "# betweeh Phi and the measurement basis \n",
    "p_00 = abs(Phi'*cb_1).^2\n",
    "p_01 = ...\n",
    "p_10 = ...\n",
    "p_11 = ...\n",
    "\n",
    "# We will round the probabilities to 3 digits\n",
    "digits = 3;\n",
    "\n",
    "p_00 = round(p_00,digits=digits)\n",
    "p_01 = ...\n",
    "p_10 = ...\n",
    "p_11 = ...\n",
    "\n",
    "println(\"p_00: $p_00 \\n\")\n",
    "println(\"p_01: $p_01 \\n\")\n",
    "println(\"p_10: $p_10 \\n\")\n",
    "println(\"p_11: $p_11 \\n\")"
   ]
  },
  {
   "cell_type": "markdown",
   "metadata": {},
   "source": [
    "-----\n",
    "<a id=\"transformations\"></a>\n",
    "<h2 style=\"color:#00A6D6;\">Unitary Transformations</h2>\n",
    "\n",
    "You have learned in the book that transformations on qubits, are given by unitary transformations. Let's investigate such transformations in detail. \n",
    "\n",
    "As a warmup let's just define a matrix - the Hadamard transform, and verify that its indeed a unitary\n",
    "\n",
    "$$H = \\frac{1}{\\sqrt{2}}\\begin{pmatrix} 1 & 1 \\\\ 1 & -1 \\end{pmatrix}$$\n"
   ]
  },
  {
   "cell_type": "code",
   "execution_count": null,
   "metadata": {
    "jupyter": {
     "outputs_hidden": false
    }
   },
   "outputs": [],
   "source": [
    "# Define the Hadamard transform as a matrix in Julia\n",
    "tH = [1 1;1 -1]/sqrt(2)"
   ]
  },
  {
   "cell_type": "code",
   "execution_count": null,
   "metadata": {
    "jupyter": {
     "outputs_hidden": false
    }
   },
   "outputs": [],
   "source": [
    "# Let's now check whether the transformation is unitary by computing U' * U\n",
    "U = tH;\n",
    "U' * U"
   ]
  },
  {
   "cell_type": "code",
   "execution_count": null,
   "metadata": {
    "jupyter": {
     "outputs_hidden": false
    }
   },
   "outputs": [],
   "source": [
    "# And also U * U'\n",
    "U * U'"
   ]
  },
  {
   "cell_type": "markdown",
   "metadata": {},
   "source": [
    "As an exercise, you may wish to convince yourself that the Pauli matrices: X, Z and Y - as defined below in the Julia code - are also unitary!"
   ]
  },
  {
   "cell_type": "code",
   "execution_count": null,
   "metadata": {
    "jupyter": {
     "outputs_hidden": false
    }
   },
   "outputs": [],
   "source": [
    "# Pauli X\n",
    "pX = [0 1;1 0];\n",
    "\n",
    "# Pauli Z\n",
    "pZ = [1 0;0 -1];\n",
    "\n",
    "# Pauli Y\n",
    "pY = im * pX * pZ;"
   ]
  },
  {
   "cell_type": "markdown",
   "metadata": {},
   "source": [
    "Let us vizualize the effect of a unitary transformation $U$ on $\\lvert \\psi \\rangle$. What does $U|\\psi\\rangle$ look like?\n",
    "\n",
    "$$\\lvert \\psi(\\theta) \\rangle = \\begin{pmatrix} \\alpha \\\\ \\beta \\end{pmatrix} = \\begin{pmatrix} \\cos\\theta \\\\ \\sin{\\theta} \\end{pmatrix} $$\n",
    "\n",
    "\n",
    "<b> Click in the code block below and press shift+enter.</b>\n",
    "\n",
    "You will see a slider appear which lets you pick $\\theta$.\n",
    "\n",
    "The state vector $\\lvert \\psi(\\theta) \\rangle$ is plotted accordingly.\n",
    "\n",
    "Click the check-box to apply the unitary transformation (by default the Hadmard transformation) to $\\lvert \\psi(\\theta) \\rangle$ and you will see the resulting state vector $U \\lvert \\psi(\\theta) \\rangle$ plotted as well.\n",
    "\n",
    "Vary $\\theta$ to see how $U \\lvert \\psi(\\theta) \\rangle$ and $\\lvert \\psi(\\theta) \\rangle$ change accordingly."
   ]
  },
  {
   "cell_type": "code",
   "execution_count": null,
   "metadata": {
    "jupyter": {
     "outputs_hidden": false
    }
   },
   "outputs": [],
   "source": [
    "U = tH                    # We entered tH as a default. \n",
    "                          # You could also input other real-valued unitaries, for example pX or pZ. \n",
    "\n",
    "unitary_transform_plot(U) # Note, complex valued state vectors are not supported     "
   ]
  },
  {
   "cell_type": "markdown",
   "metadata": {},
   "source": [
    "<h3 style=\"color:#00A6D6;\">Exercise 7</h3>\n",
    "\n",
    "Let's imagine that Alice wants to send a bit $x \\in \\{0,1\\}$ to Bob. Having gone all quantum, however, Alice has lost all means for classical communication. Unfortunately, Alice and Bob also have quite funny quantum devices.\n",
    "\n",
    "Concretely, Alice has a device that can only prepare the state $|+\\rangle$. Thankfully, however, she can apply one of two unitaries $U_0$ and $U_1$ of her choosing transforming her state to $|\\psi_x\\rangle = U_x |+\\rangle$. To be fair, we at least allow Alice some control over her circuit so that Alice can decide to apply $U_x$ depending on her input bit $x\\in\\{0,1\\}$. \n",
    "\n",
    "<img src=\"source/figure_exercise_7.svg\">\n",
    "\n",
    "Alice can now send her state $|\\psi_x \\rangle$ to Bob. Bob can only measure in the standard basis, and will take his measurement outcome $b \\in \\{0,1\\}$ to be the value of $x$. \n",
    "\n",
    "Your goal in this exercise is to come up with a protocol so that Alice can communicate $x$ to Bob, no matter whether $x=0$ or $x=1$. Concretely, your goal is to determine what transformations $U_0$ and $U_1$ she applies for the cases $x=0$, and $x=1$. \n",
    "\n",
    "In other words we ask you to find two unitaries $ U_0$ and $U_1$ that Alice can apply such that the probability that Bob obtains measurement outcome $B=x$ is given by\n",
    "\n",
    "$$ P(B=x) = \\big| \\langle x \\: \\lvert \\: U_x \\: \\rvert \\: + \\rangle \\big|^2 = 1 $$\n",
    "\n",
    "---\n",
    "\n",
    "You can check if you have found two such unitaries by making use of the code block just below.\n",
    "\n",
    "Enter $U_0$ and $U_1$ as is described and you will see the associated $p_0$ and $p_1$."
   ]
  },
  {
   "cell_type": "code",
   "execution_count": null,
   "metadata": {
    "jupyter": {
     "outputs_hidden": false
    }
   },
   "outputs": [],
   "source": [
    "## enter values for U_0 - as a default we have taken the identity matrix\n",
    "U_0 = [1 0;0 1];\n",
    "\n",
    "## enter the second unitary U_1 - as a default we have taken the identity matrix\n",
    "U_1 = [1 0;0 1];\n",
    "\n",
    "# Let's define the standard basis and the plus state\n",
    "v0 = [1; 0];\n",
    "v1 = [0; 1];\n",
    "plus = [1; 1]/sqrt(2);\n",
    "\n",
    "## let's compute the outcome probabilities if Alice applies U_0\n",
    "\n",
    "# first, let's compute the output vector by applying the unitary transformation\n",
    "outVec = U_0 * plus;\n",
    "\n",
    "# then the probability that Bob measures b = 0 is given by the absolute inner product squared:\n",
    "val = v0'*outVec;    \n",
    "p_0 = abs(val[1])^2; # take the square of the absolute value.\n",
    "\n",
    "# same for outcome b = 1\n",
    "val = v1'*outVec;\n",
    "p_1 = abs(val[1])^2;\n",
    "\n",
    "# for printing, let's round the outcomes\n",
    "digits = 3;\n",
    "p_0 = round(p_0, digits=digits);\n",
    "p_1 = round(p_1, digits=digits);\n",
    "\n",
    "println(\"You entered U_0 =\")\n",
    "println(U_0)\n",
    "println(\"For this case the probability of Bob's measurement outcomes are:\")\n",
    "println(\"p_0 = $p_0\")\n",
    "println(\"p_1 = $p_1\")\n",
    "\n",
    "## let's compute the outcome probabilities if Alice applies U_1\n",
    "\n",
    "# first, let's compute the output vector\n",
    "outVec = U_1 * plus;\n",
    "\n",
    "# then the probability that Bob measures b = 0\n",
    "val = v0'*outVec;\n",
    "p_0 = abs(val[1])^2;\n",
    "\n",
    "# the probability that Bob measures b = 1\n",
    "val = v1'*outVec;\n",
    "p_1 = abs(val[1])^2;\n",
    "\n",
    "# for printing, let's round the outcomes\n",
    "digits = 3;\n",
    "p_0 = round(p_0, digits=digits);\n",
    "p_1 = round(p_1, digits=digits);\n",
    "\n",
    "println(\"\\n\\n You entered U_1 =\")\n",
    "println(U_1)\n",
    "println(\"For this case the probability of Bob's measurement outcomes are:\")\n",
    "println(\"p_0 = $p_0\")\n",
    "println(\"p_1 = $p_1\")\n"
   ]
  },
  {
   "cell_type": "markdown",
   "metadata": {},
   "source": [
    "<a id=\"bloch_sphere\"></a>\n",
    "<h2 style=\"color:#00A6D6;\">Bloch Sphere</h2>\n",
    "\n",
    "In the book, we learned a different way to write down a qubit, namely in terms of the Bloch sphere. It is important to understand that this representation is fundamentally distinct from the 2 dimensional vectors we saw above. Instead, recall that qubits are parameterized by angles $\\theta$ and $\\phi$ in the Bloch sphere representation. Be careful to note that we will use $\\theta/2$ here, since we will draw in a very different space in 3D than the one in the plots above.\n",
    "\n",
    "$$\\left| \\psi \\right\\rangle = cos \\frac{\\theta}{2} \\: \\left| 0 \\right\\rangle + e^{i \\cdot \\phi} sin \\frac{\\theta}{2} \\: \\left| 1 \\right\\rangle = \\begin{pmatrix} cos \\frac{\\theta}{2} \\\\ e^{i \\cdot \\phi} sin \\frac{\\theta}{2} \\end{pmatrix}$$\n",
    "\n",
    "Let us now see how the qubits Bloch sphere representation follows from $\\theta$ and $\\phi$. Explore where the state lies in terms of the angles in the animation below.\n",
    "\n",
    "<b> Click in the code bloch below and press shift+enter to run the animation. </b>\n",
    "\n"
   ]
  },
  {
   "cell_type": "code",
   "execution_count": null,
   "metadata": {
    "jupyter": {
     "outputs_hidden": false
    }
   },
   "outputs": [],
   "source": [
    "# One can pick θ, ϕ using the sliders that appear when the code is run.\n",
    "f1 = figure(figsize=(8,8))        # make an empty figure\n",
    "\n",
    "@manipulate for view in [15,-30,60], θ in 0:30:180, ϕ in -180:30:180\n",
    "    b1 = Bloch()         # make an empty Bloch sphere\n",
    "    add_vector(b1,[θ,ϕ]) # add a vector, with \n",
    "    withfig(f1) do\n",
    "        render(b1, view) # render the bloch sphere (incl. the vector)\n",
    "    end\n",
    "end"
   ]
  },
  {
   "cell_type": "markdown",
   "metadata": {},
   "source": [
    "It is instructive to see what happens if we transform a vector on the Bloch sphere with a unitary. As an example let's consider the following state - you may want to adapt it to get more intuition!\n",
    "\n",
    "$$ \\lvert \\psi \\rangle = \\cos\\frac{\\pi}{8} \\cdot \\lvert 0 \\rangle + \\sin\\frac{\\pi}{8} \\cdot \\lvert 1 \\rangle $$\n",
    "\n",
    "$$= \\frac{ \\sqrt{2 + \\sqrt{2} }}{2} \\lvert 0 \\rangle + \\frac{ \\sqrt{2 - \\sqrt{2} }}{2}  \\vert 1 \\rangle $$\n",
    "\n",
    "We'll find the following images\n",
    "\n",
    "1. $ X \\cdot \\lvert \\psi \\rangle $\n",
    "2. $ Y \\cdot \\lvert \\psi \\rangle $\n",
    "3. $ Z \\cdot \\lvert \\psi \\rangle $\n",
    "4. $ H \\cdot \\lvert \\psi \\rangle $\n",
    "\n",
    "By running the code cell below you can see these states represented on the Bloch sphere."
   ]
  },
  {
   "cell_type": "code",
   "execution_count": null,
   "metadata": {
    "jupyter": {
     "outputs_hidden": false
    }
   },
   "outputs": [],
   "source": [
    "α = 0.5*sqrt(2 + sqrt(2)) # the parameters α and β associated with the vector above - change at will.\n",
    "β = 0.5*sqrt(2 - sqrt(2)) # Note, changing α, β could help solve exercise 8.\n",
    "ket = [α; β];             # the associated vector\n",
    "\n",
    "# let us define the transforms\n",
    "pX = [0 1; 1 0]\n",
    "pY = [0 -im; im 0]\n",
    "pZ = [1 0; 0 -1]\n",
    "tH = [1 1; 1 -1]/sqrt(2)\n",
    "\n",
    "# we apply the I,X,Y,Z and H transvorm and find the corresponding Bloch vector using the function ket_to_bloch()\n",
    "v0 = ket_to_bloch(ket)      \n",
    "v1 = ket_to_bloch(pX*ket)    \n",
    "v2 = ket_to_bloch(pY*ket)    \n",
    "v3 = ket_to_bloch(pZ*ket)    \n",
    "v4 = ket_to_bloch(tH*ket)    \n",
    "\n",
    "# let us define a \"dictionary\": \"I\" belongs to v0, \"X\" belongs to v1, etc.\n",
    "vDict = Dict(   \"I\" => v0, \n",
    "                \"X\" => v1, \n",
    "                \"Y\" => v2, \n",
    "                \"Z\" => v3, \n",
    "                \"H\" => v4) \n",
    "\n",
    "# Now vDict[\"X\"] returns the vector v1.\n",
    "#     vDict[\"H\"] returns the vector v4.\n",
    "\n",
    "# let us create a new figure\n",
    "f9 = figure(figsize=(8,8)) \n",
    "\n",
    "# let us manipulate the view angle and the applied transform\n",
    "@manipulate for view in [15,-30,60], transform in [\"I\",\"X\",\"Y\",\"Z\",\"H\"]\n",
    "    \n",
    "    withfig(f9) do\n",
    "        b9 = Bloch()                 # make an empty Bloch sphere\n",
    "        add_vector(b9,v0)            # add the pre-transform Bloch vector\n",
    "        add_vector(b9,vDict[transform])    # add a transformed Bloch vector, \n",
    "                                           # note: vDict[] returns the vector associated with the transform \n",
    "        render(b9,view)      #  plot the Bloch Sphere\n",
    "    end\n",
    "end"
   ]
  },
  {
   "cell_type": "markdown",
   "metadata": {},
   "source": [
    "<h3 style=\"color:#00A6D6;\">Exercise 8 </h3>\n",
    "\n",
    "To become more familiar with the Bloch sphere, we ask you to find angles $\\theta$ and $\\phi$ (in radians) with \n",
    "\n",
    "$$ | \\psi \\rangle = cos \\frac{\\theta}{2} \\: | 0 \\rangle + e^{i \\cdot \\phi} sin \\frac{\\theta}{2} \\: | 1 \\rangle = \\begin{pmatrix} cos \\frac{\\theta}{2} \\\\ e^{i \\cdot \\phi} sin \\frac{\\theta}{2} \\end{pmatrix}$$\n",
    "\n",
    "for the following states\n",
    "\n",
    "1. $|\\psi \\rangle = |+\\rangle$\n",
    "2. $|\\psi \\rangle = \\frac{\\sqrt{3}}{2}|0\\rangle + \\frac{i}{2} \\cdot |1\\rangle $\n",
    "\n",
    "<b style=\"color:#00A6D6;\"> Example </b>\n",
    "\n",
    "To help you get started let us give one example. Let us find $\\theta$ and $\\phi$ associated with\n",
    "\n",
    "$$|\\psi \\rangle = |0\\rangle\\: :$$\n",
    "\n",
    "We are looking for $\\theta$, $\\phi$ such that\n",
    "\n",
    "$$|0\\rangle = cos \\frac{\\theta}{2} \\: | 0 \\rangle + e^{i \\cdot \\phi} sin \\frac{\\theta}{2} \\: | 1 \\rangle $$\n",
    "\n",
    "Thus $$\\alpha = cos \\frac{\\theta}{2} = 1 $$ and $$\\beta = e^{i \\cdot \\phi} sin \\frac{\\theta}{2} = 0 \\:.$$ We find as a solution $\\theta = 0$ ( $\\theta = k \\cdot 2\\pi$, $k$ integer ) with $\\phi$ irrelevant."
   ]
  },
  {
   "cell_type": "code",
   "execution_count": null,
   "metadata": {
    "jupyter": {
     "outputs_hidden": true
    }
   },
   "outputs": [],
   "source": []
  },
  {
   "cell_type": "markdown",
   "metadata": {},
   "source": [
    "<h4 style=\"color:#00A6D6;\"> Supplement to Exercise 8</h4>\n",
    "\n",
    "The code below can be used to vizualize the state on the Bloch sphere. Simply enter values for $\\theta$ and $\\phi$.\n",
    "\n",
    "To plot a state on the Bloch sphere we should determine the associated Bloch vector $v$ (a Cartesian vector):\n",
    "\n",
    "$$v = \\begin{pmatrix} v_x \\\\ v_y \\\\ v_z \\end{pmatrix} \\:.$$\n",
    " \n",
    "It turns out that $\\theta$ and $\\phi$ ---as introduced just now--- are the spherical coordinates coordinates associated with $v$. When it comes to the radial coordinate $r$, it turns out that $r=1$. This follows from $\\langle \\psi | \\psi \\rangle = 1$.\n",
    "\n",
    "Translating from spherical to Cartesian coordinates we recover\n",
    "\n",
    "$$ v = \\begin{pmatrix} \\sin\\theta \\cdot cos\\phi \\\\ \\sin\\theta \\cdot sin\\phi \\\\ \\cos\\theta \\end{pmatrix} $$ \n"
   ]
  },
  {
   "cell_type": "code",
   "execution_count": null,
   "metadata": {
    "jupyter": {
     "outputs_hidden": false
    }
   },
   "outputs": [],
   "source": [
    "theta = 60 # in degrees, change to your liking\n",
    "phi = 90    # in degrees\n",
    "\n",
    "# Side note: In the Julia language, sind(angle) takes as input an angle in degrees.\n",
    "#                                   sin(angle) takes as input an angle in radians.\n",
    "\n",
    "# Here we use degrees and thus sind, cosd\n",
    "\n",
    "bloch_vector = [sind(theta)*cosd(phi); sind(theta)*sind(phi); cosd(theta)]\n",
    "\n",
    "# the above can be altered to your liking, \n",
    "# define θ, ϕ either in terms of degrees or in terms of radians \n",
    "f8 = figure(figsize=(8,8))\n",
    "\n",
    "@manipulate for view in [15,-30,60]\n",
    "    withfig(f8) do\n",
    "        b8 = Bloch()                 # make an empty Bloch sphere\n",
    "        add_element(b8,bloch_vector) # add the vector to be plotted to the sphere\n",
    "        render(b8,view)              #  plot the Bloch Sphere\n",
    "    end\n",
    "end"
   ]
  }
 ],
 "metadata": {
  "@webio": {
   "lastCommId": null,
   "lastKernelId": null
  },
  "anaconda-cloud": {},
  "kernelspec": {
   "display_name": "Julia 1.9.1",
   "language": "julia",
   "name": "julia-1.9"
  },
  "language_info": {
   "file_extension": ".jl",
   "mimetype": "application/julia",
   "name": "julia",
   "version": "1.9.1"
  }
 },
 "nbformat": 4,
 "nbformat_minor": 4
}
