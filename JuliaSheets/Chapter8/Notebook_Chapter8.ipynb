{
 "cells": [
  {
   "cell_type": "markdown",
   "metadata": {},
   "source": [
    "<h1 style=\"color:#00A6D6;\">Introduction to Quantum Cryptography - Jupyter Notebooks</h1>\n",
    "<h2 style=\"color:#00A6D6;\">Chapter 8: Quantum Key Distribution Protocols</h2>\n",
    "\n",
    "Welcome to the new Julia sheet! As usual, we will ask you to use Julia to answer a few exercises. Most importantly, however, the purpose of these Julia sheets is for you to play around and build intuition by exploring and calculating things we do NOT ask you :-) We hope that you take advantage of using Julia this way.\n",
    "\n",
    "In this Julia Jupyter notebook, we focus on exploring the BB84 QKD protocol and the quantum bit error rate (qber), as well as its entangled counterpart!\n",
    "\n",
    "* <a href=\"#bb84\"> BB84 Protocol </a>\n",
    "\n",
    "* <a href=\"#e91\"> E91 Entanglement Based Protocol </a>\n",
    "\n",
    "\n",
    "The include command that follows will include all the functions that you have used on the previous chapters."
   ]
  },
  {
   "cell_type": "code",
   "execution_count": null,
   "metadata": {},
   "outputs": [],
   "source": [
    "include(\"source/main.jl\");"
   ]
  },
  {
   "cell_type": "markdown",
   "metadata": {},
   "source": [
    "<a id=\"bb84\"></a>\n",
    "<h2 style=\"color:#00A6D6;\">BB84 QKD</h2>\n",
    "\n",
    "Let's first explore BB84 QKD, starting with Alice sending BB84 encoded qubits to Bob. When there are no errors, we expect that if Bob measured in the same basis as Alice used,then the outcome measured by Bob is the same as the bit encoded by Alice in a particular round. That is, in the perfect case, we expect the QBER in both bases to be 0.\n",
    "\n",
    "Play around with the piece of code below. "
   ]
  },
  {
   "cell_type": "code",
   "execution_count": null,
   "metadata": {},
   "outputs": [],
   "source": [
    "# Let's define the elements of the BB84 Basis as ket vectors\n",
    "# The first index indicates the basis and the second the basis element\n",
    "v0 = [1 0]';\n",
    "v1 = [0 1]';\n",
    "w0 = ([1 1]')/sqrt(2);\n",
    "w1 = ([1 -1]')/sqrt(2);\n",
    "\n",
    "# The BB84 states. Note that due to Julia indexing from 1 onwards, 1 is the standard basis, and 2 the Hadamard one\n",
    "# Similarly bit x=0 will correspond to index 1, and x=1 to index 2\n",
    "BB84 = [[v0] [v1]; [w0] [w1]];\n",
    "\n",
    "# Let's set how long a BB84 string Alice and Bob will produce\n",
    "n = 100;\n",
    "\n",
    "# Let's now do BB84!\n",
    "xA = zeros(Int8,n); \n",
    "xB = zeros(Int8,n); \n",
    "thetaA = zeros(Int8,n);\n",
    "thetaB = zeros(Int8,n);\n",
    "errorCount = [0;0];\n",
    "sameBasis = [0;0];\n",
    "diffBasis = 0;\n",
    "sameOutcomeAnyways = 0;\n",
    "\n",
    "for i = 1:n\n",
    "\n",
    "        # Alice picks a random BB84 state\n",
    "        # Bit of the string\n",
    "        xA[i] = rand(1:2);\n",
    "        # Basis to encode in\n",
    "        thetaA[i] = rand(1:2);\n",
    "    \n",
    "    \n",
    "        # Here Alice would send the state to Bob\n",
    "        Psi = BB84[thetaA[i],xA[i]][1:2];\n",
    "    \n",
    "        # Bob picks a random basis\n",
    "        thetaB[i] = rand(1:2);\n",
    "    \n",
    "        # and measures in that basis\n",
    "        p0 = round((abs(((BB84[thetaB[i],1][1:2])' * Psi)))^2; digits=10);\n",
    "        p1 = 1-p0;\n",
    "    \n",
    "        # Sample from {0,1} where p1 is given \n",
    "        rndDist = Binomial(1,p1);\n",
    "        outcome = rand(rndDist);\n",
    "        \n",
    "        # Print basis used - comment/uncomment as desired\n",
    "        # print(\"Alice used basis \", thetaA[i]-1, \" with bit \", xA[i]-1,\" and Bob measured in basis \", thetaB[i]-1, \" and got outcome \", outcome, \"\\n\");\n",
    "    \n",
    "        # Compute potential errors\n",
    "        if (thetaA[i] == thetaB[i])\n",
    "            # Alice and Bob measured in the same basis\n",
    "            sameBasis[thetaA[i]] = sameBasis[thetaA[i]] + 1;\n",
    "            if (xA[i] != (outcome+1))\n",
    "                # this is an error\n",
    "                errorCount[thetaA[i]] = errorCount[thetaA[i]] + 1;\n",
    "            end\n",
    "        else\n",
    "            # Alice and Bob measured in different basis, we will ignore this in the protocol but print for understanding\n",
    "            diffBasis = diffBasis + 1;\n",
    "            if (xA[i] == (outcome+1))\n",
    "                sameOutcomeAnyways = sameOutcomeAnyways + 1;\n",
    "            end\n",
    "        end\n",
    "end\n",
    "\n",
    "# Let's print the quantum bit error rate in the standard basis\n",
    "qberZ = errorCount[1]/sameBasis[1];\n",
    "print(\"QBER in the standard basis: \", qberZ, \"\\n\");\n",
    "\n",
    "qberX = errorCount[2]/sameBasis[2];\n",
    "print(\"QBER in the Hadamard basis: \", qberX, \"\\n\");\n",
    "\n",
    "# For fun, lets also print what happens for the bits not in the same basis\n",
    "sameDiffBasis = sameOutcomeAnyways/diffBasis;\n",
    "print(\"Rate different basis but same outcome: \", sameDiffBasis, \"\\n\");\n"
   ]
  },
  {
   "cell_type": "markdown",
   "metadata": {},
   "source": [
    "<h3 style=\"color:#00A6D6;\"> Exercise 1</h3>\n",
    "Examine what happens during the execution of BB84 using the code given above. \n",
    "<ul>\n",
    "<li> When choosing a small value for $n$, print out what happens in each round by uncommenting the printing line above. What do you observe?</li>\n",
    "    <li> Why is the QBER in both bases 0 in the case above? Did you expect this?</li>\n",
    "    <li> Look at the success rate with which Bob nevertheless gets the same outcome, even if they measured in the different basis. What do you observe as you make $n$ large?</li>\n",
    " </ul>\n",
    "        \n"
   ]
  },
  {
   "cell_type": "markdown",
   "metadata": {},
   "source": [
    "<h3 style=\"color:#00A6D6;\"> Exercise 2</h3>\n",
    "\n",
    "Let's now imagine that the quantum communication channel from Alice to Bob is not noise free, but that an error occurs. Specifically, let's imagine that we have one of the following two errors:\n",
    "<ul> \n",
    "    <li>With probability $q$, a phase flip $Z$ is applied to the state sent by Alice.</li>\n",
    "    <li> With probability $q$, a bit flip $X$ is applied to the state sent by Alice</li>\n",
    "   </ul>\n",
    "Adapt the code above to investigate what happens in each of the two cases. What do you observe for the QBER in the standard and Hadamard basis? Is this what you expected? To do so, the example code of how to introduce errors may be useful."
   ]
  },
  {
   "cell_type": "code",
   "execution_count": null,
   "metadata": {},
   "outputs": [],
   "source": [
    "# phase flip Z\n",
    "Z = [1 0;0 -1];\n",
    "\n",
    "# bit flip X\n",
    "X = [0 1;1 0];\n",
    "\n",
    "# Let's see how we could simulate a noisy channel that applies an error matrix with probability q to an example state\n",
    "Psi = BB84[1,1][1:2];\n",
    "errPsi = Psi;\n",
    "q = 0.9 # error probability\n",
    "errorRnd = Bernoulli(q);\n",
    "error = rand(errorRnd);\n",
    "if error\n",
    "    errPsi = X * Psi;\n",
    "end\n",
    "print(\"Input state was \",Psi,\" output state is \", errPsi, \"\\n\");"
   ]
  },
  {
   "cell_type": "code",
   "execution_count": null,
   "metadata": {},
   "outputs": [],
   "source": [
    "# Your code goes here, where you may want to start by copy pasting the BB84 code above and adapting it."
   ]
  },
  {
   "cell_type": "markdown",
   "metadata": {},
   "source": [
    "In the book, we saw that the asymptotic key rate in BB84 (using one way discussion) is given by $1-h(qber)$, where $qber$ is the quantum bit error rate. This means that asymptotically, we could hope to obtain $n (1-h(qber))$ key bits from a raw key of size $n$."
   ]
  },
  {
   "cell_type": "code",
   "execution_count": null,
   "metadata": {},
   "outputs": [],
   "source": [
    "# Compute the binary entropy\n",
    "function binEntropy(p) \n",
    "    entropy = -p * log2(p) - (1-p) * log2(1-p);\n",
    "    return entropy\n",
    "end\n",
    "\n",
    "# Compute the asymptotic secret key length given n and QBER p\n",
    "function secretKey(n,p)\n",
    "    skr = n * (1 - binEntropy(p));\n",
    "    return skr\n",
    "end\n",
    "\n",
    "p = range(0,1, length=100);\n",
    "binEnt = binEntropy.(p);\n",
    "plot(p,binEnt)\n",
    "xlabel(\"p\")\n",
    "ylabel(\"h(p)\")\n",
    "PyPlot.title(\"Binary entropy\")\n",
    "grid(\"on\")\n",
    "\n"
   ]
  },
  {
   "cell_type": "markdown",
   "metadata": {},
   "source": [
    "\n",
    "<h3 style=\"color:#00A6D6;\">Exercise 3</h3>\n",
    "Let's investigate the binary entropy function in terms of the qber. For what values of $qber$ can we hope to produce key at all?"
   ]
  },
  {
   "cell_type": "code",
   "execution_count": null,
   "metadata": {},
   "outputs": [],
   "source": [
    "# Your code goes here"
   ]
  },
  {
   "cell_type": "markdown",
   "metadata": {},
   "source": [
    "<a id=\"e91\"></a>\n",
    "<h2 style=\"color:#00A6D6;\">E91 Entanglement Based QKD</h2>\n",
    "\n",
    "Let us now look at the protocol, where Alice and Bob share an EPR pair and make measurements in random basis (standard/Hadamard). This was discovered independently as E91 and paved the way for proving the security of QKD, which is difficult in the prepare and measure version of BB84. Nevertheless, as we saw in the book, the two are in fact equivalent! \n",
    "\n",
    "Let us now first explore the E91 version using the code given below."
   ]
  },
  {
   "cell_type": "code",
   "execution_count": null,
   "metadata": {},
   "outputs": [],
   "source": [
    "# Let's define the elements of the BB84 Basis as ket vectors\n",
    "# The first index indicates the basis and the second the basis element\n",
    "v0 = [1 0]';\n",
    "v1 = [0 1]';\n",
    "w0 = ([1 1]')/sqrt(2);\n",
    "w1 = ([1 -1]')/sqrt(2);\n",
    "\n",
    "# The BB84 states. Note that due to Julia indexing from 1 onwards, 1 is the standard basis, and 2 the Hadamard one\n",
    "# Similarly bit x=0 will correspond to index 1, and x=1 to index 2\n",
    "BB84 = [[v0] [v1]; [w0] [w1]];\n",
    "\n",
    "# Entangled input state they will use\n",
    "epr = ([1 0 0 1])/sqrt(2);\n",
    "rhoAB = epr' * epr;\n",
    "\n",
    "# Build the basis measurements on Alice and Bob's side, we will keep them around for potential future use\n",
    "# We will also compute the probabilities of outcomes immediately\n",
    "measAB = Dict();\n",
    "outcomeProb = Dict();\n",
    "for thetaA = 1:2\n",
    "    for thetaB = 1:2\n",
    "        outcomeProb[(thetaA,thetaB)] = zeros(4);\n",
    "        pcount = 1;\n",
    "        for xA = 1:2\n",
    "            for xB = 1:2\n",
    "                a = BB84[thetaA,xA][1:2];\n",
    "                b = BB84[thetaB,xB][1:2]; \n",
    "\n",
    "                # Construct the measurement operator on A and B\n",
    "                measAB[(thetaA,xA,thetaB,xB)] = kron(a*a', b*b');\n",
    "\n",
    "                # compute the outcome probability on rho that we will sample from later, and add it to a probability vector\n",
    "                outcomeProb[(thetaA,thetaB)][pcount] = tr(rhoAB *  measAB[(thetaA,xA,thetaB,xB)]);\n",
    "                pcount = pcount + 1;\n",
    "            end\n",
    "        end\n",
    "    end\n",
    "end\n",
    "\n",
    "\n",
    "# Let's set how long a BB84 string Alice and Bob will produce\n",
    "n = 100;\n",
    "\n",
    "# Let's now do BB84!\n",
    "xA = zeros(Int8,n); \n",
    "xB = zeros(Int8,n); \n",
    "thetaA = zeros(Int8,n);\n",
    "thetaB = zeros(Int8,n);\n",
    "errorCount = [0;0];\n",
    "sameBasis = [0;0];\n",
    "diffBasis = 0;\n",
    "sameOutcomeAnyways = 0;\n",
    "\n",
    "for i = 1:n\n",
    "  \n",
    "        # Alice picks a random basis\n",
    "        thetaA[i] = rand(1:2);\n",
    "    \n",
    "        # Bob picks a random basis\n",
    "        thetaB[i] = rand(1:2);\n",
    "    \n",
    "        # Sample from the outcome distribution\n",
    "        # outcomes mean 1 -> 00, 2 -> 01, 3 -> 10, 4 -> 11\n",
    "        rng = Multinomial(1,outcomeProb[(thetaA[i],thetaB[i])]);\n",
    "        outcome = rand(rng);\n",
    "        if outcome[1] == 1\n",
    "            aliceOutcome = 0;\n",
    "            bobOutcome = 0;\n",
    "        elseif outcome[2] == 1\n",
    "            aliceOutcome = 0;\n",
    "            bobOutcome = 1;\n",
    "        elseif outcome[3] == 1\n",
    "            aliceOutcome = 1;\n",
    "            bobOutcome = 0;\n",
    "        elseif outcome[4] == 1\n",
    "            aliceOutcome = 1;\n",
    "            bobOutcome = 1;\n",
    "        end\n",
    "        \n",
    "        # Print basis used - comment/uncomment as desired\n",
    "        # print(\"Alice used basis \", thetaA[i]-1, \" with bit \", aliceOutcome ,\" and Bob measured in basis \", thetaB[i]-1, \" and got outcome \", bobOutcome, \"\\n\");\n",
    "    \n",
    "        # Compute potential errors\n",
    "        if (thetaA[i] == thetaB[i])\n",
    "            # Alice and Bob measured in the same basis\n",
    "            sameBasis[thetaA[i]] = sameBasis[thetaA[i]] + 1;\n",
    "            if (aliceOutcome != bobOutcome)\n",
    "                # this is an error\n",
    "                errorCount[thetaA[i]] = errorCount[thetaA[i]] + 1;\n",
    "            end\n",
    "        else\n",
    "            # Alice and Bob measured in different basis, we will ignore this in the protocol but print for understanding\n",
    "            diffBasis = diffBasis + 1;\n",
    "            if (aliceOutcome == bobOutcome)\n",
    "                sameOutcomeAnyways = sameOutcomeAnyways + 1;\n",
    "            end\n",
    "        end\n",
    "end\n",
    "\n",
    "# Let's print the quantum bit error rate in the standard basis\n",
    "qberZ = errorCount[1]/sameBasis[1];\n",
    "print(\"QBER in the standard basis: \", qberZ, \"\\n\");\n",
    "\n",
    "qberX = errorCount[2]/sameBasis[2];\n",
    "print(\"QBER in the Hadamard basis: \", qberX, \"\\n\");\n",
    "\n",
    "# For fun, lets also print what happens for the bits not in the same basis\n",
    "sameDiffBasis = sameOutcomeAnyways/diffBasis;\n",
    "print(\"Rate different basis but same outcome: \", sameDiffBasis, \"\\n\");\n"
   ]
  },
  {
   "cell_type": "markdown",
   "metadata": {},
   "source": [
    "<h3 style=\"color:#00A6D6;\"> Exercise 4</h3>\n",
    "Let's examine again what happens for the following questions that you already took at look at in Exericse 1:\n",
    "<ul>\n",
    "<li> When choosing a small value for $n$, print out what happens in each round by uncommenting the printing line above. What do you observe?</li>\n",
    "    <li> Why is the QBER in both bases 0 in the case above? Did you expect this?</li>\n",
    "    <li> Look at the success rate with which Bob nevertheless gets the same outcome, even if they measured in the different basis. What do you observe as you make $n$ large?</li>\n",
    " </ul>\n",
    "        "
   ]
  },
  {
   "cell_type": "markdown",
   "metadata": {},
   "source": [
    "<h3 style=\"color:#00A6D6;\"> Exercise 5</h3>\n",
    "\n",
    "Let's again imagine that errors occur. Imagine that either:\n",
    "<ul> \n",
    "    <li>With probability $q$, a phase flip $Z$ is applied to Alice's qubit before measuring.</li>\n",
    "    <li> With probability $q$, a bit flip $X$ is applied to Alice's qubit before measuring</li>\n",
    "   </ul>\n",
    "Adapt the code above to investigate what happens in each of the two cases. What do you observe for the QBER in the standard and Hadamard basis? Is this what you expected? To do so, the example code of how to introduce errors may be useful."
   ]
  },
  {
   "cell_type": "code",
   "execution_count": null,
   "metadata": {},
   "outputs": [],
   "source": [
    "# Your code goes here."
   ]
  },
  {
   "cell_type": "markdown",
   "metadata": {},
   "source": [
    "<h3 style=\"color:#00A6D6;\"> Exercise 6</h3>\n",
    "Repeat the exercise above, but this time apply the noise to Bob's qubit. Does this matter? And, is this what you expected?"
   ]
  },
  {
   "cell_type": "code",
   "execution_count": null,
   "metadata": {},
   "outputs": [],
   "source": [
    "# Your code goes here."
   ]
  }
 ],
 "metadata": {
  "@webio": {
   "lastCommId": "83dccaded479430b852f4410459e7fc7",
   "lastKernelId": "3a826938-64cc-4b18-94ba-572f32ca0503"
  },
  "anaconda-cloud": {},
  "kernelspec": {
   "display_name": "Julia 1.9.1",
   "language": "julia",
   "name": "julia-1.9"
  },
  "language_info": {
   "file_extension": ".jl",
   "mimetype": "application/julia",
   "name": "julia",
   "version": "1.9.1"
  }
 },
 "nbformat": 4,
 "nbformat_minor": 4
}
