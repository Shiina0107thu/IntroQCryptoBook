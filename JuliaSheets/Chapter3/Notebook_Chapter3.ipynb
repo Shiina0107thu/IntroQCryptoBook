{
 "cells": [
  {
   "cell_type": "markdown",
   "metadata": {},
   "source": [
    "<h1 style=\"color:#00A6D6;\">Introduction to Quantum Cryptography - Jupyter Notebooks</h1>\n",
    "<h2 style=\"color:#00A6D6;\">Chapter 3: Quantum Money</h2>\n",
    "\n",
    "Welcome to the new Julia sheet! As usual, we will ask you to use Julia to answer a few exercises. Most importantly, however, the purpose of these Julia sheets is for you to play around and build intuition by exploring and calculating things we do NOT ask you :-) We hope that you take advantage of using Julia this way.\n",
    "\n",
    "In this Julia Jupyter notebook, we focus on exploring Wiesner's quantum money scheme in more detail!\n",
    "\n",
    "* <a href=\"#wiesner\"> Wiesner's Quantum Money </a>\n",
    "\n",
    "The include command that follows will include all the functions that you have used on the previous chapters."
   ]
  },
  {
   "cell_type": "code",
   "execution_count": null,
   "metadata": {
    "scrolled": false
   },
   "outputs": [],
   "source": [
    "include(\"source/main.jl\");"
   ]
  },
  {
   "cell_type": "markdown",
   "metadata": {},
   "source": [
    "<a id=\"bb84\"></a>\n",
    "<h2 style=\"color:#00A6D6;\">Wiesner's quantum money</h2>\n",
    "\n",
    "In the below we will investigate some features of Wiesner's quantum money scheme using very tiny quantum coins. As you may recall from the book, in this we would like to implement both an ability to generate using a procedure GEN, supplying us with a serial number, a quantum coin state, as well as the corresponding key. The bank will use GEN, and pass the serial number and the quantum coin state to the coin carrier. The bank is able to verify coins using a verification procedure VER that checks whether a supplied coin state with a specific serial number matches the key stored. For Wiesner's scheme this looks more specifically like this:\n",
    "\n",
    "<ul>\n",
    "    <li>The bank executes $GEN(1^n)$ producing a serial number $S$, a quantum coin state $|\\Psi_S\\rangle$, and key $k$. Here, $k = (x,\\theta)$, where $x \\in \\{0,1\\}^n$ and $\\theta \\in \\{0,1\\}^n$ are generated uniformly at random. The coin state is prepared as $$|\\Psi_S\\rangle = \\bigotimes_{i=0}^{n-1} H^{\\theta_i} |x_i\\rangle\\ , $$ where $H$ is the Hadamard matrix, and $\\{|0\\rangle,|1\\rangle\\}$ the standard basis. The bank keeps $(S,k)$, and hands $|\\Psi_S\\rangle$ to a customer.</li>\n",
    "    <li> The bank allows a verification service $VER$ that can be used to verify coins. It takes as input a serial number $S$, and a coin state $\\sigma$. Given $S$, the bank looks up the matching key $k$, and measures qubit $i$ of $\\sigma$ in the basis given by $\\theta_i$ to obtain outcome $\\tilde{x}_i$. If $\\tilde{x}_i = x_i$ for all $i$, the the bank accepts. Otherwise the bank rejects the verification.\n",
    "</ul>"
   ]
  },
  {
   "cell_type": "code",
   "execution_count": null,
   "metadata": {},
   "outputs": [],
   "source": [
    "# Let's define the elements of the BB84 Basis as ket vectors\n",
    "# The first index indicates the basis and the second the basis element\n",
    "v0 = [1 0]';\n",
    "v1 = [0 1]';\n",
    "w0 = ([1 1]')/sqrt(2);\n",
    "w1 = ([1 -1]')/sqrt(2);\n",
    "\n",
    "# The BB84 states. Note that due to Julia indexing from 1 onwards, 1 is the standard basis, and 2 the Hadamard one\n",
    "# Similarly bit x=0 will correspond to index 1, and x=1 to index 2\n",
    "BB84 = [[v0] [v1]; [w0] [w1]];\n",
    "\n",
    "# Let's set how long a coin Alice and Bob will produce. \n",
    "n = 50;\n",
    "\n",
    "# For this example, we will just use a fixed serial number\n",
    "S = 1;\n",
    "\n",
    "# Strings to be produced\n",
    "x = zeros(Int8,n); \n",
    "theta = zeros(Int8,n);\n",
    "coin = Dict();\n",
    "\n",
    "# Generate the coin, we will keep is separated by qubit where i will index the qubit\n",
    "for i = 1:n\n",
    "\n",
    "        # Alice picks a random BB84 state\n",
    "        # Bit of the string\n",
    "        x[i] = rand(0:1);\n",
    "        # Basis to encode in\n",
    "        theta[i] = rand(0:1);\n",
    "    \n",
    "        # Here Alice would send the state to Bob\n",
    "        coin[i] = BB84[theta[i]+1,x[i]+1][1:2];\n",
    "\n",
    "end\n",
    "\n",
    "# print(\"Generated quantum money with serial number \", S, \" key (\", x, \",\", theta, \") and coin state: \", coin, \"\\n\");\n"
   ]
  },
  {
   "cell_type": "markdown",
   "metadata": {},
   "source": [
    "<h3 style=\"color:#00A6D6;\"> Exercise 1</h3>\n",
    "Let's verify some coins! Use the code above to produce some - randomly generated coins - and verify them! Did you expect to see any wrong outcomes?"
   ]
  },
  {
   "cell_type": "code",
   "execution_count": null,
   "metadata": {},
   "outputs": [],
   "source": [
    "# Verify the coin, since we set S to be a constant in this example, we will just ignore S\n",
    "\n",
    "# Use the key k=(x,theta) to determine what should be the correct coin state\n",
    "wrongOutcomes = 0;\n",
    "for i = 1:n\n",
    "        # Check whether the i-th coin matches\n",
    "\n",
    "        # Compute the probability of getting the correct outcome\n",
    "        p0 = round((((BB84[theta[i]+1,x[i]+1][1:2])' * coin[i]))^2; digits=10);\n",
    "\n",
    "        # and the wrong outcome\n",
    "        p1 = 1-p0;\n",
    "\n",
    "        # Sample from {0,1} where p1 is given to simulate the measurement \n",
    "        rndDist = Binomial(1,p1);\n",
    "        outcome = rand(rndDist);\n",
    "\n",
    "        if outcome == 1\n",
    "            # wrong outcome\n",
    "            wrongOutcomes = wrongOutcomes + 1;\n",
    "        end\n",
    "    \n",
    "end\n",
    "\n",
    "print(\"Error rate: \", wrongOutcomes/n, \"\\n\");\n"
   ]
  },
  {
   "cell_type": "markdown",
   "metadata": {},
   "source": [
    "<h3 style=\"color:#00A6D6;\"> Exercise 2</h3>\n",
    "\n",
    "Let's now imagine that we have an honest user of the bank, but his quantum memory is not perfect. Specifically, imagine that while in memory, the quantum coin undergoes noise described by one of the following two types of noise:\n",
    "<ul> \n",
    "    <li>With probability $q$, a phase flip $Z$ is applied to each qubit.</li>\n",
    "    <li> With probability $q$, a bit flip $X$ is applied to each qubit.</li>\n",
    "   </ul>\n",
    "Adapt the code above to investigate what happens in each of the two cases. Examine the relationship between the probability $q$, and the error rate in the verification procedure. "
   ]
  },
  {
   "cell_type": "code",
   "execution_count": null,
   "metadata": {},
   "outputs": [],
   "source": [
    "# Below you can find a piece of example code that applies random noise to a specific BB84 state.\n",
    "# Adapt the code below to apply errors to the qubits of the coin, and run the verification procedure on the noisy coin. \n",
    "# You may wish to copy paste the verification code above below\n",
    "\n",
    "# phase flip Z\n",
    "Z = [1 0;0 -1];\n",
    "\n",
    "# bit flip X\n",
    "X = [0 1;1 0];\n",
    "\n",
    "# Example: Let's see how we could simulate a noisy channel that applies an error matrix with probability q to an example state\n",
    "Psi = BB84[1,1][1:2];\n",
    "errPsi = Psi;\n",
    "q = 0.9 # error probability\n",
    "errorRnd = Bernoulli(q);\n",
    "error = rand(errorRnd);\n",
    "if error\n",
    "    errPsi = X * Psi;\n",
    "end\n",
    "print(\"Input state was \",Psi,\" output state is \", errPsi, \"\\n\");"
   ]
  },
  {
   "cell_type": "markdown",
   "metadata": {},
   "source": [
    "<h3 style=\"color:#00A6D6;\">Exercise 3</h3>\n",
    "In the case that the coins undergo noise, when would the verification procedure of the bank accept? It is intuitively clear that in this case, the bank might need to allow some small error rate $\\epsilon$ of errors and still accept the verification as being correct. This would allow a quantum money scheme that is tolerant to some amount of noise in the quantum devices used to store or communicate the coins. Think about ways to adapt the verification procedure, where you may wish to experiment using Julia below."
   ]
  },
  {
   "cell_type": "code",
   "execution_count": null,
   "metadata": {},
   "outputs": [],
   "source": [
    "# Your code goes here"
   ]
  },
  {
   "cell_type": "markdown",
   "metadata": {},
   "source": [
    "<h3 style=\"color:#00A6D6;\"> Exercise 4</h3>\n",
    "Your goal in this exercise will be to try and cheat!\n",
    "<ul>\n",
    "    <li>Imagine that you have never interacted with the bank before. Your goal is to come up with a state $\\sigma = \\rho^{\\otimes n}$ (for simplicity) for which the bank may (depending on its tolerance to errors above!) still want to accept. That is your goal is to find a state $\\rho$ that makes the error rate in verification low. Test your state by adapting the code above. Note that the code above assumes the coin is a tensor product of states (to avoid using too much memory in these examples!) and for each qubit i, the coin coin[i] is given as a ket vector. </li>\n",
    "    <li> For $n=1$, investigate the cloning attack suggested in Chapter 3.5.1. </li>\n",
    "</ul>\n"
   ]
  },
  {
   "cell_type": "code",
   "execution_count": null,
   "metadata": {},
   "outputs": [],
   "source": [
    "# Your code goes here. Note that his requires executing the code above, which also sets n.\n",
    "# you may wish to experiment with different values of n above\n",
    "\n",
    "# As an example, we use sigma to be a cheating coin where each qubit is simply rho = |0><0|\n",
    "cheatingCoin = Dict()\n",
    "for i = 1:n\n",
    "        cheatingCoin[i] = [1 ; 0]; # Adapt this\n",
    "end\n",
    "\n",
    "# Run the verification procedure given above using the cheatingCoin\n",
    "wrongOutcomes = 0;\n",
    "for i = 1:n\n",
    "        # Check whether the i-th coin matches\n",
    "\n",
    "        # Compute the probability of getting the correct outcome\n",
    "        p0 = round((((BB84[theta[i]+1,x[i]+1][1:2])' * cheatingCoin[i]))^2; digits=10);\n",
    "\n",
    "        # and the wrong outcome\n",
    "        p1 = 1-p0;\n",
    "\n",
    "        # Sample from {0,1} where p1 is given to simulate the measurement \n",
    "        rndDist = Binomial(1,p1);\n",
    "        outcome = rand(rndDist);\n",
    "\n",
    "        if outcome == 1\n",
    "            # wrong outcome\n",
    "            wrongOutcomes = wrongOutcomes + 1;\n",
    "        end\n",
    "    \n",
    "end\n",
    "\n",
    "print(\"Error rate: \", wrongOutcomes/n, \"\\n\");"
   ]
  }
 ],
 "metadata": {
  "@webio": {
   "lastCommId": null,
   "lastKernelId": null
  },
  "anaconda-cloud": {},
  "kernelspec": {
   "display_name": "Julia 1.9.1",
   "language": "julia",
   "name": "julia-1.9"
  },
  "language_info": {
   "file_extension": ".jl",
   "mimetype": "application/julia",
   "name": "julia",
   "version": "1.9.1"
  }
 },
 "nbformat": 4,
 "nbformat_minor": 4
}
