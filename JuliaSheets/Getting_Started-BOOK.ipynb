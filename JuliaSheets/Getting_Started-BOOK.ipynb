{
 "cells": [
  {
   "cell_type": "markdown",
   "metadata": {},
   "source": [
    "<h1 style=\"color:#00A6D6;\">Introduction to Quantum Cryptography - Jupyter Notebooks</h1>\n",
    "<h2 style=\"color:#00A6D6;\">Getting Started</h2>"
   ]
  },
  {
   "cell_type": "markdown",
   "metadata": {},
   "source": [
    "### Welcome\n",
    "\n",
    "Welcome to the first Jupyter notebook provided alongside the book ***Introduction to Quantum Cryptography***. The purpose of these notebooks is to help you sharpen your understanding and gain intuition by calculating and vizualizing many elements of the book. \n",
    "\n",
    "First off, <b>what is a Jupyter notebook?</b> A Jupyter notebook is viewed in the browser and takes, as the name suggests, the role of a notebook. A Jupyter notebooks allows us to combine text, equations and images with functional computer code.\n",
    "In other words, Jupyter notebooks allow us to work on the computer similarly as one would using an ordinary notebook and a graphical calculator.\n",
    "Here, computer code is implemented that makes calculations and plots graphs for us. \n",
    "The most common computer languages used in Jupyter notebooks are Julia, Python and R. This explains the choice of name Ju(lia)pyt(thon)(e)r.\n",
    "\n",
    "The notebooks provided throughout this course make use of code written in the Julia language, which is relatively simple to understand even if you have never done any programming.\n",
    "\n",
    "<h4>Accessible notebooks</h4>\n",
    "\n",
    "In case you are not familiar with computer code, no worries. The notebooks are meant to be accessible and <b>very little previous knowledge on computer code is required</b>.The Julia code that is used throughout these notebooks works from the get go.\n",
    "\n",
    "By making use of the <b>interactive elements</b>, you can <b>explore quantum cryptography</b> in more detail.\n",
    "\n",
    "To illustrate, <b>please click inside the box of code just below and press shift-enter.</b>\n",
    "\n",
    "You will see a slider appear that can be used to interact with the code. Shift it left and right and see what happens! If you have any problems executing this example, we recommend you go to Kernel>Restart&Clear Output and try again. If you are NOT using mybinder but a local install: if you have troubles running the interactive elements on your local installation and you are viewing this using jupyter labs, you can try to refresh the page (without restarting the kernel). If this does not work for you, please use jupyter notebook instead of jupyter labs to run the sheets that have interactive elements."
   ]
  },
  {
   "cell_type": "code",
   "execution_count": null,
   "metadata": {
    "scrolled": true
   },
   "outputs": [],
   "source": [
    "using Interact\n",
    "\n",
    "print(\"n^2 =\"); # print the text \"n^2 = \"\n",
    "@manipulate for n in 0:10; # lets us manipulate the value of the parameter `n` in the range 0 to 10   \n",
    "    n^2;                   # calculate and display the value of n squared\n",
    "end"
   ]
  },
  {
   "cell_type": "markdown",
   "metadata": {},
   "source": [
    "Later on in this series of notebooks we will examine many aspects of quantum information. \n",
    "\n",
    "<h4>Play around</h4>\n",
    "\n",
    "Besides playing around with the sliders and buttons, we highly encourage you to tinker with/alter the originally provided code. If you wish, you can make a copy of the original notebooks provides in case you want to go back.\n",
    "\n",
    "To illustrate how you can easily play around in these notebooks, here a basic example of code to calculate the sum of $x$ and $y$.\n",
    "\n",
    "One can click inside the block of code and modify the values assigned to $x$ and $y$. This is done by changing the number after the equality sign into another.\n",
    "\n",
    "<b>Click inside the block of code, change the values of $x$ and $y$, and press shift+enter to execute the code.</b> This allows you to learn the value of $x+y$. \n",
    "\n",
    "Please try it out."
   ]
  },
  {
   "cell_type": "code",
   "execution_count": null,
   "metadata": {
    "collapsed": false,
    "jupyter": {
     "outputs_hidden": false
    }
   },
   "outputs": [],
   "source": [
    "x = 9    # assign a value to x\n",
    "y = 1    # assign a value to y\n",
    "x+y      # calculate and display the value of x+y"
   ]
  },
  {
   "cell_type": "markdown",
   "metadata": {},
   "source": [
    "<b>Note:</b> text following a bracket \"#\" counts as a comment and is not used by the computer in making the calculations.\n",
    "\n",
    "If you are new to programming, you can learn the basics by readint the comments next to the code you could learn about computer code/programming as you go along. \n",
    "\n",
    "If you want to learn more about Julia, here a number of useful links: \n",
    "To quickly get a feel for how one works with Julia see for example <a href=\"https://learnxinyminutes.com/docs/julia/\">Learn X in Y Minutes</a> and <a href=\"http://samuelcolvin.github.io/JuliaByExample/\">Julia By Example</a>. \n",
    "\n",
    "For a detailed introduction to programming using Julia, we can recommend this page for many pointers: <a href=\"https://julialang.org/learning/\">Resources for Learning Julia</a>. Furthermore, <a href=\"http://www.nowozin.net/sebastian/blog/the-julia-language-for-scientific-computing.html\"> this article</a> explains why we have opted to use the Julia programming language.\n",
    "\n",
    "<h4>Editing text and equations</h4>\n",
    "\n",
    "You may also decide to edit the text and/or equations provided as part of these notebooks to add your own thoughts.  \n",
    "By <b>double clicking</b> on the blocks of ordinary text, like this one, the presented <b>text/equations can be editted aswell</b>: One enters the edit mode. Doing so the whole notebook can be editted to your liking! This is the strength of Jupyter. Feel free to write comments to yourself while going through the notebooks.\n",
    "\n",
    "Once you are done editing, the text/equations can be formatted as intended. To do so, again <b>press shift+enter</b> to exit edit mode, as one runs blocks of code.  \n",
    "\n",
    "Furthermore, we can write formulas like the following\n",
    "\n",
    "$$ \\sum_{n=0}^{\\infty} a^n = \\frac{1}{1-a} \\quad \\text{given} \\; \\lvert a \\rvert < 1$$\n",
    "\n",
    "by writing an expression in LaTeX form between dollar signs. One can double click this text block to see how this example is generated.\n",
    "\n",
    "\n",
    "This way of writing formulas on the computer is called <b><a href=\"https://www.mathjax.org/\">Mathjax</a></b>. For more information on writing equations to your liking please visit <a href=\"http://meta.math.stackexchange.com/questions/5020/mathjax-basic-tutorial-and-quick-reference\">this</a>.\n",
    "\n",
    "Note, since the notebook is opened inside a web browser we can for example, add weblinks like the weblink given in this text block. \n",
    "\n",
    "----\n",
    "\n",
    "This finishes this introductory notebook. Go to the folder corresponding to a specific chapter - starting with Chapter 1- to started with the actual quantum crypto related material.\n",
    "\n",
    "If you want, execute the block of code below or write some of your own!"
   ]
  },
  {
   "cell_type": "code",
   "execution_count": null,
   "metadata": {},
   "outputs": [],
   "source": [
    "1+1"
   ]
  }
 ],
 "metadata": {
  "@webio": {
   "lastCommId": null,
   "lastKernelId": null
  },
  "kernelspec": {
   "display_name": "Julia 1.9.1",
   "language": "julia",
   "name": "julia-1.9"
  },
  "language_info": {
   "file_extension": ".jl",
   "mimetype": "application/julia",
   "name": "julia",
   "version": "1.9.1"
  }
 },
 "nbformat": 4,
 "nbformat_minor": 4
}
