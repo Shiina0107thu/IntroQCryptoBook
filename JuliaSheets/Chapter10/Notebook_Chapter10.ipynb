{
 "cells": [
  {
   "cell_type": "markdown",
   "metadata": {},
   "source": [
    "<h1 style=\"color:#00A6D6;\">Introduction to Quantum Cryptography - Jupyter Notebooks</h1>\n",
    "<h2 style=\"color:#00A6D6;\">Chapter 10: Quantum Cryptography beyond Key \n",
    "Distribution </h2>\n",
    "In this notebook, we will investigate several aspects of quantum cryptography beyond Key Distribution. We will look at a proposed protocol for bit commitment and take a look at its security using Uhlman's theorem from Chapter 4. We then continue to look at another protocol for coin flipping with some interesting properties!\n",
    "\n",
    "* <a href=\"#uhl\"> Cheating Bit Commitments using Uhlman's Theorem </a>\n",
    "\n",
    "* <a href=\"#wcp\"> Cheat Sensitive Weak Coin Flipping </a>"
   ]
  },
  {
   "cell_type": "markdown",
   "metadata": {},
   "source": [
    "Notice that the line below will make Julia add and compile several packages. After compiling them it will print several info and warning messages."
   ]
  },
  {
   "cell_type": "code",
   "execution_count": null,
   "metadata": {},
   "outputs": [],
   "source": [
    "include(\"source/main.jl\");"
   ]
  },
  {
   "cell_type": "markdown",
   "metadata": {},
   "source": [
    "<a id=\"uhl\"></a>\n",
    "<h2 style=\"color:#00A6D6;\">Cheating Bit Commitments using Uhlman's theorem </h2>\n",
    "\n",
    "Let's recall Uhlman's theorem from Chapter 4, and investigate what it can tell us about cheating in a bit commitment protocol. Let's consider the following attempt at a simple bit commitment protocol:\n",
    "\n",
    "<ul>\n",
    "    <li>Commit phase:</li>\n",
    "    <ul>\n",
    "    <li>To commit $b = 0$, Alice prepares $$|\\Phi\\rangle = \\frac{1}{\\sqrt{2}}\\left(|00\\rangle + |11\\rangle\\right).$$ To commit $b=1$, she prepares $$|\\Psi\\rangle = \\frac{1}{\\sqrt{2}}\\left(|+0\\rangle + |-1\\rangle\\right).$$</li>\n",
    "    <li>Alice sends the second qubit to Bob.</li>\n",
    "    </ul>\n",
    "    <li>Open phase:</li>\n",
    "    <ul>\n",
    "        <li>Alice sends $b$ to Bob, as well as the first qubit of the state above.</li>\n",
    "        <li> Bob checks whether Alice measured in the correct basis: he measures in the basis $\\{|\\Phi\\rangle\\langle\\Phi|,I-|\\Phi\\rangle\\langle\\Phi|\\}$ for $b=0$, and in the basis $\\{|\\Psi\\rangle\\langle\\Psi|,I-|\\Psi\\rangle\\langle\\Psi|\\}$ for $b=1$.</li>\n",
    "    </ul>\n",
    "</ul>\n"
   ]
  },
  {
   "cell_type": "code",
   "execution_count": null,
   "metadata": {},
   "outputs": [],
   "source": [
    "# Let's investigate the protocol\n",
    "\n",
    "# Bit to be commmitted by Alice (if she is honest)\n",
    "b = 0;\n",
    "\n",
    "# Let's first define the states and measurements to be performed in the protocol\n",
    "# States in the protocol\n",
    "ketphi = [1 0 0 1]/sqrt(2);\n",
    "Phi = ketphi'*ketphi;\n",
    "\n",
    "ketpsi = [1 1 1 -1]/2;\n",
    "Psi = ketpsi'*ketpsi;\n",
    "\n",
    "# Measurements by Bob (to allow you to experiment more easily)\n",
    "check0Good = Phi;\n",
    "check0Cheat = I - Phi;\n",
    "check1Good = Psi;\n",
    "check1Cheat = I - Psi;\n",
    "\n",
    "# Now the protocol\n",
    "# Commit phase\n",
    "# State chosen by Alice\n",
    "if b == 0\n",
    "    print(\"Commit: Alice honestly commits to b=0\\n\");\n",
    "    rhoAB = Phi;\n",
    "else\n",
    "    print(\"Commmit: Alice honestly commits to b=1\\n\");\n",
    "    rhoAB = Psi;\n",
    "end\n",
    "print(\"State prepared by Alice is: \",rhoAB,\"\\n\");\n",
    "\n",
    "# Open Phase\n",
    "# Bit to be opened by Alice\n",
    "openB = b; # Alice is honest\n",
    "\n",
    "print(\"Open: Alice sends \", openB, \" to Bob.\\n\");\n",
    "\n",
    "# Now Bob measures\n",
    "if openB == 0\n",
    "    pgood = tr(check0Good * rhoAB);\n",
    "else\n",
    "    pgood = tr(check1Good * rhoAB);\n",
    "end\n",
    "# Sample from {0,1} where p1 is given \n",
    "rndDist = Binomial(1,1-pgood);\n",
    "outcome = rand(rndDist);\n",
    "\n",
    "if outcome == 0\n",
    "    print(\"Open: Bob acccepts!\\n\");\n",
    "else\n",
    "    print(\"Open: Bob rejects: Alice is cheating!!\\n\");\n",
    "end\n"
   ]
  },
  {
   "cell_type": "markdown",
   "metadata": {},
   "source": [
    "<h3 style=\"color:#00A6D6;\"> Exercise 1</h3>\n",
    "Let's first investigate running the protocol. First execute the code above. What do you observe? What happens if Alice tries to open another bit, i.e. openB is not the same as b? You may wish to explore using other measurements or states."
   ]
  },
  {
   "cell_type": "code",
   "execution_count": null,
   "metadata": {},
   "outputs": [],
   "source": [
    "# Play with the code above, or copy paste it here to make more radical changes."
   ]
  },
  {
   "cell_type": "markdown",
   "metadata": {},
   "source": [
    "Let's now investigate whether Alice can cheat, recalling Uhlman's theorem. Recall that  \n",
    "when two **rank-one** density matrices $\\Phi_{AB}$ and $\\Psi_{AB}$ have the same partial trace - $Tr_{A}(\\Phi_{AB}) = Tr_A(\\Psi_{AB})$ - it follows - in accordance with Uhlman's theorem - that the matrices are equivalent up to a local unitary on $A$. This means that if Bob has qubit $B$, then Alice can - by applying this precise unitary! - transform one state to the other. \n",
    "\n",
    "<h3 style=\"color:#00A6D6;\"> Exercise 2</h3>\n",
    "\n",
    "Are the two states $\\Psi_{AB}$ and $\\Phi_{AB}$ in our protocol equivalent up to a local unitary? Can you guess what that unitary is? Explain how Alice could use this fact to cheat. "
   ]
  },
  {
   "cell_type": "code",
   "execution_count": null,
   "metadata": {},
   "outputs": [],
   "source": [
    "# Complete the code below to investigate the exercise!\n",
    "\n",
    "phiB = partialTrace(Phi,\"B\"); # returns the reduced state on A (traces out the B system)\n",
    "display(phiB)"
   ]
  },
  {
   "cell_type": "markdown",
   "metadata": {},
   "source": [
    "<a id=\"wcp\"></a>\n",
    "<h2 style=\"color:#00A6D6;\">Cheat Sensitive Weak Coin Flipping</h2>\n",
    "Let us now investigate a different coin flipping protocol than we saw in the book. Specifically, this protocol was discovered by <a href=\"https://arxiv.org/abs/quant-ph/0202118\">Spekkens and Rudolph</a> and has a nice and peculiar quantum feature: it is cheat sensitive! That is, we will try and exploit the fact that quantum measurements can cause disturbance to try and detect if some of the parties in the protocol were trying to cheat.\n",
    "\n",
    "The protocol is relatively simple, and can be instantiated for different choices of states $|\\Psi\\rangle_{AB}$ and measurements $\\{E_0,E_1\\}$. \n",
    "<ul>\n",
    "    <li>Alice prepares a state $|\\Psi\\rangle_{AB}$ and sends the $B$ qubit to Bob.</li>\n",
    "    <li>Bob measures using the POVM $\\{E_0,E_1\\}$. </li>\n",
    "    <li> If Bob's outcome is 0, then\n",
    "        <ul>\n",
    "            <li>Bob sends qubit $B$ back to Alice. </li>\n",
    "            <li>Alice measures both qubits using the measurement $\\{M_0=|\\Phi\\rangle\\langle \\Phi|,M_1=I - |\\Phi\\rangle\\langle \\Phi|\\}$, where $$|\\Phi\\rangle = I\\otimes E_0|\\Psi\\rangle/\\sqrt{\\langle\\Psi|I \\otimes E_0|\\Psi\\rangle}.$$ </li>\n",
    "            <li>If Alice's outcome is 0, then Bob wins. If Alice's outcome is 1, then Alice catches Bob cheating. </li>\n",
    "        </ul></li>\n",
    "    <li> If Bob's outcome is 1, then Alice sends her qubit $A$ to Bob.\n",
    "     <ul>\n",
    "            <li>Alice sends her qubit $A$ to Bob. </li>\n",
    "            <li>Bob measures both qubits using the measurement $\\{M_0=|\\Phi\\rangle\\langle \\Phi|,M_1=I - |\\Phi\\rangle\\langle \\Phi|\\}$, where $$|\\Phi\\rangle = I\\otimes E_1|\\Psi\\rangle/\\sqrt{\\langle\\Psi|I \\otimes E_1|\\Psi\\rangle}.$$ </li>\n",
    "            <li>If Bob's outcome is 0, then Alice wins. If Bob's outcome is 1, then Bob catches Alice cheating. </li>\n",
    "        </ul></li>\n",
    "</ul>\n",
    "\n",
    "Below we will examine the protocol for two types of state and measurements as suggested in their paper. We choose $$|\\Psi\\rangle = \\sqrt{x}|00\\rangle + \\sqrt{(1-x)}|11\\rangle\\ , $$ for some choice of  $1/2 < x \\leq 1$. In the first case, the measurements are given by $$E_0 = \\frac{1}{2x}|0\\rangle\\langle0|, E_1 = I -E_0.$$"
   ]
  },
  {
   "cell_type": "code",
   "execution_count": null,
   "metadata": {},
   "outputs": [],
   "source": [
    "# The following function will run the protocol once, and return to use the outcome - assuming both parties honestly follow the protocol. Inputs are\n",
    "# \n",
    "# ketPsi: Psi as a ket vector\n",
    "# actualPsi: actual Psi prepared by Alice if she is cheating (or experiences errors)\n",
    "# E0: POVM, assumded to be diagonal\n",
    "# \n",
    "function rsWCF(ketPsi, actualPsi, E0)\n",
    "\n",
    "     # Result to be returns 0 Alice wins, 1 Bob wins, 2 Alice cheated, 3 Bob cheated\n",
    "    answer = 0;\n",
    "    \n",
    "    # Compute E1\n",
    "    id = [1 0; 0 1];\n",
    "    E1 = id - E0;\n",
    "    \n",
    "    # To compute the post measurement state of Alice and Bob, this code assumes sqrt(E0) can be simply computed thus (ok for the examples given)\n",
    "    sE0 = sqrt(kron(id,E0));\n",
    "    sE1 = sqrt(kron(id,id-E0));\n",
    "    \n",
    "    # The state is given by Psi\n",
    "    # Bob now measures his qubit using {E0,E1}. Due to numerical errors we compute both directly.\n",
    "    p0 = tr(kron(id,E0) * actualPsi);\n",
    "    p1 = tr(kron(id,E1) * actualPsi);\n",
    "\n",
    "    # Sample from {0,1} where p1 is given \n",
    "    rndDist = Binomial(1,1-p0);\n",
    "    outcome = rand(rndDist);\n",
    "\n",
    "    if outcome == 0\n",
    "        # Bob measured outcome given by E0 and sends qubit B back to Alice\n",
    "        # print(\"Bob sends B back to Alice\\n\");\n",
    "    \n",
    "        # Compute the post measurement state of Alice and Bob\n",
    "        rhoPost = (sE0*actualPsi*sE0')/p0;\n",
    "   \n",
    "        # Alice measures using the measurement determined by the post-measurement states\n",
    "        Phi = (sE0*ketPsi'/sqrt(p0))';\n",
    "        M0 = Phi' * Phi;\n",
    "        q0 = tr(M0*rhoPost);\n",
    "        \n",
    "        # Sample from {0,1} where p1 is given, rounding errors can make q1 slightly larger than 1 \n",
    "        rndDistCheck = Binomial(1,max(0,1-q0));\n",
    "        outcomeAlice = rand(rndDistCheck);\n",
    "\n",
    "        if outcomeAlice == 0\n",
    "           # print(\"Bob wins! \\n\");\n",
    "           answer = 1;\n",
    "        else\n",
    "           # print(\"Bob is cheating!! \\n\");\n",
    "           answer = 3;\n",
    "        end\n",
    "    else\n",
    "         # Bob measured outcome given by E0 and Alice sends qubit A to Bob\n",
    "        \n",
    "        # Compute the post measurement state of Alice and Bob, this code assumes sqrt(E0) can be simply computed thus (ok for the examples given)\n",
    "        rhoPost = (sE1 * actualPsi * sE1')/p1;\n",
    "     \n",
    "        # Alice measures using the measurement determined by the post-measurement states\n",
    "        Phi = (sE1*ketPsi'/sqrt(p1))';\n",
    "        M0 = Phi' * Phi;\n",
    "        q0 = tr(M0*rhoPost);\n",
    " \n",
    "        # Sample from {0,1} where p1 is given. Rounding errors can make q1 slightly larger than 1 \n",
    "        rndDistCheck = Binomial(1,max(0,1-q0));\n",
    "        outcomeBob = rand(rndDistCheck);\n",
    "\n",
    "        if outcomeBob == 0\n",
    "            # print(\"Alice wins! \\n\");\n",
    "            answer = 0;\n",
    "        else\n",
    "            # print(\"Alice is cheating!! \\n\");\n",
    "            answer = 2;\n",
    "        end\n",
    "    end\n",
    "\n",
    "    return answer\n",
    "end\n",
    "   "
   ]
  },
  {
   "cell_type": "markdown",
   "metadata": {},
   "source": [
    "<h3 style=\"color:#00A6D6;\"> Exercise 3</h3>\n",
    "Let us first investigate the protocol as a given with the state $|\\Psi\\rangle$ and measurement operator $E_0$ specified above. Use the above function to help you run the protocol, where in the honest case the actual state used by Alice is of course identical to the one defining the measurements in the protocol. Run the protocol multiple times, how often does Alice win, and how often does Bob win?"
   ]
  },
  {
   "cell_type": "code",
   "execution_count": null,
   "metadata": {},
   "outputs": [],
   "source": [
    "\n",
    "# run the protocol (Alice and Bob honest) for a specific value of x\n",
    "function runWCPV1(x)\n",
    "    # Define Psi\n",
    "    ketPsi = sqrt(x)*  [1 0 0 0] + sqrt(1-x) *  [0 0 0 1];\n",
    "    actualPsi = ketPsi'* ketPsi;\n",
    "\n",
    "    # Defined E0\n",
    "    v0 = [1 0];\n",
    "    E0 = 1/(2 * x) * v0' * v0; \n",
    "    # run the protocol\n",
    "    answer = rsWCF(ketPsi,actualPsi,E0);\n",
    "\n",
    "    return answer\n",
    "end\n",
    "\n",
    "# Set 1/2 < x < 1\n",
    "x = 0.51;\n",
    "\n",
    "# Count how often each win or cheat\n",
    "aliceWins = 0;\n",
    "bobWins = 0;\n",
    "aliceCheats = 0;\n",
    "bobCheats = 0;\n",
    "\n",
    "# Run the protocol many times\n",
    "n = 1000;\n",
    "for j = 1:n\n",
    "        answer = runWCPV1(x);\n",
    "        if answer == 0\n",
    "            aliceWins = aliceWins + 1;\n",
    "        elseif answer == 1\n",
    "            bobWins = bobWins + 1;\n",
    "        elseif answer == 2\n",
    "            aliceCheats = aliceCheats + 1;\n",
    "        elseif answer == 3\n",
    "            bobCheats = bobCheats + 1;\n",
    "    end\n",
    "end\n",
    "\n",
    "print(\"Estimated probability that Alice wins: \",aliceWins/n, \"\\n\");\n",
    "print(\"Estimated probability that Bob wins: \", bobWins/n,\"\\n\");\n"
   ]
  },
  {
   "cell_type": "markdown",
   "metadata": {},
   "source": [
    "<h3 style=\"color:#00A6D6;\"> Exercise 4</h3>\n",
    "Let's investigate what happens in the honest case for different values of $x$. "
   ]
  },
  {
   "cell_type": "code",
   "execution_count": null,
   "metadata": {},
   "outputs": [],
   "source": [
    "# Helper function to let us understand the behaviour of Alice winning. n is the number of times we will execute the protocol\n",
    "function estimateAliceWinning(x,n) \n",
    "    aliceWins = 0;\n",
    "    for j = 1:n\n",
    "        answer = runWCPV1(x);\n",
    "        if answer == 0\n",
    "            aliceWins = aliceWins + 1;\n",
    "        end\n",
    "    end\n",
    "    return (aliceWins/n);\n",
    "end\n",
    "\n",
    "# Your code here"
   ]
  },
  {
   "cell_type": "markdown",
   "metadata": {},
   "source": [
    "<h3 style=\"color:#00A6D6;\"> Exercise 5</h3>\n",
    "Let us now investigate what happens if Alice does not quite prepare the state dictated by the protocol, but chooses a different input state.\n",
    "<ul>\n",
    "    <li>First, try a noisy version of the state - for example by applying a bit flip with very low probability. What do you observe?</li>\n",
    "    <li>Can you think of states to try that may give Alice an edge in the protocol, while not getting caught by Bob too often?</li>\n",
    "</ul>\n",
    "You may also try all together other cheating strategies by copy pasting the protocol above, and adapting it to your needs."
   ]
  },
  {
   "cell_type": "code",
   "execution_count": null,
   "metadata": {},
   "outputs": [],
   "source": [
    "# Your code goes here"
   ]
  },
  {
   "cell_type": "markdown",
   "metadata": {},
   "source": [
    "<h3 style=\"color:#00A6D6;\"> Exercise 6</h3>\n",
    "In their paper, Spekkens and Rudolph also suggest using the same state $|\\Psi\\rangle$ as above with a different measurement given by operator $$E_0 = \\left(1- \\frac{1}{2x}\\right) |0\\rangle\\langle 0| + |1\\rangle\\langle 1| \\ , $$\n",
    "with $1/2 < x \\leq 1$. \n",
    "How does that change the behavior of the protocol above? Or any cheating strategy you thought of? Or maybe the noise tolerance of the protocol?"
   ]
  },
  {
   "cell_type": "code",
   "execution_count": null,
   "metadata": {},
   "outputs": [],
   "source": [
    "# Your code goes here"
   ]
  }
 ],
 "metadata": {
  "@webio": {
   "lastCommId": "e782fef33e0246b48a263d3e8681bb17",
   "lastKernelId": "37196ed3-8ead-4df4-ae75-3e148587d143"
  },
  "anaconda-cloud": {},
  "kernelspec": {
   "display_name": "Julia 1.9.1",
   "language": "julia",
   "name": "julia-1.9"
  },
  "language_info": {
   "file_extension": ".jl",
   "mimetype": "application/julia",
   "name": "julia",
   "version": "1.9.1"
  }
 },
 "nbformat": 4,
 "nbformat_minor": 4
}
