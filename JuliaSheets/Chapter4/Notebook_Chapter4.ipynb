{
 "cells": [
  {
   "cell_type": "markdown",
   "metadata": {},
   "source": [
    "<h1 style=\"color:#00A6D6;\">Introduction to Quantum Cryptography - Jupyter Notebooks</h1>\n",
    "<h2 style=\"color:#00A6D6;\">Chapter 4: The power of entanglement </h2>\n",
    "\n",
    "* <a href=\"#sep\"> Separable vs Entangled states </a>\n",
    "\n",
    "* <a href=\"#uhl\"> Uhlman's theorem </a>\n",
    "\n",
    "* <a href=\"#sch\"> Schmidt Decomposition </a>\n",
    "\n",
    "* <a href=\"#bel\"> Bell Test </a>"
   ]
  },
  {
   "cell_type": "markdown",
   "metadata": {},
   "source": [
    "Notice that the line below will make Julia add and compile several packages. After compiling them it will print several info and warning messages."
   ]
  },
  {
   "cell_type": "code",
   "execution_count": 1,
   "metadata": {},
   "outputs": [
    {
     "name": "stderr",
     "output_type": "stream",
     "text": [
      "\u001b[32m\u001b[1m   Resolving\u001b[22m\u001b[39m package versions...\n",
      "\u001b[32m\u001b[1m  No Changes\u001b[22m\u001b[39m to `C:\\Users\\swehner\\.julia\\environments\\v1.9\\Project.toml`\n",
      "\u001b[32m\u001b[1m  No Changes\u001b[22m\u001b[39m to `C:\\Users\\swehner\\.julia\\environments\\v1.9\\Manifest.toml`\n",
      "\u001b[32m\u001b[1mPrecompiling\u001b[22m\u001b[39m project...\n",
      "\u001b[32m  ✓ \u001b[39m\u001b[90mAMD\u001b[39m\n",
      "\u001b[32m  ✓ \u001b[39m\u001b[90mAbstractTrees\u001b[39m\n",
      "\u001b[32m  ✓ \u001b[39m\u001b[90mLDLFactorizations\u001b[39m\n",
      "\u001b[32m  ✓ \u001b[39mConvex\n",
      "  4 dependencies successfully precompiled in 8 seconds. 80 already precompiled.\n",
      "\u001b[32m\u001b[1m   Resolving\u001b[22m\u001b[39m package versions...\n",
      "\u001b[32m\u001b[1m  No Changes\u001b[22m\u001b[39m to `C:\\Users\\swehner\\.julia\\environments\\v1.9\\Project.toml`\n",
      "\u001b[32m\u001b[1m  No Changes\u001b[22m\u001b[39m to `C:\\Users\\swehner\\.julia\\environments\\v1.9\\Manifest.toml`\n"
     ]
    },
    {
     "data": {
      "application/vnd.webio.node+json": {
       "children": [],
       "instanceArgs": {
        "namespace": "html",
        "tag": "div"
       },
       "nodeType": "DOM",
       "props": {},
       "type": "node"
      },
      "text/html": [
       "<div style=\"padding: 1em; background-color: #f8d6da; border: 1px solid #f5c6cb; font-weight: bold;\">\n",
       "<p>The WebIO Jupyter extension was not detected. See the\n",
       "<a href=\"https://juliagizmos.github.io/WebIO.jl/latest/providers/ijulia/\" target=\"_blank\">\n",
       "    WebIO Jupyter integration documentation\n",
       "</a>\n",
       "for more information.\n",
       "</div>\n"
      ],
      "text/plain": [
       "WebIO._IJuliaInit()"
      ]
     },
     "metadata": {
      "application/vnd.webio.node+json": {
       "kernelId": "12ba87a8-78a1-4941-bc56-ff4f8e59039d"
      }
     },
     "output_type": "display_data"
    }
   ],
   "source": [
    "include(\"source/main.jl\");"
   ]
  },
  {
   "cell_type": "markdown",
   "metadata": {},
   "source": [
    "<a id=\"sep\"></a>\n",
    "<h2 style=\"color:#00A6D6;\"> Separable vs Entangled states </h2>\n",
    "\n",
    "This week we learnt formally about entangled states. Given two quantum systems $A$ and $B$ the joint system is separable if it can be written like \n",
    "\n",
    "$$\n",
    "\\rho_{AB}=\\sum_xp_x\\rho_x^A\\otimes\\rho_x^B\n",
    "$$ \n",
    "\n",
    "where $\\{p_x\\}_x$ is some probability distribution and $\\{\\rho_x^A\\}_x$, $\\{\\rho_x^B\\}_x$ are valid quantum states. Otherwise we say that the state is entangled. \n",
    "\n",
    "We have prepared for you the function check_entangled. It can decide whether a bipartite qubit state (Alice and Bob hold qubits) is entangled or not. This trick however works only if A and B are qubits - in fact, it is NP hard to find out whether an arbitrary density matrix is entangled! Let us first try it with the maximally mixed state."
   ]
  },
  {
   "cell_type": "code",
   "execution_count": 2,
   "metadata": {},
   "outputs": [
    {
     "data": {
      "text/plain": [
       "false"
      ]
     },
     "execution_count": 2,
     "metadata": {},
     "output_type": "execute_result"
    }
   ],
   "source": [
    "rho = [0.25 0 0 0; 0 0.25 0 0; 0 0 0.25 0; 0 0 0 0.25]\n",
    "check_entangled(rho)"
   ]
  },
  {
   "cell_type": "markdown",
   "metadata": {
    "collapsed": true
   },
   "source": [
    "Can you guess if the following states are entangled or not? Try first to think what should the answer be and then use the function given."
   ]
  },
  {
   "cell_type": "markdown",
   "metadata": {},
   "source": [
    "<h3 style=\"color:#00A6D6;\"> Exercise 1</h3>\n",
    "\n",
    "Check whether or not the following states are entangled.\n",
    "\n",
    "1. $\\rho_{AB}=\\begin{pmatrix} 0.5 & 0.0 & 0.0 & -0.3 \\\\ 0.0 & 0.0 & 0.0 & 0.0 \\\\ 0.0 & 0.0 & 0.0 & 0.0 \\\\ -0.3 & 0.0 & 0.0 & 0.5\\end{pmatrix}$\n",
    "2. $\\rho_{AB}=\\begin{pmatrix} 0.5 & 0.0 & 0.0 & 0.0 \\\\ 0.0 & 0.0 & 0.0 & 0.0 \\\\ 0.0 & 0.0 & 0.0 & 0.0 \\\\ 0.0 & 0.0 & 0.0 & 0.5\\end{pmatrix}$\n",
    "3. $\\rho_{AB}=\\begin{pmatrix} 0.25 & 0.25 & 0.0 & 0.0 \\\\ 0.25 & 0.25 & 0.0 & 0.0 \\\\ 0.0 & 0.0 & 0.25 & 0.25 \\\\ 0.0 & 0.0 & 0.25 & 0.25\\end{pmatrix}$"
   ]
  },
  {
   "cell_type": "code",
   "execution_count": 3,
   "metadata": {},
   "outputs": [
    {
     "data": {
      "text/plain": [
       "false"
      ]
     },
     "execution_count": 3,
     "metadata": {},
     "output_type": "execute_result"
    }
   ],
   "source": [
    "# Adapt the code from above to check for the states above\n",
    "rho = [0.25 0 0 0; 0 0.25 0 0; 0 0 0.25 0; 0 0 0 0.25]\n",
    "check_entangled(rho)"
   ]
  },
  {
   "cell_type": "markdown",
   "metadata": {},
   "source": [
    "<h3 style=\"color:#00A6D6;\"> Supplement to Exercise 1</h3>\n",
    "\n",
    "One would imagine that checking whether a state is entangled is very simple. It turns out that this is only the case for very small dimensional systems. More concretely, in the case that both Alice and Bob hold qubits there is a very simple test. This is the test that we have implemented in the function check_entangled. Imagine that we are given \n",
    "\n",
    "$$\n",
    "\\rho_{AB}=\\sum_{i,j}\\lambda_{ijkl}|i\\rangle\\langle j|^A\\otimes |k\\rangle\\langle l|^B,\n",
    "$$ \n",
    "\n",
    "the test consist in checking whether the matrix $\\rho_{AB}^{\\Gamma_B}$ is positive or not. Specifically, with positive we mean that $\\rho_{AB}^{\\Gamma_B}$ is positive-semidefinite, i.e., having no negative eigenvalues. $\\rho_{AB}^{\\Gamma_B}$ is called the partial transpose of the $B$ system and can be computed as follows:\n",
    "\n",
    "\\begin{align}\n",
    "\\rho_{AB}^{\\Gamma_B} &=\\sum_{i,j}\\lambda_{ijkl}|i\\rangle\\langle j|^A \\otimes  T\\left(|k\\rangle\\langle l|\\right)^B\\\\\n",
    "              &=\\sum_{i,j}\\lambda_{ijkl} |i\\rangle\\langle j|^A \\otimes |l\\rangle\\langle k|^B\n",
    "\\end{align}\n",
    "\n",
    "where $T(|i\\rangle\\langle j|)=|j\\rangle\\langle i|$. That is, $T$ corresponds with the transpose operation. If you are curious check the source code!\n",
    "\n",
    "Correspondingly, the test is also called the partial transpose test. For qubits the test is exact: $\\rho_{AB}$ is NOT entangled if and only if $\\rho_{AB}^{\\Gamma_B} \\geq 0$. However, in general the test only gives a one-sided indicator: if NOT $\\rho_{AB}^{\\Gamma_B} \\geq 0$, then $\\rho_{AB}^{\\Gamma_B}$ is entangled. However, if $\\rho_{AB}^{\\Gamma_B} \\geq 0$ then the state can be both entangled or separable. "
   ]
  },
  {
   "cell_type": "markdown",
   "metadata": {},
   "source": [
    "<a id=\"uhl\"></a>\n",
    "<h2 style=\"color:#00A6D6;\"> Uhlman's theorem </h2>\n",
    "\n",
    "Later on, we will use Uhlman's theorem to cheat on a cryptographic protocol! To this end, let us delve into detail on how we can make it work towards our advantage. \n",
    "When two **rank-one** density matrices $\\Phi^+_{AB}$ and $\\Psi^+_{AB}$ have the same partial trace - $Tr_{A}(\\Phi^+_{AB}) = Tr_A(\\Psi^+_{AB})$ - it follows - in accordance with Uhlman's theorem - that the matrices are equivalent up to a local unitary on $A$. This means that if Bob has qubit $B$, then Alice can - by applying this precise unitary! - transform one state to the other. \n",
    "\n",
    "Let us demonstrate this with an example:\n",
    "\n",
    "<h4 style=\"color:#00A6D6;\"> Example </h4>\n",
    "\n",
    "Are \n",
    "\n",
    "$$ \\Phi^+_{AB} = \\frac{1}{2} \\cdot \\begin{pmatrix} 1 & 0 & 0 & 1 \\\\ 0 & 0 & 0 & 0 \\\\ 0 & 0 & 0 & 0 \\\\ 1 & 0 & 0 & 1  \\end{pmatrix} $$\n",
    "\n",
    "and \n",
    "\n",
    "$$ \\Psi^+_{AB} = \\frac{1}{2} \\cdot \\begin{pmatrix} 0 & 0 & 0 & 0 \\\\ 0 & 1 & 1 & 0 \\\\ 0 & 1 & 1 & 0 \\\\ 0 & 0 & 0 & 0  \\end{pmatrix} $$\n",
    "\n",
    "equivalent up to a local unitary? Well, these matrices both have equal partial traces. \n",
    "\n",
    "$$ \\frac{1}{2} \\cdot \\begin{pmatrix} 1 & 0 \\\\ 0 & 1 \\end{pmatrix} \\:. $$\n",
    "\n",
    "Hence, it follows that these states are equivalent up to a local unitary. More concretely, it turns out that\n",
    "\n",
    "$$ \\Phi^+_{AB} = \\big( I_A \\otimes X_B \\big) \\cdot \\Psi^+_{AB} \\cdot \\big( I_A \\otimes X_B \\big) $$\n",
    "\n",
    "or like wise\n",
    "\n",
    "$$ \\Phi^+_{AB} = \\big( X_A \\otimes I_B \\big) \\cdot \\Psi^+_{AB} \\cdot \\big( X_A \\otimes I_B \\big)\\ .$$\n",
    "\n",
    "where $X_A$ and $X_B$ are the Pauli $X$ - i.e. the bit flip operation - applied to qubits $A$ and $B$ respectively. Alice can thus apply $X_A$ to her qubit to transform one state to the other, and so can Bob by applying $X_B$. \n",
    "\n",
    "We have written the function partialTrace to compute the partial trace of a bipartite qubit system. In order to check that the example states have equal reduced states, this is the code that we could run:"
   ]
  },
  {
   "cell_type": "code",
   "execution_count": 4,
   "metadata": {},
   "outputs": [
    {
     "data": {
      "text/plain": [
       "2×2 Matrix{Float64}:\n",
       " 0.5  0.0\n",
       " 0.0  0.5"
      ]
     },
     "execution_count": 4,
     "metadata": {},
     "output_type": "execute_result"
    }
   ],
   "source": [
    "PhiPlus =  [.5 0 0 .5; 0 0 0 0; 0 0 0 0; .5 0 0 .5]\n",
    "partialTrace(PhiPlus,\"B\") # returns the reduced state on A (traces out the B system)"
   ]
  },
  {
   "cell_type": "code",
   "execution_count": 5,
   "metadata": {},
   "outputs": [
    {
     "data": {
      "text/plain": [
       "2×2 Matrix{Float64}:\n",
       " 0.5  0.0\n",
       " 0.0  0.5"
      ]
     },
     "execution_count": 5,
     "metadata": {},
     "output_type": "execute_result"
    }
   ],
   "source": [
    "PsiPlus =  [0 0 0 0; 0 0.5 0.5 0; 0 0.5 0.5 0; 0 0 0 0]\n",
    "partialTrace(PsiPlus,\"B\") # returns the reduced state on A (traces out the B system)"
   ]
  },
  {
   "cell_type": "markdown",
   "metadata": {},
   "source": [
    "<h3 style=\"color:#00A6D6;\"> Exercise 2.1</h3>\n",
    "\n",
    "Are the matrices\n",
    "\n",
    "$$ \\rho^1_{AB} = \\begin{pmatrix} \\frac{1}{3} & 0.0 & 0.0 & -\\frac{\\sqrt{2}}{3} \\\\ 0.0 & 0.0 & 0.0 & 0.0 \\\\ 0.0 & 0.0 & 0.0 & 0.0 \\\\ -\\frac{\\sqrt{2}}{3} & 0.0 & 0.0 & \\frac{2}{3}\\end{pmatrix}$$\n",
    "\n",
    "$$ \\rho^2_{AB} = \\begin{pmatrix} 0.0 & 0.0 & 0.0 & 0.0 \\\\ 0.0 & \\frac{1}{3} & -\\frac{\\sqrt{2}}{3} & 0.0 \\\\ 0.0 & -\\frac{\\sqrt{2}}{3} & \\frac{2}{3} & 0.0 \\\\ 0.0 & 0.0 & 0.0 & 0.0\\end{pmatrix}$$\n",
    "\n",
    "equivalent up to a local unitary? \n",
    "\n",
    "<h3 style=\"color:#00A6D6;\"> Exercise 2.2</h3>\n",
    "\n",
    "Next, are the matrices\n",
    "\n",
    "$$ \\rho^1_{AB} = \\begin{pmatrix} \\frac{1}{3} & 0.0 & 0.0 & -\\frac{\\sqrt{2}}{3} \\\\ 0.0 & 0.0 & 0.0 & 0.0 \\\\ 0.0 & 0.0 & 0.0 & 0.0 \\\\ -\\frac{\\sqrt{2}}{3} & 0.0 & 0.0 & \\frac{2}{3}\\end{pmatrix}$$\n",
    "\n",
    "$$ \\rho^2_{AB} = \\begin{pmatrix} 0.0 & 0.0 & 0.0 & 0.0 \\\\ 0.0 & \\frac{1}{3} & 0.0 & 0.0 \\\\ 0.0 & 0.0 & \\frac{2}{3} & 0.0 \\\\ 0.0 & 0.0 & 0.0 & 0.0\\end{pmatrix}$$\n",
    "\n",
    "equivalent up to a local unitary?"
   ]
  },
  {
   "cell_type": "code",
   "execution_count": 6,
   "metadata": {},
   "outputs": [],
   "source": [
    "# Your code goes here, where you may wish to work from the partialTrace example given above."
   ]
  },
  {
   "cell_type": "markdown",
   "metadata": {},
   "source": [
    "<a id=\"sch\"></a>\n",
    "<h2 style=\"color:#00A6D6;\"> Schmidt decomposition </h2>\n",
    "\n",
    "We have already called the EPR pair maximally entangled. But can states also be somewhat entangled? And how could we measure such partial entanglement? \n",
    "\n",
    "Many measures exist for entanglement - one very convenient one arises from the Schmidt decomposition. Let's see how this works!\n",
    "\n",
    "A pure bipartite state can in general be written down as \n",
    "\n",
    "$$ \\lvert \\Phi_{AB} \\rangle = \\sum_{i=1}^{d_A}\\sum_{j=1}^{d_B} \\alpha_{ij} \\lvert u_i \\rangle^A \\lvert v_j \\rangle^B$$\n",
    "\n",
    "with $\\lvert u_i \\rangle$ and $\\lvert v_j \\rangle$ some orthonormal basis and $\\alpha_{ij}$ complex coefficients. Alternatively, any pure bipartite state can also be written as\n",
    "\n",
    "$$ \\lvert \\Phi_{AB} \\rangle = \\sum_{i=1}^{\\min\\{d_A,d_B\\}} \\sqrt{\\lambda_i} \\lvert u_i \\rangle \\lvert v_i \\rangle $$\n",
    "\n",
    "with $\\lvert u_i \\rangle$, $\\lvert v_i \\rangle$ orthonormal bases and $\\lambda_i$ non-negative coefficients that add up to one. This second form involves only $\\min\\{d_A,d_B\\}$ coefficients $\\lambda_i$ versus the $d_Ad_B$ coefficients $\\alpha_{ij}$ of the first form. This is one of the attractive properties of this second form which was introduced in the videos as the Schmidt decomposition.\n",
    "\n",
    "It's turns out that the number of non-zero Schmidt coefficients tells us something about entanglement. Let's see how we can compute these coefficients and see what they look like for some of our favorite states!"
   ]
  },
  {
   "cell_type": "markdown",
   "metadata": {},
   "source": [
    "In the following we will find the coefficients of the Schmidt decomposition. Given a bipartite state $|\\psi\\rangle$, they can be found as follows:\n",
    "\n",
    "1. Construct the associated density matrix $\\rho = \\lvert \\psi \\rangle \\langle \\psi \\rvert$.\n",
    "2. Compute the reduced state $\\rho_A$.\n",
    "3. Find the eigenvalues $\\lambda_i$ of $\\rho_A$.\n",
    "4. The Schmidt coefficients are the square roots of the eigenvalues.\n",
    "\n",
    "**(Bonus question)** Can you prove that this recipe really returns the Schmidt coefficients?\n",
    "\n",
    "We can turn the recipe into Julia code as follows:"
   ]
  },
  {
   "cell_type": "code",
   "execution_count": 7,
   "metadata": {},
   "outputs": [
    {
     "data": {
      "text/plain": [
       "2-element Vector{Float64}:\n",
       " 0.7071067811865475\n",
       " 0.7071067811865475"
      ]
     },
     "execution_count": 7,
     "metadata": {},
     "output_type": "execute_result"
    }
   ],
   "source": [
    "# input a state\n",
    "psi = [1 0 0 1]/sqrt(2)\n",
    "\n",
    "# 1. Construct the density matrix\n",
    "rho = psi'*psi \n",
    "\n",
    "# 2. Get the reduced state\n",
    "rho_A = partialTrace(rho,\"B\") \n",
    "\n",
    "# 3. Find the eigenvalues of the reduced state\n",
    "lambdas = eigvals(rho_A) \n",
    "\n",
    "# 4. The Schmidt coefficients are the square roots of the eigenvalues\n",
    "sCoef = sqrt.(lambdas) "
   ]
  },
  {
   "cell_type": "markdown",
   "metadata": {},
   "source": [
    "<h3 style=\"color:#00A6D6;\"> Exercise 3</h3>\n",
    "\n",
    "Calculate the Schmidt coefficients of the following bipartite qubit states and enter them into edX. \n",
    "\n",
    "How many non-zero coefficients are there for each state? Are the following states entangled? Check (for example using the function above!) whether the states are entangled and how this relates to the number of non-zero Schmidt coefficients!\n",
    "\n",
    "* $|\\psi\\rangle_{AB}^1=|00\\rangle$\n",
    "* $|\\psi\\rangle_{AB}^2=\\frac{1}{\\sqrt 2}\\left(|00\\rangle+|01\\rangle\\right)$\n",
    "* $|\\psi\\rangle_{AB}^3=\\frac{1}{\\sqrt 2}\\left(|00\\rangle+|11\\rangle\\right)$\n",
    "* $|\\psi\\rangle_{AB}^4=\\sin\\left(\\frac{\\pi}{7}\\right)|00\\rangle-\\cos\\left(\\frac{\\pi}{7}\\right)|11\\rangle$"
   ]
  },
  {
   "cell_type": "code",
   "execution_count": 8,
   "metadata": {},
   "outputs": [],
   "source": [
    "# Your code goes here, where you may wish to start by copy pasting the stepwise procedure given just before"
   ]
  },
  {
   "cell_type": "markdown",
   "metadata": {},
   "source": [
    "<a id=\"bel\"></a>\n",
    "<h2 style=\"color:#00A6D6;\"> Bell Test </h2>"
   ]
  },
  {
   "cell_type": "markdown",
   "metadata": {},
   "source": [
    "We saw in the chapter that entanglement allows correlations that cannot be replicated classically. We exemplified this idea with a bipartite game called CHSH. This game cannot be won classically with probability higher than $p_{\\textrm{win}}=3/4$. However, if Alice and Bob (the two parties) share a maximally entangled state and choose appropriate measurement basis, then they can win with approximately $p_{\\textrm{win}}\\approx 0.854$.\n",
    "\n",
    "Indeed, the CHSH inequality is the one tested in the Delft Bell experiment! Let us now imagine that Alice and Bob cannot make perfect measurements, or they have a noisy entangled state. As you might imagine, this is the more typical scenario in real world quantum implementations. How well can Alice and Bob win CHSH under such conditions?"
   ]
  },
  {
   "cell_type": "markdown",
   "metadata": {},
   "source": [
    "Now, let's imagine that Alice and Bob share an arbitrary bipartite state, Alice and Bob choose measurement basis given by angles $\\theta_0,\\theta_1$ and $\\gamma_0,\\gamma_1$ respectively. What is the winning probablity? We have programmed a function that computes this winning probability (it would also be a good exercise to try to program it yourself!). \n",
    "\n",
    "When we say that the measurement basis is given by angle $\\theta$ we mean that we measure in the basis given by \n",
    "\n",
    "$$\\{\\cos(\\theta)|0\\rangle+\\sin(\\theta)|1\\rangle,-\\sin(\\theta)|0\\rangle+\\cos(\\theta)|1\\rangle\\}.$$"
   ]
  },
  {
   "cell_type": "code",
   "execution_count": 9,
   "metadata": {},
   "outputs": [
    {
     "data": {
      "text/plain": [
       "0.8535533905932738"
      ]
     },
     "execution_count": 9,
     "metadata": {},
     "output_type": "execute_result"
    }
   ],
   "source": [
    "# Let's compute the winning probability with the optimal bases and the maximally entangled state\n",
    "\n",
    "θ_0 = 0;\n",
    "θ_1 = 45;\n",
    "γ_0 = 22.5;\n",
    "γ_1 = -22.5;\n",
    "rho_AB = [1 0 0 1; 0 0 0 0; 0 0 0 0; 1 0 0 1]/2;\n",
    "\n",
    "pwinCHSH(rho_AB,θ_0, θ_1, γ_0, γ_1)"
   ]
  },
  {
   "cell_type": "markdown",
   "metadata": {},
   "source": [
    "<h3 style=\"color:#00A6D6;\"> Exercise 4</h3>\n",
    "\n",
    "Compute the winning probability for the following cases. The first two are highly relevant in an implementation: Alice and Bob would really like to share $\\Phi^+$, but due to imperfections they instead end up with a mixed state $\\rho_{AB}$ which with some probability is $|01\\rangle\\langle 01|$.\n",
    "\n",
    "1. Shared state $\\rho_{AB} = \\frac{3}{4} \\Phi^+ +\\frac{1}{4}|01\\rangle\\langle 01|$, and measurement bases: $\\theta_0 = 0, \\theta_1 = 45, \\gamma_0 = 22.5, \\gamma_1 = -22.5$\n",
    "2. Shared state $\\rho_{AB} = \\frac{1}{4} \\Phi^+ +\\frac{3}{4}|01\\rangle\\langle 01|$, and measurement bases: $\\theta_0 = 0, \\theta_1 = 45, \\gamma_0 = 22.5, \\gamma_1 = -22.5$\n",
    "3. Shared state $\\rho_{AB} = \\Phi^+$, and measurement bases: $\\theta_0 = 0, \\theta_1 = 45, \\gamma_0 = 0, \\gamma_1 = 45$\n",
    "\n",
    "where $\\Phi^+=|\\phi^+\\rangle\\langle\\phi^+|$ and $|\\phi^+\\rangle=\\left(|00\\rangle+|11\\rangle\\right)/\\sqrt{2}$. "
   ]
  },
  {
   "cell_type": "code",
   "execution_count": 12,
   "metadata": {},
   "outputs": [],
   "source": [
    "# Your code goes here, where you may want to start by adapting the code given just before."
   ]
  },
  {
   "cell_type": "markdown",
   "metadata": {},
   "source": [
    "<h3 style=\"color:#00A6D6;\"> Visualization of winning probability in the CHSH game </h3>\n",
    "\n",
    "The following snippet of code visualizes the winnning probability and probability distribution for different measurement settings given that Alice and Bob share a state of the form\n",
    "\n",
    "$$\n",
    "(1-p) \\Phi^+ + p \\frac{\\mathbb I}{4}\n",
    "$$\n",
    "\n",
    "States of the form above are called Werner states. You can think of the term $\\mathbb{I}/4$ as noise created by an imperfect appararatus!"
   ]
  },
  {
   "cell_type": "code",
   "execution_count": 13,
   "metadata": {},
   "outputs": [
    {
     "name": "stderr",
     "output_type": "stream",
     "text": [
      "sys:1: UserWarning: FixedFormatter should only be used together with FixedLocator\r\n"
     ]
    },
    {
     "data": {
      "application/vnd.webio.node+json": {
       "children": [
        {
         "children": [
          {
           "children": [
            {
             "children": [
              {
               "children": [
                {
                 "children": [
                  "θ_0"
                 ],
                 "instanceArgs": {
                  "namespace": "html",
                  "tag": "label"
                 },
                 "nodeType": "DOM",
                 "props": {
                  "className": "interact ",
                  "style": {
                   "padding": "5px 10px 0px 10px"
                  }
                 },
                 "type": "node"
                }
               ],
               "instanceArgs": {
                "namespace": "html",
                "tag": "div"
               },
               "nodeType": "DOM",
               "props": {
                "className": "interact-flex-row-left"
               },
               "type": "node"
              },
              {
               "children": [
                {
                 "children": [],
                 "instanceArgs": {
                  "namespace": "html",
                  "tag": "input"
                 },
                 "nodeType": "DOM",
                 "props": {
                  "attributes": {
                   "data-bind": "numericValue: index, valueUpdate: 'input', event: {change: function (){this.changes(this.changes()+1)}}",
                   "orient": "horizontal",
                   "type": "range"
                  },
                  "className": "slider slider is-fullwidth",
                  "max": 3,
                  "min": 1,
                  "step": 1,
                  "style": {}
                 },
                 "type": "node"
                }
               ],
               "instanceArgs": {
                "namespace": "html",
                "tag": "div"
               },
               "nodeType": "DOM",
               "props": {
                "className": "interact-flex-row-center"
               },
               "type": "node"
              },
              {
               "children": [
                {
                 "children": [],
                 "instanceArgs": {
                  "namespace": "html",
                  "tag": "p"
                 },
                 "nodeType": "DOM",
                 "props": {
                  "attributes": {
                   "data-bind": "text: formatted_val"
                  }
                 },
                 "type": "node"
                }
               ],
               "instanceArgs": {
                "namespace": "html",
                "tag": "div"
               },
               "nodeType": "DOM",
               "props": {
                "className": "interact-flex-row-right"
               },
               "type": "node"
              }
             ],
             "instanceArgs": {
              "namespace": "html",
              "tag": "div"
             },
             "nodeType": "DOM",
             "props": {
              "className": "interact-flex-row interact-widget"
             },
             "type": "node"
            }
           ],
           "instanceArgs": {
            "handlers": {
             "changes": [
              "(function (val){return (val!=this.model[\"changes\"]()) ? (this.valueFromJulia[\"changes\"]=true, this.model[\"changes\"](val)) : undefined})"
             ],
             "index": [
              "(function (val){return (val!=this.model[\"index\"]()) ? (this.valueFromJulia[\"index\"]=true, this.model[\"index\"](val)) : undefined})"
             ]
            },
            "id": "8790549955770234282",
            "imports": {
             "data": [
              {
               "name": "knockout",
               "type": "js",
               "url": "/assetserver/b4a508c9136c618558113710688cbae52aaba4d4-knockout.js"
              },
              {
               "name": "knockout_punches",
               "type": "js",
               "url": "/assetserver/e11c6094eccf83a4064de263f38f2286ea44e256-knockout_punches.js"
              },
              {
               "name": null,
               "type": "js",
               "url": "/assetserver/b6f3c514ea6678066f94b86e8ea7bd9ec6f7ffa1-all.js"
              },
              {
               "name": null,
               "type": "css",
               "url": "/assetserver/80114e5ad664e06577895a31e20a0e7cce43fcd4-style.css"
              },
              {
               "name": null,
               "type": "css",
               "url": "/assetserver/b90f30cd9e8b037af033b216ed9956fb993ffcff-bulma_confined.min.css"
              }
             ],
             "type": "async_block"
            },
            "mount_callbacks": [
             "function () {\n    var handler = (function (ko, koPunches) {\n    ko.punches.enableAll();\n    ko.bindingHandlers.numericValue = {\n        init: function(element, valueAccessor, allBindings, data, context) {\n            var stringified = ko.observable(ko.unwrap(valueAccessor()));\n            stringified.subscribe(function(value) {\n                var val = parseFloat(value);\n                if (!isNaN(val)) {\n                    valueAccessor()(val);\n                }\n            });\n            valueAccessor().subscribe(function(value) {\n                var str = JSON.stringify(value);\n                if ((str == \"0\") && ([\"-0\", \"-0.\"].indexOf(stringified()) >= 0))\n                     return;\n                 if ([\"null\", \"\"].indexOf(str) >= 0)\n                     return;\n                stringified(str);\n            });\n            ko.applyBindingsToNode(\n                element,\n                {\n                    value: stringified,\n                    valueUpdate: allBindings.get('valueUpdate'),\n                },\n                context,\n            );\n        }\n    };\n    var json_data = {\"formatted_vals\":[\"0.0\",\"22.5\",\"45.0\"],\"changes\":WebIO.getval({\"name\":\"changes\",\"scope\":\"8790549955770234282\",\"id\":\"3306032924091245254\",\"type\":\"observable\"}),\"index\":WebIO.getval({\"name\":\"index\",\"scope\":\"8790549955770234282\",\"id\":\"8360419331706720494\",\"type\":\"observable\"})};\n    var self = this;\n    function AppViewModel() {\n        for (var key in json_data) {\n            var el = json_data[key];\n            this[key] = Array.isArray(el) ? ko.observableArray(el) : ko.observable(el);\n        }\n        \n        [this[\"formatted_val\"]=ko.computed(    function(){\n        return this.formatted_vals()[parseInt(this.index())-(1)];\n    }\n,this)]\n        [this[\"changes\"].subscribe((function (val){!(this.valueFromJulia[\"changes\"]) ? (WebIO.setval({\"name\":\"changes\",\"scope\":\"8790549955770234282\",\"id\":\"3306032924091245254\",\"type\":\"observable\"},val)) : undefined; return this.valueFromJulia[\"changes\"]=false}),self),this[\"index\"].subscribe((function (val){!(this.valueFromJulia[\"index\"]) ? (WebIO.setval({\"name\":\"index\",\"scope\":\"8790549955770234282\",\"id\":\"8360419331706720494\",\"type\":\"observable\"},val)) : undefined; return this.valueFromJulia[\"index\"]=false}),self)]\n        \n    }\n    self.model = new AppViewModel();\n    self.valueFromJulia = {};\n    for (var key in json_data) {\n        self.valueFromJulia[key] = false;\n    }\n    ko.applyBindings(self.model, self.dom);\n}\n);\n    (WebIO.importBlock({\"data\":[{\"name\":\"knockout\",\"type\":\"js\",\"url\":\"/assetserver/b4a508c9136c618558113710688cbae52aaba4d4-knockout.js\"},{\"name\":\"knockout_punches\",\"type\":\"js\",\"url\":\"/assetserver/e11c6094eccf83a4064de263f38f2286ea44e256-knockout_punches.js\"}],\"type\":\"async_block\"})).then((imports) => handler.apply(this, imports));\n}\n"
            ],
            "observables": {
             "changes": {
              "id": "3306032924091245254",
              "sync": false,
              "value": 0
             },
             "index": {
              "id": "8360419331706720494",
              "sync": true,
              "value": 2
             }
            },
            "systemjs_options": null
           },
           "nodeType": "Scope",
           "props": {},
           "type": "node"
          }
         ],
         "instanceArgs": {
          "namespace": "html",
          "tag": "div"
         },
         "nodeType": "DOM",
         "props": {
          "className": "field interact-widget"
         },
         "type": "node"
        },
        {
         "children": [
          {
           "children": [
            {
             "children": [
              {
               "children": [
                {
                 "children": [
                  "θ_1"
                 ],
                 "instanceArgs": {
                  "namespace": "html",
                  "tag": "label"
                 },
                 "nodeType": "DOM",
                 "props": {
                  "className": "interact ",
                  "style": {
                   "padding": "5px 10px 0px 10px"
                  }
                 },
                 "type": "node"
                }
               ],
               "instanceArgs": {
                "namespace": "html",
                "tag": "div"
               },
               "nodeType": "DOM",
               "props": {
                "className": "interact-flex-row-left"
               },
               "type": "node"
              },
              {
               "children": [
                {
                 "children": [],
                 "instanceArgs": {
                  "namespace": "html",
                  "tag": "input"
                 },
                 "nodeType": "DOM",
                 "props": {
                  "attributes": {
                   "data-bind": "numericValue: index, valueUpdate: 'input', event: {change: function (){this.changes(this.changes()+1)}}",
                   "orient": "horizontal",
                   "type": "range"
                  },
                  "className": "slider slider is-fullwidth",
                  "max": 4,
                  "min": 1,
                  "step": 1,
                  "style": {}
                 },
                 "type": "node"
                }
               ],
               "instanceArgs": {
                "namespace": "html",
                "tag": "div"
               },
               "nodeType": "DOM",
               "props": {
                "className": "interact-flex-row-center"
               },
               "type": "node"
              },
              {
               "children": [
                {
                 "children": [],
                 "instanceArgs": {
                  "namespace": "html",
                  "tag": "p"
                 },
                 "nodeType": "DOM",
                 "props": {
                  "attributes": {
                   "data-bind": "text: formatted_val"
                  }
                 },
                 "type": "node"
                }
               ],
               "instanceArgs": {
                "namespace": "html",
                "tag": "div"
               },
               "nodeType": "DOM",
               "props": {
                "className": "interact-flex-row-right"
               },
               "type": "node"
              }
             ],
             "instanceArgs": {
              "namespace": "html",
              "tag": "div"
             },
             "nodeType": "DOM",
             "props": {
              "className": "interact-flex-row interact-widget"
             },
             "type": "node"
            }
           ],
           "instanceArgs": {
            "handlers": {
             "changes": [
              "(function (val){return (val!=this.model[\"changes\"]()) ? (this.valueFromJulia[\"changes\"]=true, this.model[\"changes\"](val)) : undefined})"
             ],
             "index": [
              "(function (val){return (val!=this.model[\"index\"]()) ? (this.valueFromJulia[\"index\"]=true, this.model[\"index\"](val)) : undefined})"
             ]
            },
            "id": "6403059100689876863",
            "imports": {
             "data": [
              {
               "name": "knockout",
               "type": "js",
               "url": "/assetserver/b4a508c9136c618558113710688cbae52aaba4d4-knockout.js"
              },
              {
               "name": "knockout_punches",
               "type": "js",
               "url": "/assetserver/e11c6094eccf83a4064de263f38f2286ea44e256-knockout_punches.js"
              },
              {
               "name": null,
               "type": "js",
               "url": "/assetserver/b6f3c514ea6678066f94b86e8ea7bd9ec6f7ffa1-all.js"
              },
              {
               "name": null,
               "type": "css",
               "url": "/assetserver/80114e5ad664e06577895a31e20a0e7cce43fcd4-style.css"
              },
              {
               "name": null,
               "type": "css",
               "url": "/assetserver/b90f30cd9e8b037af033b216ed9956fb993ffcff-bulma_confined.min.css"
              }
             ],
             "type": "async_block"
            },
            "mount_callbacks": [
             "function () {\n    var handler = (function (ko, koPunches) {\n    ko.punches.enableAll();\n    ko.bindingHandlers.numericValue = {\n        init: function(element, valueAccessor, allBindings, data, context) {\n            var stringified = ko.observable(ko.unwrap(valueAccessor()));\n            stringified.subscribe(function(value) {\n                var val = parseFloat(value);\n                if (!isNaN(val)) {\n                    valueAccessor()(val);\n                }\n            });\n            valueAccessor().subscribe(function(value) {\n                var str = JSON.stringify(value);\n                if ((str == \"0\") && ([\"-0\", \"-0.\"].indexOf(stringified()) >= 0))\n                     return;\n                 if ([\"null\", \"\"].indexOf(str) >= 0)\n                     return;\n                stringified(str);\n            });\n            ko.applyBindingsToNode(\n                element,\n                {\n                    value: stringified,\n                    valueUpdate: allBindings.get('valueUpdate'),\n                },\n                context,\n            );\n        }\n    };\n    var json_data = {\"formatted_vals\":[\"45.0\",\"0.0\",\"22.5\",\"77.5\"],\"changes\":WebIO.getval({\"name\":\"changes\",\"scope\":\"6403059100689876863\",\"id\":\"13486736670215222092\",\"type\":\"observable\"}),\"index\":WebIO.getval({\"name\":\"index\",\"scope\":\"6403059100689876863\",\"id\":\"17992372550121303175\",\"type\":\"observable\"})};\n    var self = this;\n    function AppViewModel() {\n        for (var key in json_data) {\n            var el = json_data[key];\n            this[key] = Array.isArray(el) ? ko.observableArray(el) : ko.observable(el);\n        }\n        \n        [this[\"formatted_val\"]=ko.computed(    function(){\n        return this.formatted_vals()[parseInt(this.index())-(1)];\n    }\n,this)]\n        [this[\"changes\"].subscribe((function (val){!(this.valueFromJulia[\"changes\"]) ? (WebIO.setval({\"name\":\"changes\",\"scope\":\"6403059100689876863\",\"id\":\"13486736670215222092\",\"type\":\"observable\"},val)) : undefined; return this.valueFromJulia[\"changes\"]=false}),self),this[\"index\"].subscribe((function (val){!(this.valueFromJulia[\"index\"]) ? (WebIO.setval({\"name\":\"index\",\"scope\":\"6403059100689876863\",\"id\":\"17992372550121303175\",\"type\":\"observable\"},val)) : undefined; return this.valueFromJulia[\"index\"]=false}),self)]\n        \n    }\n    self.model = new AppViewModel();\n    self.valueFromJulia = {};\n    for (var key in json_data) {\n        self.valueFromJulia[key] = false;\n    }\n    ko.applyBindings(self.model, self.dom);\n}\n);\n    (WebIO.importBlock({\"data\":[{\"name\":\"knockout\",\"type\":\"js\",\"url\":\"/assetserver/b4a508c9136c618558113710688cbae52aaba4d4-knockout.js\"},{\"name\":\"knockout_punches\",\"type\":\"js\",\"url\":\"/assetserver/e11c6094eccf83a4064de263f38f2286ea44e256-knockout_punches.js\"}],\"type\":\"async_block\"})).then((imports) => handler.apply(this, imports));\n}\n"
            ],
            "observables": {
             "changes": {
              "id": "13486736670215222092",
              "sync": false,
              "value": 0
             },
             "index": {
              "id": "17992372550121303175",
              "sync": true,
              "value": 1
             }
            },
            "systemjs_options": null
           },
           "nodeType": "Scope",
           "props": {},
           "type": "node"
          }
         ],
         "instanceArgs": {
          "namespace": "html",
          "tag": "div"
         },
         "nodeType": "DOM",
         "props": {
          "className": "field interact-widget"
         },
         "type": "node"
        },
        {
         "children": [
          {
           "children": [
            {
             "children": [
              {
               "children": [
                {
                 "children": [
                  "γ_0"
                 ],
                 "instanceArgs": {
                  "namespace": "html",
                  "tag": "label"
                 },
                 "nodeType": "DOM",
                 "props": {
                  "className": "interact ",
                  "style": {
                   "padding": "5px 10px 0px 10px"
                  }
                 },
                 "type": "node"
                }
               ],
               "instanceArgs": {
                "namespace": "html",
                "tag": "div"
               },
               "nodeType": "DOM",
               "props": {
                "className": "interact-flex-row-left"
               },
               "type": "node"
              },
              {
               "children": [
                {
                 "children": [],
                 "instanceArgs": {
                  "namespace": "html",
                  "tag": "input"
                 },
                 "nodeType": "DOM",
                 "props": {
                  "attributes": {
                   "data-bind": "numericValue: index, valueUpdate: 'input', event: {change: function (){this.changes(this.changes()+1)}}",
                   "orient": "horizontal",
                   "type": "range"
                  },
                  "className": "slider slider is-fullwidth",
                  "max": 4,
                  "min": 1,
                  "step": 1,
                  "style": {}
                 },
                 "type": "node"
                }
               ],
               "instanceArgs": {
                "namespace": "html",
                "tag": "div"
               },
               "nodeType": "DOM",
               "props": {
                "className": "interact-flex-row-center"
               },
               "type": "node"
              },
              {
               "children": [
                {
                 "children": [],
                 "instanceArgs": {
                  "namespace": "html",
                  "tag": "p"
                 },
                 "nodeType": "DOM",
                 "props": {
                  "attributes": {
                   "data-bind": "text: formatted_val"
                  }
                 },
                 "type": "node"
                }
               ],
               "instanceArgs": {
                "namespace": "html",
                "tag": "div"
               },
               "nodeType": "DOM",
               "props": {
                "className": "interact-flex-row-right"
               },
               "type": "node"
              }
             ],
             "instanceArgs": {
              "namespace": "html",
              "tag": "div"
             },
             "nodeType": "DOM",
             "props": {
              "className": "interact-flex-row interact-widget"
             },
             "type": "node"
            }
           ],
           "instanceArgs": {
            "handlers": {
             "changes": [
              "(function (val){return (val!=this.model[\"changes\"]()) ? (this.valueFromJulia[\"changes\"]=true, this.model[\"changes\"](val)) : undefined})"
             ],
             "index": [
              "(function (val){return (val!=this.model[\"index\"]()) ? (this.valueFromJulia[\"index\"]=true, this.model[\"index\"](val)) : undefined})"
             ]
            },
            "id": "17014926202374756708",
            "imports": {
             "data": [
              {
               "name": "knockout",
               "type": "js",
               "url": "/assetserver/b4a508c9136c618558113710688cbae52aaba4d4-knockout.js"
              },
              {
               "name": "knockout_punches",
               "type": "js",
               "url": "/assetserver/e11c6094eccf83a4064de263f38f2286ea44e256-knockout_punches.js"
              },
              {
               "name": null,
               "type": "js",
               "url": "/assetserver/b6f3c514ea6678066f94b86e8ea7bd9ec6f7ffa1-all.js"
              },
              {
               "name": null,
               "type": "css",
               "url": "/assetserver/80114e5ad664e06577895a31e20a0e7cce43fcd4-style.css"
              },
              {
               "name": null,
               "type": "css",
               "url": "/assetserver/b90f30cd9e8b037af033b216ed9956fb993ffcff-bulma_confined.min.css"
              }
             ],
             "type": "async_block"
            },
            "mount_callbacks": [
             "function () {\n    var handler = (function (ko, koPunches) {\n    ko.punches.enableAll();\n    ko.bindingHandlers.numericValue = {\n        init: function(element, valueAccessor, allBindings, data, context) {\n            var stringified = ko.observable(ko.unwrap(valueAccessor()));\n            stringified.subscribe(function(value) {\n                var val = parseFloat(value);\n                if (!isNaN(val)) {\n                    valueAccessor()(val);\n                }\n            });\n            valueAccessor().subscribe(function(value) {\n                var str = JSON.stringify(value);\n                if ((str == \"0\") && ([\"-0\", \"-0.\"].indexOf(stringified()) >= 0))\n                     return;\n                 if ([\"null\", \"\"].indexOf(str) >= 0)\n                     return;\n                stringified(str);\n            });\n            ko.applyBindingsToNode(\n                element,\n                {\n                    value: stringified,\n                    valueUpdate: allBindings.get('valueUpdate'),\n                },\n                context,\n            );\n        }\n    };\n    var json_data = {\"formatted_vals\":[\"22.5\",\"0.0\",\"45.0\",\"77.5\"],\"changes\":WebIO.getval({\"name\":\"changes\",\"scope\":\"17014926202374756708\",\"id\":\"5469917307095946173\",\"type\":\"observable\"}),\"index\":WebIO.getval({\"name\":\"index\",\"scope\":\"17014926202374756708\",\"id\":\"14078721255656687460\",\"type\":\"observable\"})};\n    var self = this;\n    function AppViewModel() {\n        for (var key in json_data) {\n            var el = json_data[key];\n            this[key] = Array.isArray(el) ? ko.observableArray(el) : ko.observable(el);\n        }\n        \n        [this[\"formatted_val\"]=ko.computed(    function(){\n        return this.formatted_vals()[parseInt(this.index())-(1)];\n    }\n,this)]\n        [this[\"changes\"].subscribe((function (val){!(this.valueFromJulia[\"changes\"]) ? (WebIO.setval({\"name\":\"changes\",\"scope\":\"17014926202374756708\",\"id\":\"5469917307095946173\",\"type\":\"observable\"},val)) : undefined; return this.valueFromJulia[\"changes\"]=false}),self),this[\"index\"].subscribe((function (val){!(this.valueFromJulia[\"index\"]) ? (WebIO.setval({\"name\":\"index\",\"scope\":\"17014926202374756708\",\"id\":\"14078721255656687460\",\"type\":\"observable\"},val)) : undefined; return this.valueFromJulia[\"index\"]=false}),self)]\n        \n    }\n    self.model = new AppViewModel();\n    self.valueFromJulia = {};\n    for (var key in json_data) {\n        self.valueFromJulia[key] = false;\n    }\n    ko.applyBindings(self.model, self.dom);\n}\n);\n    (WebIO.importBlock({\"data\":[{\"name\":\"knockout\",\"type\":\"js\",\"url\":\"/assetserver/b4a508c9136c618558113710688cbae52aaba4d4-knockout.js\"},{\"name\":\"knockout_punches\",\"type\":\"js\",\"url\":\"/assetserver/e11c6094eccf83a4064de263f38f2286ea44e256-knockout_punches.js\"}],\"type\":\"async_block\"})).then((imports) => handler.apply(this, imports));\n}\n"
            ],
            "observables": {
             "changes": {
              "id": "5469917307095946173",
              "sync": false,
              "value": 0
             },
             "index": {
              "id": "14078721255656687460",
              "sync": true,
              "value": 1
             }
            },
            "systemjs_options": null
           },
           "nodeType": "Scope",
           "props": {},
           "type": "node"
          }
         ],
         "instanceArgs": {
          "namespace": "html",
          "tag": "div"
         },
         "nodeType": "DOM",
         "props": {
          "className": "field interact-widget"
         },
         "type": "node"
        },
        {
         "children": [
          {
           "children": [
            {
             "children": [
              {
               "children": [
                {
                 "children": [
                  "γ_1"
                 ],
                 "instanceArgs": {
                  "namespace": "html",
                  "tag": "label"
                 },
                 "nodeType": "DOM",
                 "props": {
                  "className": "interact ",
                  "style": {
                   "padding": "5px 10px 0px 10px"
                  }
                 },
                 "type": "node"
                }
               ],
               "instanceArgs": {
                "namespace": "html",
                "tag": "div"
               },
               "nodeType": "DOM",
               "props": {
                "className": "interact-flex-row-left"
               },
               "type": "node"
              },
              {
               "children": [
                {
                 "children": [],
                 "instanceArgs": {
                  "namespace": "html",
                  "tag": "input"
                 },
                 "nodeType": "DOM",
                 "props": {
                  "attributes": {
                   "data-bind": "numericValue: index, valueUpdate: 'input', event: {change: function (){this.changes(this.changes()+1)}}",
                   "orient": "horizontal",
                   "type": "range"
                  },
                  "className": "slider slider is-fullwidth",
                  "max": 4,
                  "min": 1,
                  "step": 1,
                  "style": {}
                 },
                 "type": "node"
                }
               ],
               "instanceArgs": {
                "namespace": "html",
                "tag": "div"
               },
               "nodeType": "DOM",
               "props": {
                "className": "interact-flex-row-center"
               },
               "type": "node"
              },
              {
               "children": [
                {
                 "children": [],
                 "instanceArgs": {
                  "namespace": "html",
                  "tag": "p"
                 },
                 "nodeType": "DOM",
                 "props": {
                  "attributes": {
                   "data-bind": "text: formatted_val"
                  }
                 },
                 "type": "node"
                }
               ],
               "instanceArgs": {
                "namespace": "html",
                "tag": "div"
               },
               "nodeType": "DOM",
               "props": {
                "className": "interact-flex-row-right"
               },
               "type": "node"
              }
             ],
             "instanceArgs": {
              "namespace": "html",
              "tag": "div"
             },
             "nodeType": "DOM",
             "props": {
              "className": "interact-flex-row interact-widget"
             },
             "type": "node"
            }
           ],
           "instanceArgs": {
            "handlers": {
             "changes": [
              "(function (val){return (val!=this.model[\"changes\"]()) ? (this.valueFromJulia[\"changes\"]=true, this.model[\"changes\"](val)) : undefined})"
             ],
             "index": [
              "(function (val){return (val!=this.model[\"index\"]()) ? (this.valueFromJulia[\"index\"]=true, this.model[\"index\"](val)) : undefined})"
             ]
            },
            "id": "17233934416776461207",
            "imports": {
             "data": [
              {
               "name": "knockout",
               "type": "js",
               "url": "/assetserver/b4a508c9136c618558113710688cbae52aaba4d4-knockout.js"
              },
              {
               "name": "knockout_punches",
               "type": "js",
               "url": "/assetserver/e11c6094eccf83a4064de263f38f2286ea44e256-knockout_punches.js"
              },
              {
               "name": null,
               "type": "js",
               "url": "/assetserver/b6f3c514ea6678066f94b86e8ea7bd9ec6f7ffa1-all.js"
              },
              {
               "name": null,
               "type": "css",
               "url": "/assetserver/80114e5ad664e06577895a31e20a0e7cce43fcd4-style.css"
              },
              {
               "name": null,
               "type": "css",
               "url": "/assetserver/b90f30cd9e8b037af033b216ed9956fb993ffcff-bulma_confined.min.css"
              }
             ],
             "type": "async_block"
            },
            "mount_callbacks": [
             "function () {\n    var handler = (function (ko, koPunches) {\n    ko.punches.enableAll();\n    ko.bindingHandlers.numericValue = {\n        init: function(element, valueAccessor, allBindings, data, context) {\n            var stringified = ko.observable(ko.unwrap(valueAccessor()));\n            stringified.subscribe(function(value) {\n                var val = parseFloat(value);\n                if (!isNaN(val)) {\n                    valueAccessor()(val);\n                }\n            });\n            valueAccessor().subscribe(function(value) {\n                var str = JSON.stringify(value);\n                if ((str == \"0\") && ([\"-0\", \"-0.\"].indexOf(stringified()) >= 0))\n                     return;\n                 if ([\"null\", \"\"].indexOf(str) >= 0)\n                     return;\n                stringified(str);\n            });\n            ko.applyBindingsToNode(\n                element,\n                {\n                    value: stringified,\n                    valueUpdate: allBindings.get('valueUpdate'),\n                },\n                context,\n            );\n        }\n    };\n    var json_data = {\"formatted_vals\":[\"-22.5\",\"0.0\",\"22.5\",\"45.0\"],\"changes\":WebIO.getval({\"name\":\"changes\",\"scope\":\"17233934416776461207\",\"id\":\"5076172810638460568\",\"type\":\"observable\"}),\"index\":WebIO.getval({\"name\":\"index\",\"scope\":\"17233934416776461207\",\"id\":\"15642605394585520009\",\"type\":\"observable\"})};\n    var self = this;\n    function AppViewModel() {\n        for (var key in json_data) {\n            var el = json_data[key];\n            this[key] = Array.isArray(el) ? ko.observableArray(el) : ko.observable(el);\n        }\n        \n        [this[\"formatted_val\"]=ko.computed(    function(){\n        return this.formatted_vals()[parseInt(this.index())-(1)];\n    }\n,this)]\n        [this[\"changes\"].subscribe((function (val){!(this.valueFromJulia[\"changes\"]) ? (WebIO.setval({\"name\":\"changes\",\"scope\":\"17233934416776461207\",\"id\":\"5076172810638460568\",\"type\":\"observable\"},val)) : undefined; return this.valueFromJulia[\"changes\"]=false}),self),this[\"index\"].subscribe((function (val){!(this.valueFromJulia[\"index\"]) ? (WebIO.setval({\"name\":\"index\",\"scope\":\"17233934416776461207\",\"id\":\"15642605394585520009\",\"type\":\"observable\"},val)) : undefined; return this.valueFromJulia[\"index\"]=false}),self)]\n        \n    }\n    self.model = new AppViewModel();\n    self.valueFromJulia = {};\n    for (var key in json_data) {\n        self.valueFromJulia[key] = false;\n    }\n    ko.applyBindings(self.model, self.dom);\n}\n);\n    (WebIO.importBlock({\"data\":[{\"name\":\"knockout\",\"type\":\"js\",\"url\":\"/assetserver/b4a508c9136c618558113710688cbae52aaba4d4-knockout.js\"},{\"name\":\"knockout_punches\",\"type\":\"js\",\"url\":\"/assetserver/e11c6094eccf83a4064de263f38f2286ea44e256-knockout_punches.js\"}],\"type\":\"async_block\"})).then((imports) => handler.apply(this, imports));\n}\n"
            ],
            "observables": {
             "changes": {
              "id": "5076172810638460568",
              "sync": false,
              "value": 0
             },
             "index": {
              "id": "15642605394585520009",
              "sync": true,
              "value": 2
             }
            },
            "systemjs_options": null
           },
           "nodeType": "Scope",
           "props": {},
           "type": "node"
          }
         ],
         "instanceArgs": {
          "namespace": "html",
          "tag": "div"
         },
         "nodeType": "DOM",
         "props": {
          "className": "field interact-widget"
         },
         "type": "node"
        },
        {
         "children": [
          {
           "children": [
            {
             "children": [
              {
               "children": [
                {
                 "children": [
                  "p"
                 ],
                 "instanceArgs": {
                  "namespace": "html",
                  "tag": "label"
                 },
                 "nodeType": "DOM",
                 "props": {
                  "className": "interact ",
                  "style": {
                   "padding": "5px 10px 0px 10px"
                  }
                 },
                 "type": "node"
                }
               ],
               "instanceArgs": {
                "namespace": "html",
                "tag": "div"
               },
               "nodeType": "DOM",
               "props": {
                "className": "interact-flex-row-left"
               },
               "type": "node"
              },
              {
               "children": [
                {
                 "children": [],
                 "instanceArgs": {
                  "namespace": "html",
                  "tag": "input"
                 },
                 "nodeType": "DOM",
                 "props": {
                  "attributes": {
                   "data-bind": "numericValue: index, valueUpdate: 'input', event: {change: function (){this.changes(this.changes()+1)}}",
                   "orient": "horizontal",
                   "type": "range"
                  },
                  "className": "slider slider is-fullwidth",
                  "max": 3,
                  "min": 1,
                  "step": 1,
                  "style": {}
                 },
                 "type": "node"
                }
               ],
               "instanceArgs": {
                "namespace": "html",
                "tag": "div"
               },
               "nodeType": "DOM",
               "props": {
                "className": "interact-flex-row-center"
               },
               "type": "node"
              },
              {
               "children": [
                {
                 "children": [],
                 "instanceArgs": {
                  "namespace": "html",
                  "tag": "p"
                 },
                 "nodeType": "DOM",
                 "props": {
                  "attributes": {
                   "data-bind": "text: formatted_val"
                  }
                 },
                 "type": "node"
                }
               ],
               "instanceArgs": {
                "namespace": "html",
                "tag": "div"
               },
               "nodeType": "DOM",
               "props": {
                "className": "interact-flex-row-right"
               },
               "type": "node"
              }
             ],
             "instanceArgs": {
              "namespace": "html",
              "tag": "div"
             },
             "nodeType": "DOM",
             "props": {
              "className": "interact-flex-row interact-widget"
             },
             "type": "node"
            }
           ],
           "instanceArgs": {
            "handlers": {
             "changes": [
              "(function (val){return (val!=this.model[\"changes\"]()) ? (this.valueFromJulia[\"changes\"]=true, this.model[\"changes\"](val)) : undefined})"
             ],
             "index": [
              "(function (val){return (val!=this.model[\"index\"]()) ? (this.valueFromJulia[\"index\"]=true, this.model[\"index\"](val)) : undefined})"
             ]
            },
            "id": "12647147129082004187",
            "imports": {
             "data": [
              {
               "name": "knockout",
               "type": "js",
               "url": "/assetserver/b4a508c9136c618558113710688cbae52aaba4d4-knockout.js"
              },
              {
               "name": "knockout_punches",
               "type": "js",
               "url": "/assetserver/e11c6094eccf83a4064de263f38f2286ea44e256-knockout_punches.js"
              },
              {
               "name": null,
               "type": "js",
               "url": "/assetserver/b6f3c514ea6678066f94b86e8ea7bd9ec6f7ffa1-all.js"
              },
              {
               "name": null,
               "type": "css",
               "url": "/assetserver/80114e5ad664e06577895a31e20a0e7cce43fcd4-style.css"
              },
              {
               "name": null,
               "type": "css",
               "url": "/assetserver/b90f30cd9e8b037af033b216ed9956fb993ffcff-bulma_confined.min.css"
              }
             ],
             "type": "async_block"
            },
            "mount_callbacks": [
             "function () {\n    var handler = (function (ko, koPunches) {\n    ko.punches.enableAll();\n    ko.bindingHandlers.numericValue = {\n        init: function(element, valueAccessor, allBindings, data, context) {\n            var stringified = ko.observable(ko.unwrap(valueAccessor()));\n            stringified.subscribe(function(value) {\n                var val = parseFloat(value);\n                if (!isNaN(val)) {\n                    valueAccessor()(val);\n                }\n            });\n            valueAccessor().subscribe(function(value) {\n                var str = JSON.stringify(value);\n                if ((str == \"0\") && ([\"-0\", \"-0.\"].indexOf(stringified()) >= 0))\n                     return;\n                 if ([\"null\", \"\"].indexOf(str) >= 0)\n                     return;\n                stringified(str);\n            });\n            ko.applyBindingsToNode(\n                element,\n                {\n                    value: stringified,\n                    valueUpdate: allBindings.get('valueUpdate'),\n                },\n                context,\n            );\n        }\n    };\n    var json_data = {\"formatted_vals\":[\"0.0\",\"0.5\",\"1.0\"],\"changes\":WebIO.getval({\"name\":\"changes\",\"scope\":\"12647147129082004187\",\"id\":\"17955113371633546818\",\"type\":\"observable\"}),\"index\":WebIO.getval({\"name\":\"index\",\"scope\":\"12647147129082004187\",\"id\":\"13771440678610838683\",\"type\":\"observable\"})};\n    var self = this;\n    function AppViewModel() {\n        for (var key in json_data) {\n            var el = json_data[key];\n            this[key] = Array.isArray(el) ? ko.observableArray(el) : ko.observable(el);\n        }\n        \n        [this[\"formatted_val\"]=ko.computed(    function(){\n        return this.formatted_vals()[parseInt(this.index())-(1)];\n    }\n,this)]\n        [this[\"changes\"].subscribe((function (val){!(this.valueFromJulia[\"changes\"]) ? (WebIO.setval({\"name\":\"changes\",\"scope\":\"12647147129082004187\",\"id\":\"17955113371633546818\",\"type\":\"observable\"},val)) : undefined; return this.valueFromJulia[\"changes\"]=false}),self),this[\"index\"].subscribe((function (val){!(this.valueFromJulia[\"index\"]) ? (WebIO.setval({\"name\":\"index\",\"scope\":\"12647147129082004187\",\"id\":\"13771440678610838683\",\"type\":\"observable\"},val)) : undefined; return this.valueFromJulia[\"index\"]=false}),self)]\n        \n    }\n    self.model = new AppViewModel();\n    self.valueFromJulia = {};\n    for (var key in json_data) {\n        self.valueFromJulia[key] = false;\n    }\n    ko.applyBindings(self.model, self.dom);\n}\n);\n    (WebIO.importBlock({\"data\":[{\"name\":\"knockout\",\"type\":\"js\",\"url\":\"/assetserver/b4a508c9136c618558113710688cbae52aaba4d4-knockout.js\"},{\"name\":\"knockout_punches\",\"type\":\"js\",\"url\":\"/assetserver/e11c6094eccf83a4064de263f38f2286ea44e256-knockout_punches.js\"}],\"type\":\"async_block\"})).then((imports) => handler.apply(this, imports));\n}\n"
            ],
            "observables": {
             "changes": {
              "id": "17955113371633546818",
              "sync": false,
              "value": 0
             },
             "index": {
              "id": "13771440678610838683",
              "sync": true,
              "value": 2
             }
            },
            "systemjs_options": null
           },
           "nodeType": "Scope",
           "props": {},
           "type": "node"
          }
         ],
         "instanceArgs": {
          "namespace": "html",
          "tag": "div"
         },
         "nodeType": "DOM",
         "props": {
          "className": "field interact-widget"
         },
         "type": "node"
        },
        {
         "children": [
          {
           "children": [],
           "instanceArgs": {
            "id": "7000947875590368230",
            "name": "obs-node"
           },
           "nodeType": "ObservableNode",
           "props": {},
           "type": "node"
          }
         ],
         "instanceArgs": {
          "handlers": {},
          "id": "11113796816580236203",
          "imports": {
           "data": [],
           "type": "async_block"
          },
          "mount_callbacks": [],
          "observables": {
           "obs-node": {
            "id": "7000947875590368230",
            "sync": false,
            "value": {
             "children": [
              {
               "children": [],
               "instanceArgs": {
                "namespace": "html",
                "tag": "div"
               },
               "nodeType": "DOM",
               "props": {
                "setInnerHtml": "<img src='data:image/png;base64,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'></img>"
               },
               "type": "node"
              }
             ],
             "instanceArgs": {
              "namespace": "html",
              "tag": "div"
             },
             "nodeType": "DOM",
             "props": {
              "className": "interact-flex-row interact-widget"
             },
             "type": "node"
            }
           }
          },
          "systemjs_options": null
         },
         "nodeType": "Scope",
         "props": {},
         "type": "node"
        }
       ],
       "instanceArgs": {
        "namespace": "html",
        "tag": "div"
       },
       "nodeType": "DOM",
       "props": {},
       "type": "node"
      },
      "text/html": [
       "<div\n",
       "    class=\"webio-mountpoint\"\n",
       "    data-webio-mountpoint=\"7903932725563975665\"\n",
       ">\n",
       "    <script>\n",
       "    (function(){\n",
       "    // Some integrations (namely, IJulia/Jupyter) use an alternate render pathway than\n",
       "    // just putting the html on the page. If WebIO isn't defined, then it's pretty likely\n",
       "    // that we're in one of those situations and the integration just isn't installed\n",
       "    // correctly.\n",
       "    if (typeof window.WebIO === \"undefined\") {\n",
       "        document\n",
       "            .querySelector('[data-webio-mountpoint=\"7903932725563975665\"]')\n",
       "            .innerHTML = (\n",
       "                '<div style=\"padding: 1em; background-color: #f8d6da; border: 1px solid #f5c6cb; font-weight: bold;\">' +\n",
       "                '<p><strong>WebIO not detected.</strong></p>' +\n",
       "                '<p>Please read ' +\n",
       "                '<a href=\"https://juliagizmos.github.io/WebIO.jl/latest/troubleshooting/not-detected/\" target=\"_blank\">the troubleshooting guide</a> ' +\n",
       "                'for more information on how to resolve this issue.</p>' +\n",
       "                '<p><a href=\"https://juliagizmos.github.io/WebIO.jl/latest/troubleshooting/not-detected/\" target=\"_blank\">https://juliagizmos.github.io/WebIO.jl/latest/troubleshooting/not-detected/</a></p>' +\n",
       "                '</div>'\n",
       "            );\n",
       "        return;\n",
       "    }\n",
       "    WebIO.mount(\n",
       "        document.querySelector('[data-webio-mountpoint=\"7903932725563975665\"]'),\n",
       "        {\"props\":{},\"nodeType\":\"DOM\",\"type\":\"node\",\"instanceArgs\":{\"namespace\":\"html\",\"tag\":\"div\"},\"children\":[{\"props\":{\"className\":\"field interact-widget\"},\"nodeType\":\"DOM\",\"type\":\"node\",\"instanceArgs\":{\"namespace\":\"html\",\"tag\":\"div\"},\"children\":[{\"props\":{},\"nodeType\":\"Scope\",\"type\":\"node\",\"instanceArgs\":{\"imports\":{\"data\":[{\"name\":\"knockout\",\"type\":\"js\",\"url\":\"\\/assetserver\\/b4a508c9136c618558113710688cbae52aaba4d4-knockout.js\"},{\"name\":\"knockout_punches\",\"type\":\"js\",\"url\":\"\\/assetserver\\/e11c6094eccf83a4064de263f38f2286ea44e256-knockout_punches.js\"},{\"name\":null,\"type\":\"js\",\"url\":\"\\/assetserver\\/b6f3c514ea6678066f94b86e8ea7bd9ec6f7ffa1-all.js\"},{\"name\":null,\"type\":\"css\",\"url\":\"\\/assetserver\\/80114e5ad664e06577895a31e20a0e7cce43fcd4-style.css\"},{\"name\":null,\"type\":\"css\",\"url\":\"\\/assetserver\\/b90f30cd9e8b037af033b216ed9956fb993ffcff-bulma_confined.min.css\"}],\"type\":\"async_block\"},\"id\":\"8790549955770234282\",\"handlers\":{\"changes\":[\"(function (val){return (val!=this.model[\\\"changes\\\"]()) ? (this.valueFromJulia[\\\"changes\\\"]=true, this.model[\\\"changes\\\"](val)) : undefined})\"],\"index\":[\"(function (val){return (val!=this.model[\\\"index\\\"]()) ? (this.valueFromJulia[\\\"index\\\"]=true, this.model[\\\"index\\\"](val)) : undefined})\"]},\"systemjs_options\":null,\"mount_callbacks\":[\"function () {\\n    var handler = (function (ko, koPunches) {\\n    ko.punches.enableAll();\\n    ko.bindingHandlers.numericValue = {\\n        init: function(element, valueAccessor, allBindings, data, context) {\\n            var stringified = ko.observable(ko.unwrap(valueAccessor()));\\n            stringified.subscribe(function(value) {\\n                var val = parseFloat(value);\\n                if (!isNaN(val)) {\\n                    valueAccessor()(val);\\n                }\\n            });\\n            valueAccessor().subscribe(function(value) {\\n                var str = JSON.stringify(value);\\n                if ((str == \\\"0\\\") && ([\\\"-0\\\", \\\"-0.\\\"].indexOf(stringified()) >= 0))\\n                     return;\\n                 if ([\\\"null\\\", \\\"\\\"].indexOf(str) >= 0)\\n                     return;\\n                stringified(str);\\n            });\\n            ko.applyBindingsToNode(\\n                element,\\n                {\\n                    value: stringified,\\n                    valueUpdate: allBindings.get('valueUpdate'),\\n                },\\n                context,\\n            );\\n        }\\n    };\\n    var json_data = {\\\"formatted_vals\\\":[\\\"0.0\\\",\\\"22.5\\\",\\\"45.0\\\"],\\\"changes\\\":WebIO.getval({\\\"name\\\":\\\"changes\\\",\\\"scope\\\":\\\"8790549955770234282\\\",\\\"id\\\":\\\"3306032924091245254\\\",\\\"type\\\":\\\"observable\\\"}),\\\"index\\\":WebIO.getval({\\\"name\\\":\\\"index\\\",\\\"scope\\\":\\\"8790549955770234282\\\",\\\"id\\\":\\\"8360419331706720494\\\",\\\"type\\\":\\\"observable\\\"})};\\n    var self = this;\\n    function AppViewModel() {\\n        for (var key in json_data) {\\n            var el = json_data[key];\\n            this[key] = Array.isArray(el) ? ko.observableArray(el) : ko.observable(el);\\n        }\\n        \\n        [this[\\\"formatted_val\\\"]=ko.computed(    function(){\\n        return this.formatted_vals()[parseInt(this.index())-(1)];\\n    }\\n,this)]\\n        [this[\\\"changes\\\"].subscribe((function (val){!(this.valueFromJulia[\\\"changes\\\"]) ? (WebIO.setval({\\\"name\\\":\\\"changes\\\",\\\"scope\\\":\\\"8790549955770234282\\\",\\\"id\\\":\\\"3306032924091245254\\\",\\\"type\\\":\\\"observable\\\"},val)) : undefined; return this.valueFromJulia[\\\"changes\\\"]=false}),self),this[\\\"index\\\"].subscribe((function (val){!(this.valueFromJulia[\\\"index\\\"]) ? (WebIO.setval({\\\"name\\\":\\\"index\\\",\\\"scope\\\":\\\"8790549955770234282\\\",\\\"id\\\":\\\"8360419331706720494\\\",\\\"type\\\":\\\"observable\\\"},val)) : undefined; return this.valueFromJulia[\\\"index\\\"]=false}),self)]\\n        \\n    }\\n    self.model = new AppViewModel();\\n    self.valueFromJulia = {};\\n    for (var key in json_data) {\\n        self.valueFromJulia[key] = false;\\n    }\\n    ko.applyBindings(self.model, self.dom);\\n}\\n);\\n    (WebIO.importBlock({\\\"data\\\":[{\\\"name\\\":\\\"knockout\\\",\\\"type\\\":\\\"js\\\",\\\"url\\\":\\\"\\/assetserver\\/b4a508c9136c618558113710688cbae52aaba4d4-knockout.js\\\"},{\\\"name\\\":\\\"knockout_punches\\\",\\\"type\\\":\\\"js\\\",\\\"url\\\":\\\"\\/assetserver\\/e11c6094eccf83a4064de263f38f2286ea44e256-knockout_punches.js\\\"}],\\\"type\\\":\\\"async_block\\\"})).then((imports) => handler.apply(this, imports));\\n}\\n\"],\"observables\":{\"changes\":{\"sync\":false,\"id\":\"3306032924091245254\",\"value\":0},\"index\":{\"sync\":true,\"id\":\"8360419331706720494\",\"value\":2}}},\"children\":[{\"props\":{\"className\":\"interact-flex-row interact-widget\"},\"nodeType\":\"DOM\",\"type\":\"node\",\"instanceArgs\":{\"namespace\":\"html\",\"tag\":\"div\"},\"children\":[{\"props\":{\"className\":\"interact-flex-row-left\"},\"nodeType\":\"DOM\",\"type\":\"node\",\"instanceArgs\":{\"namespace\":\"html\",\"tag\":\"div\"},\"children\":[{\"props\":{\"className\":\"interact \",\"style\":{\"padding\":\"5px 10px 0px 10px\"}},\"nodeType\":\"DOM\",\"type\":\"node\",\"instanceArgs\":{\"namespace\":\"html\",\"tag\":\"label\"},\"children\":[\"θ_0\"]}]},{\"props\":{\"className\":\"interact-flex-row-center\"},\"nodeType\":\"DOM\",\"type\":\"node\",\"instanceArgs\":{\"namespace\":\"html\",\"tag\":\"div\"},\"children\":[{\"props\":{\"max\":3,\"min\":1,\"attributes\":{\"type\":\"range\",\"data-bind\":\"numericValue: index, valueUpdate: 'input', event: {change: function (){this.changes(this.changes()+1)}}\",\"orient\":\"horizontal\"},\"step\":1,\"className\":\"slider slider is-fullwidth\",\"style\":{}},\"nodeType\":\"DOM\",\"type\":\"node\",\"instanceArgs\":{\"namespace\":\"html\",\"tag\":\"input\"},\"children\":[]}]},{\"props\":{\"className\":\"interact-flex-row-right\"},\"nodeType\":\"DOM\",\"type\":\"node\",\"instanceArgs\":{\"namespace\":\"html\",\"tag\":\"div\"},\"children\":[{\"props\":{\"attributes\":{\"data-bind\":\"text: formatted_val\"}},\"nodeType\":\"DOM\",\"type\":\"node\",\"instanceArgs\":{\"namespace\":\"html\",\"tag\":\"p\"},\"children\":[]}]}]}]}]},{\"props\":{\"className\":\"field interact-widget\"},\"nodeType\":\"DOM\",\"type\":\"node\",\"instanceArgs\":{\"namespace\":\"html\",\"tag\":\"div\"},\"children\":[{\"props\":{},\"nodeType\":\"Scope\",\"type\":\"node\",\"instanceArgs\":{\"imports\":{\"data\":[{\"name\":\"knockout\",\"type\":\"js\",\"url\":\"\\/assetserver\\/b4a508c9136c618558113710688cbae52aaba4d4-knockout.js\"},{\"name\":\"knockout_punches\",\"type\":\"js\",\"url\":\"\\/assetserver\\/e11c6094eccf83a4064de263f38f2286ea44e256-knockout_punches.js\"},{\"name\":null,\"type\":\"js\",\"url\":\"\\/assetserver\\/b6f3c514ea6678066f94b86e8ea7bd9ec6f7ffa1-all.js\"},{\"name\":null,\"type\":\"css\",\"url\":\"\\/assetserver\\/80114e5ad664e06577895a31e20a0e7cce43fcd4-style.css\"},{\"name\":null,\"type\":\"css\",\"url\":\"\\/assetserver\\/b90f30cd9e8b037af033b216ed9956fb993ffcff-bulma_confined.min.css\"}],\"type\":\"async_block\"},\"id\":\"6403059100689876863\",\"handlers\":{\"changes\":[\"(function (val){return (val!=this.model[\\\"changes\\\"]()) ? (this.valueFromJulia[\\\"changes\\\"]=true, this.model[\\\"changes\\\"](val)) : undefined})\"],\"index\":[\"(function (val){return (val!=this.model[\\\"index\\\"]()) ? (this.valueFromJulia[\\\"index\\\"]=true, this.model[\\\"index\\\"](val)) : undefined})\"]},\"systemjs_options\":null,\"mount_callbacks\":[\"function () {\\n    var handler = (function (ko, koPunches) {\\n    ko.punches.enableAll();\\n    ko.bindingHandlers.numericValue = {\\n        init: function(element, valueAccessor, allBindings, data, context) {\\n            var stringified = ko.observable(ko.unwrap(valueAccessor()));\\n            stringified.subscribe(function(value) {\\n                var val = parseFloat(value);\\n                if (!isNaN(val)) {\\n                    valueAccessor()(val);\\n                }\\n            });\\n            valueAccessor().subscribe(function(value) {\\n                var str = JSON.stringify(value);\\n                if ((str == \\\"0\\\") && ([\\\"-0\\\", \\\"-0.\\\"].indexOf(stringified()) >= 0))\\n                     return;\\n                 if ([\\\"null\\\", \\\"\\\"].indexOf(str) >= 0)\\n                     return;\\n                stringified(str);\\n            });\\n            ko.applyBindingsToNode(\\n                element,\\n                {\\n                    value: stringified,\\n                    valueUpdate: allBindings.get('valueUpdate'),\\n                },\\n                context,\\n            );\\n        }\\n    };\\n    var json_data = {\\\"formatted_vals\\\":[\\\"45.0\\\",\\\"0.0\\\",\\\"22.5\\\",\\\"77.5\\\"],\\\"changes\\\":WebIO.getval({\\\"name\\\":\\\"changes\\\",\\\"scope\\\":\\\"6403059100689876863\\\",\\\"id\\\":\\\"13486736670215222092\\\",\\\"type\\\":\\\"observable\\\"}),\\\"index\\\":WebIO.getval({\\\"name\\\":\\\"index\\\",\\\"scope\\\":\\\"6403059100689876863\\\",\\\"id\\\":\\\"17992372550121303175\\\",\\\"type\\\":\\\"observable\\\"})};\\n    var self = this;\\n    function AppViewModel() {\\n        for (var key in json_data) {\\n            var el = json_data[key];\\n            this[key] = Array.isArray(el) ? ko.observableArray(el) : ko.observable(el);\\n        }\\n        \\n        [this[\\\"formatted_val\\\"]=ko.computed(    function(){\\n        return this.formatted_vals()[parseInt(this.index())-(1)];\\n    }\\n,this)]\\n        [this[\\\"changes\\\"].subscribe((function (val){!(this.valueFromJulia[\\\"changes\\\"]) ? (WebIO.setval({\\\"name\\\":\\\"changes\\\",\\\"scope\\\":\\\"6403059100689876863\\\",\\\"id\\\":\\\"13486736670215222092\\\",\\\"type\\\":\\\"observable\\\"},val)) : undefined; return this.valueFromJulia[\\\"changes\\\"]=false}),self),this[\\\"index\\\"].subscribe((function (val){!(this.valueFromJulia[\\\"index\\\"]) ? (WebIO.setval({\\\"name\\\":\\\"index\\\",\\\"scope\\\":\\\"6403059100689876863\\\",\\\"id\\\":\\\"17992372550121303175\\\",\\\"type\\\":\\\"observable\\\"},val)) : undefined; return this.valueFromJulia[\\\"index\\\"]=false}),self)]\\n        \\n    }\\n    self.model = new AppViewModel();\\n    self.valueFromJulia = {};\\n    for (var key in json_data) {\\n        self.valueFromJulia[key] = false;\\n    }\\n    ko.applyBindings(self.model, self.dom);\\n}\\n);\\n    (WebIO.importBlock({\\\"data\\\":[{\\\"name\\\":\\\"knockout\\\",\\\"type\\\":\\\"js\\\",\\\"url\\\":\\\"\\/assetserver\\/b4a508c9136c618558113710688cbae52aaba4d4-knockout.js\\\"},{\\\"name\\\":\\\"knockout_punches\\\",\\\"type\\\":\\\"js\\\",\\\"url\\\":\\\"\\/assetserver\\/e11c6094eccf83a4064de263f38f2286ea44e256-knockout_punches.js\\\"}],\\\"type\\\":\\\"async_block\\\"})).then((imports) => handler.apply(this, imports));\\n}\\n\"],\"observables\":{\"changes\":{\"sync\":false,\"id\":\"13486736670215222092\",\"value\":0},\"index\":{\"sync\":true,\"id\":\"17992372550121303175\",\"value\":1}}},\"children\":[{\"props\":{\"className\":\"interact-flex-row interact-widget\"},\"nodeType\":\"DOM\",\"type\":\"node\",\"instanceArgs\":{\"namespace\":\"html\",\"tag\":\"div\"},\"children\":[{\"props\":{\"className\":\"interact-flex-row-left\"},\"nodeType\":\"DOM\",\"type\":\"node\",\"instanceArgs\":{\"namespace\":\"html\",\"tag\":\"div\"},\"children\":[{\"props\":{\"className\":\"interact \",\"style\":{\"padding\":\"5px 10px 0px 10px\"}},\"nodeType\":\"DOM\",\"type\":\"node\",\"instanceArgs\":{\"namespace\":\"html\",\"tag\":\"label\"},\"children\":[\"θ_1\"]}]},{\"props\":{\"className\":\"interact-flex-row-center\"},\"nodeType\":\"DOM\",\"type\":\"node\",\"instanceArgs\":{\"namespace\":\"html\",\"tag\":\"div\"},\"children\":[{\"props\":{\"max\":4,\"min\":1,\"attributes\":{\"type\":\"range\",\"data-bind\":\"numericValue: index, valueUpdate: 'input', event: {change: function (){this.changes(this.changes()+1)}}\",\"orient\":\"horizontal\"},\"step\":1,\"className\":\"slider slider is-fullwidth\",\"style\":{}},\"nodeType\":\"DOM\",\"type\":\"node\",\"instanceArgs\":{\"namespace\":\"html\",\"tag\":\"input\"},\"children\":[]}]},{\"props\":{\"className\":\"interact-flex-row-right\"},\"nodeType\":\"DOM\",\"type\":\"node\",\"instanceArgs\":{\"namespace\":\"html\",\"tag\":\"div\"},\"children\":[{\"props\":{\"attributes\":{\"data-bind\":\"text: formatted_val\"}},\"nodeType\":\"DOM\",\"type\":\"node\",\"instanceArgs\":{\"namespace\":\"html\",\"tag\":\"p\"},\"children\":[]}]}]}]}]},{\"props\":{\"className\":\"field interact-widget\"},\"nodeType\":\"DOM\",\"type\":\"node\",\"instanceArgs\":{\"namespace\":\"html\",\"tag\":\"div\"},\"children\":[{\"props\":{},\"nodeType\":\"Scope\",\"type\":\"node\",\"instanceArgs\":{\"imports\":{\"data\":[{\"name\":\"knockout\",\"type\":\"js\",\"url\":\"\\/assetserver\\/b4a508c9136c618558113710688cbae52aaba4d4-knockout.js\"},{\"name\":\"knockout_punches\",\"type\":\"js\",\"url\":\"\\/assetserver\\/e11c6094eccf83a4064de263f38f2286ea44e256-knockout_punches.js\"},{\"name\":null,\"type\":\"js\",\"url\":\"\\/assetserver\\/b6f3c514ea6678066f94b86e8ea7bd9ec6f7ffa1-all.js\"},{\"name\":null,\"type\":\"css\",\"url\":\"\\/assetserver\\/80114e5ad664e06577895a31e20a0e7cce43fcd4-style.css\"},{\"name\":null,\"type\":\"css\",\"url\":\"\\/assetserver\\/b90f30cd9e8b037af033b216ed9956fb993ffcff-bulma_confined.min.css\"}],\"type\":\"async_block\"},\"id\":\"17014926202374756708\",\"handlers\":{\"changes\":[\"(function (val){return (val!=this.model[\\\"changes\\\"]()) ? (this.valueFromJulia[\\\"changes\\\"]=true, this.model[\\\"changes\\\"](val)) : undefined})\"],\"index\":[\"(function (val){return (val!=this.model[\\\"index\\\"]()) ? (this.valueFromJulia[\\\"index\\\"]=true, this.model[\\\"index\\\"](val)) : undefined})\"]},\"systemjs_options\":null,\"mount_callbacks\":[\"function () {\\n    var handler = (function (ko, koPunches) {\\n    ko.punches.enableAll();\\n    ko.bindingHandlers.numericValue = {\\n        init: function(element, valueAccessor, allBindings, data, context) {\\n            var stringified = ko.observable(ko.unwrap(valueAccessor()));\\n            stringified.subscribe(function(value) {\\n                var val = parseFloat(value);\\n                if (!isNaN(val)) {\\n                    valueAccessor()(val);\\n                }\\n            });\\n            valueAccessor().subscribe(function(value) {\\n                var str = JSON.stringify(value);\\n                if ((str == \\\"0\\\") && ([\\\"-0\\\", \\\"-0.\\\"].indexOf(stringified()) >= 0))\\n                     return;\\n                 if ([\\\"null\\\", \\\"\\\"].indexOf(str) >= 0)\\n                     return;\\n                stringified(str);\\n            });\\n            ko.applyBindingsToNode(\\n                element,\\n                {\\n                    value: stringified,\\n                    valueUpdate: allBindings.get('valueUpdate'),\\n                },\\n                context,\\n            );\\n        }\\n    };\\n    var json_data = {\\\"formatted_vals\\\":[\\\"22.5\\\",\\\"0.0\\\",\\\"45.0\\\",\\\"77.5\\\"],\\\"changes\\\":WebIO.getval({\\\"name\\\":\\\"changes\\\",\\\"scope\\\":\\\"17014926202374756708\\\",\\\"id\\\":\\\"5469917307095946173\\\",\\\"type\\\":\\\"observable\\\"}),\\\"index\\\":WebIO.getval({\\\"name\\\":\\\"index\\\",\\\"scope\\\":\\\"17014926202374756708\\\",\\\"id\\\":\\\"14078721255656687460\\\",\\\"type\\\":\\\"observable\\\"})};\\n    var self = this;\\n    function AppViewModel() {\\n        for (var key in json_data) {\\n            var el = json_data[key];\\n            this[key] = Array.isArray(el) ? ko.observableArray(el) : ko.observable(el);\\n        }\\n        \\n        [this[\\\"formatted_val\\\"]=ko.computed(    function(){\\n        return this.formatted_vals()[parseInt(this.index())-(1)];\\n    }\\n,this)]\\n        [this[\\\"changes\\\"].subscribe((function (val){!(this.valueFromJulia[\\\"changes\\\"]) ? (WebIO.setval({\\\"name\\\":\\\"changes\\\",\\\"scope\\\":\\\"17014926202374756708\\\",\\\"id\\\":\\\"5469917307095946173\\\",\\\"type\\\":\\\"observable\\\"},val)) : undefined; return this.valueFromJulia[\\\"changes\\\"]=false}),self),this[\\\"index\\\"].subscribe((function (val){!(this.valueFromJulia[\\\"index\\\"]) ? (WebIO.setval({\\\"name\\\":\\\"index\\\",\\\"scope\\\":\\\"17014926202374756708\\\",\\\"id\\\":\\\"14078721255656687460\\\",\\\"type\\\":\\\"observable\\\"},val)) : undefined; return this.valueFromJulia[\\\"index\\\"]=false}),self)]\\n        \\n    }\\n    self.model = new AppViewModel();\\n    self.valueFromJulia = {};\\n    for (var key in json_data) {\\n        self.valueFromJulia[key] = false;\\n    }\\n    ko.applyBindings(self.model, self.dom);\\n}\\n);\\n    (WebIO.importBlock({\\\"data\\\":[{\\\"name\\\":\\\"knockout\\\",\\\"type\\\":\\\"js\\\",\\\"url\\\":\\\"\\/assetserver\\/b4a508c9136c618558113710688cbae52aaba4d4-knockout.js\\\"},{\\\"name\\\":\\\"knockout_punches\\\",\\\"type\\\":\\\"js\\\",\\\"url\\\":\\\"\\/assetserver\\/e11c6094eccf83a4064de263f38f2286ea44e256-knockout_punches.js\\\"}],\\\"type\\\":\\\"async_block\\\"})).then((imports) => handler.apply(this, imports));\\n}\\n\"],\"observables\":{\"changes\":{\"sync\":false,\"id\":\"5469917307095946173\",\"value\":0},\"index\":{\"sync\":true,\"id\":\"14078721255656687460\",\"value\":1}}},\"children\":[{\"props\":{\"className\":\"interact-flex-row interact-widget\"},\"nodeType\":\"DOM\",\"type\":\"node\",\"instanceArgs\":{\"namespace\":\"html\",\"tag\":\"div\"},\"children\":[{\"props\":{\"className\":\"interact-flex-row-left\"},\"nodeType\":\"DOM\",\"type\":\"node\",\"instanceArgs\":{\"namespace\":\"html\",\"tag\":\"div\"},\"children\":[{\"props\":{\"className\":\"interact \",\"style\":{\"padding\":\"5px 10px 0px 10px\"}},\"nodeType\":\"DOM\",\"type\":\"node\",\"instanceArgs\":{\"namespace\":\"html\",\"tag\":\"label\"},\"children\":[\"γ_0\"]}]},{\"props\":{\"className\":\"interact-flex-row-center\"},\"nodeType\":\"DOM\",\"type\":\"node\",\"instanceArgs\":{\"namespace\":\"html\",\"tag\":\"div\"},\"children\":[{\"props\":{\"max\":4,\"min\":1,\"attributes\":{\"type\":\"range\",\"data-bind\":\"numericValue: index, valueUpdate: 'input', event: {change: function (){this.changes(this.changes()+1)}}\",\"orient\":\"horizontal\"},\"step\":1,\"className\":\"slider slider is-fullwidth\",\"style\":{}},\"nodeType\":\"DOM\",\"type\":\"node\",\"instanceArgs\":{\"namespace\":\"html\",\"tag\":\"input\"},\"children\":[]}]},{\"props\":{\"className\":\"interact-flex-row-right\"},\"nodeType\":\"DOM\",\"type\":\"node\",\"instanceArgs\":{\"namespace\":\"html\",\"tag\":\"div\"},\"children\":[{\"props\":{\"attributes\":{\"data-bind\":\"text: formatted_val\"}},\"nodeType\":\"DOM\",\"type\":\"node\",\"instanceArgs\":{\"namespace\":\"html\",\"tag\":\"p\"},\"children\":[]}]}]}]}]},{\"props\":{\"className\":\"field interact-widget\"},\"nodeType\":\"DOM\",\"type\":\"node\",\"instanceArgs\":{\"namespace\":\"html\",\"tag\":\"div\"},\"children\":[{\"props\":{},\"nodeType\":\"Scope\",\"type\":\"node\",\"instanceArgs\":{\"imports\":{\"data\":[{\"name\":\"knockout\",\"type\":\"js\",\"url\":\"\\/assetserver\\/b4a508c9136c618558113710688cbae52aaba4d4-knockout.js\"},{\"name\":\"knockout_punches\",\"type\":\"js\",\"url\":\"\\/assetserver\\/e11c6094eccf83a4064de263f38f2286ea44e256-knockout_punches.js\"},{\"name\":null,\"type\":\"js\",\"url\":\"\\/assetserver\\/b6f3c514ea6678066f94b86e8ea7bd9ec6f7ffa1-all.js\"},{\"name\":null,\"type\":\"css\",\"url\":\"\\/assetserver\\/80114e5ad664e06577895a31e20a0e7cce43fcd4-style.css\"},{\"name\":null,\"type\":\"css\",\"url\":\"\\/assetserver\\/b90f30cd9e8b037af033b216ed9956fb993ffcff-bulma_confined.min.css\"}],\"type\":\"async_block\"},\"id\":\"17233934416776461207\",\"handlers\":{\"changes\":[\"(function (val){return (val!=this.model[\\\"changes\\\"]()) ? (this.valueFromJulia[\\\"changes\\\"]=true, this.model[\\\"changes\\\"](val)) : undefined})\"],\"index\":[\"(function (val){return (val!=this.model[\\\"index\\\"]()) ? (this.valueFromJulia[\\\"index\\\"]=true, this.model[\\\"index\\\"](val)) : undefined})\"]},\"systemjs_options\":null,\"mount_callbacks\":[\"function () {\\n    var handler = (function (ko, koPunches) {\\n    ko.punches.enableAll();\\n    ko.bindingHandlers.numericValue = {\\n        init: function(element, valueAccessor, allBindings, data, context) {\\n            var stringified = ko.observable(ko.unwrap(valueAccessor()));\\n            stringified.subscribe(function(value) {\\n                var val = parseFloat(value);\\n                if (!isNaN(val)) {\\n                    valueAccessor()(val);\\n                }\\n            });\\n            valueAccessor().subscribe(function(value) {\\n                var str = JSON.stringify(value);\\n                if ((str == \\\"0\\\") && ([\\\"-0\\\", \\\"-0.\\\"].indexOf(stringified()) >= 0))\\n                     return;\\n                 if ([\\\"null\\\", \\\"\\\"].indexOf(str) >= 0)\\n                     return;\\n                stringified(str);\\n            });\\n            ko.applyBindingsToNode(\\n                element,\\n                {\\n                    value: stringified,\\n                    valueUpdate: allBindings.get('valueUpdate'),\\n                },\\n                context,\\n            );\\n        }\\n    };\\n    var json_data = {\\\"formatted_vals\\\":[\\\"-22.5\\\",\\\"0.0\\\",\\\"22.5\\\",\\\"45.0\\\"],\\\"changes\\\":WebIO.getval({\\\"name\\\":\\\"changes\\\",\\\"scope\\\":\\\"17233934416776461207\\\",\\\"id\\\":\\\"5076172810638460568\\\",\\\"type\\\":\\\"observable\\\"}),\\\"index\\\":WebIO.getval({\\\"name\\\":\\\"index\\\",\\\"scope\\\":\\\"17233934416776461207\\\",\\\"id\\\":\\\"15642605394585520009\\\",\\\"type\\\":\\\"observable\\\"})};\\n    var self = this;\\n    function AppViewModel() {\\n        for (var key in json_data) {\\n            var el = json_data[key];\\n            this[key] = Array.isArray(el) ? ko.observableArray(el) : ko.observable(el);\\n        }\\n        \\n        [this[\\\"formatted_val\\\"]=ko.computed(    function(){\\n        return this.formatted_vals()[parseInt(this.index())-(1)];\\n    }\\n,this)]\\n        [this[\\\"changes\\\"].subscribe((function (val){!(this.valueFromJulia[\\\"changes\\\"]) ? (WebIO.setval({\\\"name\\\":\\\"changes\\\",\\\"scope\\\":\\\"17233934416776461207\\\",\\\"id\\\":\\\"5076172810638460568\\\",\\\"type\\\":\\\"observable\\\"},val)) : undefined; return this.valueFromJulia[\\\"changes\\\"]=false}),self),this[\\\"index\\\"].subscribe((function (val){!(this.valueFromJulia[\\\"index\\\"]) ? (WebIO.setval({\\\"name\\\":\\\"index\\\",\\\"scope\\\":\\\"17233934416776461207\\\",\\\"id\\\":\\\"15642605394585520009\\\",\\\"type\\\":\\\"observable\\\"},val)) : undefined; return this.valueFromJulia[\\\"index\\\"]=false}),self)]\\n        \\n    }\\n    self.model = new AppViewModel();\\n    self.valueFromJulia = {};\\n    for (var key in json_data) {\\n        self.valueFromJulia[key] = false;\\n    }\\n    ko.applyBindings(self.model, self.dom);\\n}\\n);\\n    (WebIO.importBlock({\\\"data\\\":[{\\\"name\\\":\\\"knockout\\\",\\\"type\\\":\\\"js\\\",\\\"url\\\":\\\"\\/assetserver\\/b4a508c9136c618558113710688cbae52aaba4d4-knockout.js\\\"},{\\\"name\\\":\\\"knockout_punches\\\",\\\"type\\\":\\\"js\\\",\\\"url\\\":\\\"\\/assetserver\\/e11c6094eccf83a4064de263f38f2286ea44e256-knockout_punches.js\\\"}],\\\"type\\\":\\\"async_block\\\"})).then((imports) => handler.apply(this, imports));\\n}\\n\"],\"observables\":{\"changes\":{\"sync\":false,\"id\":\"5076172810638460568\",\"value\":0},\"index\":{\"sync\":true,\"id\":\"15642605394585520009\",\"value\":2}}},\"children\":[{\"props\":{\"className\":\"interact-flex-row interact-widget\"},\"nodeType\":\"DOM\",\"type\":\"node\",\"instanceArgs\":{\"namespace\":\"html\",\"tag\":\"div\"},\"children\":[{\"props\":{\"className\":\"interact-flex-row-left\"},\"nodeType\":\"DOM\",\"type\":\"node\",\"instanceArgs\":{\"namespace\":\"html\",\"tag\":\"div\"},\"children\":[{\"props\":{\"className\":\"interact \",\"style\":{\"padding\":\"5px 10px 0px 10px\"}},\"nodeType\":\"DOM\",\"type\":\"node\",\"instanceArgs\":{\"namespace\":\"html\",\"tag\":\"label\"},\"children\":[\"γ_1\"]}]},{\"props\":{\"className\":\"interact-flex-row-center\"},\"nodeType\":\"DOM\",\"type\":\"node\",\"instanceArgs\":{\"namespace\":\"html\",\"tag\":\"div\"},\"children\":[{\"props\":{\"max\":4,\"min\":1,\"attributes\":{\"type\":\"range\",\"data-bind\":\"numericValue: index, valueUpdate: 'input', event: {change: function (){this.changes(this.changes()+1)}}\",\"orient\":\"horizontal\"},\"step\":1,\"className\":\"slider slider is-fullwidth\",\"style\":{}},\"nodeType\":\"DOM\",\"type\":\"node\",\"instanceArgs\":{\"namespace\":\"html\",\"tag\":\"input\"},\"children\":[]}]},{\"props\":{\"className\":\"interact-flex-row-right\"},\"nodeType\":\"DOM\",\"type\":\"node\",\"instanceArgs\":{\"namespace\":\"html\",\"tag\":\"div\"},\"children\":[{\"props\":{\"attributes\":{\"data-bind\":\"text: formatted_val\"}},\"nodeType\":\"DOM\",\"type\":\"node\",\"instanceArgs\":{\"namespace\":\"html\",\"tag\":\"p\"},\"children\":[]}]}]}]}]},{\"props\":{\"className\":\"field interact-widget\"},\"nodeType\":\"DOM\",\"type\":\"node\",\"instanceArgs\":{\"namespace\":\"html\",\"tag\":\"div\"},\"children\":[{\"props\":{},\"nodeType\":\"Scope\",\"type\":\"node\",\"instanceArgs\":{\"imports\":{\"data\":[{\"name\":\"knockout\",\"type\":\"js\",\"url\":\"\\/assetserver\\/b4a508c9136c618558113710688cbae52aaba4d4-knockout.js\"},{\"name\":\"knockout_punches\",\"type\":\"js\",\"url\":\"\\/assetserver\\/e11c6094eccf83a4064de263f38f2286ea44e256-knockout_punches.js\"},{\"name\":null,\"type\":\"js\",\"url\":\"\\/assetserver\\/b6f3c514ea6678066f94b86e8ea7bd9ec6f7ffa1-all.js\"},{\"name\":null,\"type\":\"css\",\"url\":\"\\/assetserver\\/80114e5ad664e06577895a31e20a0e7cce43fcd4-style.css\"},{\"name\":null,\"type\":\"css\",\"url\":\"\\/assetserver\\/b90f30cd9e8b037af033b216ed9956fb993ffcff-bulma_confined.min.css\"}],\"type\":\"async_block\"},\"id\":\"12647147129082004187\",\"handlers\":{\"changes\":[\"(function (val){return (val!=this.model[\\\"changes\\\"]()) ? (this.valueFromJulia[\\\"changes\\\"]=true, this.model[\\\"changes\\\"](val)) : undefined})\"],\"index\":[\"(function (val){return (val!=this.model[\\\"index\\\"]()) ? (this.valueFromJulia[\\\"index\\\"]=true, this.model[\\\"index\\\"](val)) : undefined})\"]},\"systemjs_options\":null,\"mount_callbacks\":[\"function () {\\n    var handler = (function (ko, koPunches) {\\n    ko.punches.enableAll();\\n    ko.bindingHandlers.numericValue = {\\n        init: function(element, valueAccessor, allBindings, data, context) {\\n            var stringified = ko.observable(ko.unwrap(valueAccessor()));\\n            stringified.subscribe(function(value) {\\n                var val = parseFloat(value);\\n                if (!isNaN(val)) {\\n                    valueAccessor()(val);\\n                }\\n            });\\n            valueAccessor().subscribe(function(value) {\\n                var str = JSON.stringify(value);\\n                if ((str == \\\"0\\\") && ([\\\"-0\\\", \\\"-0.\\\"].indexOf(stringified()) >= 0))\\n                     return;\\n                 if ([\\\"null\\\", \\\"\\\"].indexOf(str) >= 0)\\n                     return;\\n                stringified(str);\\n            });\\n            ko.applyBindingsToNode(\\n                element,\\n                {\\n                    value: stringified,\\n                    valueUpdate: allBindings.get('valueUpdate'),\\n                },\\n                context,\\n            );\\n        }\\n    };\\n    var json_data = {\\\"formatted_vals\\\":[\\\"0.0\\\",\\\"0.5\\\",\\\"1.0\\\"],\\\"changes\\\":WebIO.getval({\\\"name\\\":\\\"changes\\\",\\\"scope\\\":\\\"12647147129082004187\\\",\\\"id\\\":\\\"17955113371633546818\\\",\\\"type\\\":\\\"observable\\\"}),\\\"index\\\":WebIO.getval({\\\"name\\\":\\\"index\\\",\\\"scope\\\":\\\"12647147129082004187\\\",\\\"id\\\":\\\"13771440678610838683\\\",\\\"type\\\":\\\"observable\\\"})};\\n    var self = this;\\n    function AppViewModel() {\\n        for (var key in json_data) {\\n            var el = json_data[key];\\n            this[key] = Array.isArray(el) ? ko.observableArray(el) : ko.observable(el);\\n        }\\n        \\n        [this[\\\"formatted_val\\\"]=ko.computed(    function(){\\n        return this.formatted_vals()[parseInt(this.index())-(1)];\\n    }\\n,this)]\\n        [this[\\\"changes\\\"].subscribe((function (val){!(this.valueFromJulia[\\\"changes\\\"]) ? (WebIO.setval({\\\"name\\\":\\\"changes\\\",\\\"scope\\\":\\\"12647147129082004187\\\",\\\"id\\\":\\\"17955113371633546818\\\",\\\"type\\\":\\\"observable\\\"},val)) : undefined; return this.valueFromJulia[\\\"changes\\\"]=false}),self),this[\\\"index\\\"].subscribe((function (val){!(this.valueFromJulia[\\\"index\\\"]) ? (WebIO.setval({\\\"name\\\":\\\"index\\\",\\\"scope\\\":\\\"12647147129082004187\\\",\\\"id\\\":\\\"13771440678610838683\\\",\\\"type\\\":\\\"observable\\\"},val)) : undefined; return this.valueFromJulia[\\\"index\\\"]=false}),self)]\\n        \\n    }\\n    self.model = new AppViewModel();\\n    self.valueFromJulia = {};\\n    for (var key in json_data) {\\n        self.valueFromJulia[key] = false;\\n    }\\n    ko.applyBindings(self.model, self.dom);\\n}\\n);\\n    (WebIO.importBlock({\\\"data\\\":[{\\\"name\\\":\\\"knockout\\\",\\\"type\\\":\\\"js\\\",\\\"url\\\":\\\"\\/assetserver\\/b4a508c9136c618558113710688cbae52aaba4d4-knockout.js\\\"},{\\\"name\\\":\\\"knockout_punches\\\",\\\"type\\\":\\\"js\\\",\\\"url\\\":\\\"\\/assetserver\\/e11c6094eccf83a4064de263f38f2286ea44e256-knockout_punches.js\\\"}],\\\"type\\\":\\\"async_block\\\"})).then((imports) => handler.apply(this, imports));\\n}\\n\"],\"observables\":{\"changes\":{\"sync\":false,\"id\":\"17955113371633546818\",\"value\":0},\"index\":{\"sync\":true,\"id\":\"13771440678610838683\",\"value\":2}}},\"children\":[{\"props\":{\"className\":\"interact-flex-row interact-widget\"},\"nodeType\":\"DOM\",\"type\":\"node\",\"instanceArgs\":{\"namespace\":\"html\",\"tag\":\"div\"},\"children\":[{\"props\":{\"className\":\"interact-flex-row-left\"},\"nodeType\":\"DOM\",\"type\":\"node\",\"instanceArgs\":{\"namespace\":\"html\",\"tag\":\"div\"},\"children\":[{\"props\":{\"className\":\"interact \",\"style\":{\"padding\":\"5px 10px 0px 10px\"}},\"nodeType\":\"DOM\",\"type\":\"node\",\"instanceArgs\":{\"namespace\":\"html\",\"tag\":\"label\"},\"children\":[\"p\"]}]},{\"props\":{\"className\":\"interact-flex-row-center\"},\"nodeType\":\"DOM\",\"type\":\"node\",\"instanceArgs\":{\"namespace\":\"html\",\"tag\":\"div\"},\"children\":[{\"props\":{\"max\":3,\"min\":1,\"attributes\":{\"type\":\"range\",\"data-bind\":\"numericValue: index, valueUpdate: 'input', event: {change: function (){this.changes(this.changes()+1)}}\",\"orient\":\"horizontal\"},\"step\":1,\"className\":\"slider slider is-fullwidth\",\"style\":{}},\"nodeType\":\"DOM\",\"type\":\"node\",\"instanceArgs\":{\"namespace\":\"html\",\"tag\":\"input\"},\"children\":[]}]},{\"props\":{\"className\":\"interact-flex-row-right\"},\"nodeType\":\"DOM\",\"type\":\"node\",\"instanceArgs\":{\"namespace\":\"html\",\"tag\":\"div\"},\"children\":[{\"props\":{\"attributes\":{\"data-bind\":\"text: formatted_val\"}},\"nodeType\":\"DOM\",\"type\":\"node\",\"instanceArgs\":{\"namespace\":\"html\",\"tag\":\"p\"},\"children\":[]}]}]}]}]},{\"props\":{},\"nodeType\":\"Scope\",\"type\":\"node\",\"instanceArgs\":{\"imports\":{\"data\":[],\"type\":\"async_block\"},\"id\":\"13083795519496808172\",\"handlers\":{},\"systemjs_options\":null,\"mount_callbacks\":[],\"observables\":{\"obs-node\":{\"sync\":false,\"id\":\"5714760551013521973\",\"value\":{\"props\":{\"className\":\"interact-flex-row interact-widget\"},\"nodeType\":\"DOM\",\"type\":\"node\",\"instanceArgs\":{\"namespace\":\"html\",\"tag\":\"div\"},\"children\":[{\"props\":{\"setInnerHtml\":\"<img src='data:image\\/png;base64,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'><\\/img>\"},\"nodeType\":\"DOM\",\"type\":\"node\",\"instanceArgs\":{\"namespace\":\"html\",\"tag\":\"div\"},\"children\":[]}]}}}},\"children\":[{\"props\":{},\"nodeType\":\"ObservableNode\",\"type\":\"node\",\"instanceArgs\":{\"id\":\"5714760551013521973\",\"name\":\"obs-node\"},\"children\":[]}]}]},\n",
       "        window,\n",
       "    );\n",
       "    })()\n",
       "    </script>\n",
       "</div>\n"
      ],
      "text/plain": [
       "Node{WebIO.DOM}(WebIO.DOM(:html, :div), Any[Node{WebIO.DOM}(WebIO.DOM(:html, :div), Any[Scope(Node{WebIO.DOM}(WebIO.DOM(:html, :div), Any[Node{WebIO.DOM}(WebIO.DOM(:html, :div), Any[Node{WebIO.DOM}(WebIO.DOM(:html, :label), Any[\"θ_0\"], Dict{Symbol, Any}(:className => \"interact \", :style => Dict{Any, Any}(:padding => \"5px 10px 0px 10px\")))], Dict{Symbol, Any}(:className => \"interact-flex-row-left\")), Node{WebIO.DOM}(WebIO.DOM(:html, :div), Any[Node{WebIO.DOM}(WebIO.DOM(:html, :input), Any[], Dict{Symbol, Any}(:max => 3, :min => 1, :attributes => Dict{Any, Any}(:type => \"range\", Symbol(\"data-bind\") => \"numericValue: index, valueUpdate: 'input', event: {change: function (){this.changes(this.changes()+1)}}\", \"orient\" => \"horizontal\"), :step => 1, :className => \"slider slider is-fullwidth\", :style => Dict{Any, Any}()))], Dict{Symbol, Any}(:className => \"interact-flex-row-center\")), Node{WebIO.DOM}(WebIO.DOM(:html, :div), Any[Node{WebIO.DOM}(WebIO.DOM(:html, :p), Any[], Dict{Symbol, Any}(:attributes => Dict(\"data-bind\" => \"text: formatted_val\")))], Dict{Symbol, Any}(:className => \"interact-flex-row-right\"))], Dict{Symbol, Any}(:className => \"interact-flex-row interact-widget\")), Dict{String, Tuple{AbstractObservable, Union{Nothing, Bool}}}(\"changes\" => (Observable(0), nothing), \"index\" => (Observable{Any}(2), nothing)), Set{String}(), nothing, Asset[Asset(\"js\", \"knockout\", \"C:\\\\Users\\\\swehner\\\\.julia\\\\packages\\\\Knockout\\\\HReiN\\\\src\\\\..\\\\assets\\\\knockout.js\"), Asset(\"js\", \"knockout_punches\", \"C:\\\\Users\\\\swehner\\\\.julia\\\\packages\\\\Knockout\\\\HReiN\\\\src\\\\..\\\\assets\\\\knockout_punches.js\"), Asset(\"js\", nothing, \"C:\\\\Users\\\\swehner\\\\.julia\\\\packages\\\\InteractBase\\\\LJXv3\\\\src\\\\..\\\\assets\\\\all.js\"), Asset(\"css\", nothing, \"C:\\\\Users\\\\swehner\\\\.julia\\\\packages\\\\InteractBase\\\\LJXv3\\\\src\\\\..\\\\assets\\\\style.css\"), Asset(\"css\", nothing, \"C:\\\\Users\\\\swehner\\\\.julia\\\\packages\\\\Interact\\\\PENUy\\\\src\\\\..\\\\assets\\\\bulma_confined.min.css\")], Dict{Any, Any}(\"changes\" => Any[WebIO.JSString(\"(function (val){return (val!=this.model[\\\"changes\\\"]()) ? (this.valueFromJulia[\\\"changes\\\"]=true, this.model[\\\"changes\\\"](val)) : undefined})\")], \"index\" => Any[WebIO.JSString(\"(function (val){return (val!=this.model[\\\"index\\\"]()) ? (this.valueFromJulia[\\\"index\\\"]=true, this.model[\\\"index\\\"](val)) : undefined})\")]), WebIO.ConnectionPool(Channel{Any}(32), Set{AbstractConnection}(), Base.GenericCondition{ReentrantLock}(Base.IntrusiveLinkedList{Task}(Task (runnable) @0x000001b8bcf75560, Task (runnable) @0x000001b8bcf75560), ReentrantLock(nothing, 0x00000000, 0x00, Base.GenericCondition{Base.Threads.SpinLock}(Base.IntrusiveLinkedList{Task}(nothing, nothing), Base.Threads.SpinLock(0)), (0, 140711831170848, 1892284695664)))), WebIO.JSString[WebIO.JSString(\"function () {\\n    var handler = (function (ko, koPunches) {\\n    ko.punches.enableAll();\\n    ko.bindingHandlers.numericValue = {\\n        init: function(element, valueAccessor, allBindings, data, context) {\\n            var stringified = ko.observable(ko.unwrap(valueAccessor()));\\n            stringified.subscribe(function(value) {\\n                var val = parseFloat(value);\\n                if (!isNaN(val)) {\\n                    valueAccessor()(val);\\n                }\\n            });\\n            valueAccessor().subscribe(function(value) {\\n                var str = JSON.stringify(value);\\n                if ((str == \\\"0\\\") && ([\\\"-0\\\", \\\"-0.\\\"].indexOf(stringified()) >= 0))\\n                     return;\\n                 if ([\\\"null\\\", \\\"\\\"].indexOf(str) >= 0)\\n                     return;\\n                stringified(str);\\n            });\\n            ko.applyBindingsToNode(\\n                element,\\n                {\\n                    value: stringified,\\n                    valueUpdate: allBindings.get('valueUpdate'),\\n                },\\n                context,\\n            );\\n        }\\n    };\\n    var json_data = {\\\"formatted_vals\\\":[\\\"0.0\\\",\\\"22.5\\\",\\\"45.0\\\"],\\\"changes\\\":WebIO.getval({\\\"name\\\":\\\"changes\\\",\\\"scope\\\":\\\"8790549955770234282\\\",\\\"id\\\":\\\"3306032924091245254\\\",\\\"type\\\":\\\"observable\\\"}),\\\"index\\\":WebIO.getval({\\\"name\\\":\\\"index\\\",\\\"scope\\\":\\\"8790549955770234282\\\",\\\"id\\\":\\\"8360419331706720494\\\",\\\"type\\\":\\\"observable\\\"})};\\n    var self = this;\\n    function AppViewModel() {\\n        for (var key in json_data) {\\n            var el = json_data[key];\\n            this[key] = Array.isArray(el) ? ko.observableArray(el) : ko.observable(el);\\n        }\\n        \\n        [this[\\\"formatted_val\\\"]=ko.computed(    function(){\\n        return this.formatted_vals()[parseInt(this.index())-(1)];\\n    }\\n,this)]\\n        [this[\\\"changes\\\"].subscribe((function (val){!(this.valueFromJulia[\\\"changes\\\"]) ? (WebIO.setval({\\\"name\\\":\\\"changes\\\",\\\"scope\\\":\\\"8790549955770234282\\\",\\\"id\\\":\\\"3306032924091245254\\\",\\\"type\\\":\\\"observable\\\"},val)) : undefined; return this.valueFromJulia[\\\"changes\\\"]=false}),self),this[\\\"index\\\"].subscribe((function (val){!(this.valueFromJulia[\\\"index\\\"]) ? (WebIO.setval({\\\"name\\\":\\\"index\\\",\\\"scope\\\":\\\"8790549955770234282\\\",\\\"id\\\":\\\"8360419331706720494\\\",\\\"type\\\":\\\"observable\\\"},val)) : undefined; return this.valueFromJulia[\\\"index\\\"]=false}),self)]\\n        \\n    }\\n    self.model = new AppViewModel();\\n    self.valueFromJulia = {};\\n    for (var key in json_data) {\\n        self.valueFromJulia[key] = false;\\n    }\\n    ko.applyBindings(self.model, self.dom);\\n}\\n);\\n    (WebIO.importBlock({\\\"data\\\":[{\\\"name\\\":\\\"knockout\\\",\\\"type\\\":\\\"js\\\",\\\"url\\\":\\\"/assetserver/b4a508c9136c618558113710688cbae52aaba4d4-knockout.js\\\"},{\\\"name\\\":\\\"knockout_punches\\\",\\\"type\\\":\\\"js\\\",\\\"url\\\":\\\"/assetserver/e11c6094eccf83a4064de263f38f2286ea44e256-knockout_punches.js\\\"}],\\\"type\\\":\\\"async_block\\\"})).then((imports) => handler.apply(this, imports));\\n}\\n\")])], Dict{Symbol, Any}(:className => \"field interact-widget\")), Node{WebIO.DOM}(WebIO.DOM(:html, :div), Any[Scope(Node{WebIO.DOM}(WebIO.DOM(:html, :div), Any[Node{WebIO.DOM}(WebIO.DOM(:html, :div), Any[Node{WebIO.DOM}(WebIO.DOM(:html, :label), Any[\"θ_1\"], Dict{Symbol, Any}(:className => \"interact \", :style => Dict{Any, Any}(:padding => \"5px 10px 0px 10px\")))], Dict{Symbol, Any}(:className => \"interact-flex-row-left\")), Node{WebIO.DOM}(WebIO.DOM(:html, :div), Any[Node{WebIO.DOM}(WebIO.DOM(:html, :input), Any[], Dict{Symbol, Any}(:max => 4, :min => 1, :attributes => Dict{Any, Any}(:type => \"range\", Symbol(\"data-bind\") => \"numericValue: index, valueUpdate: 'input', event: {change: function (){this.changes(this.changes()+1)}}\", \"orient\" => \"horizontal\"), :step => 1, :className => \"slider slider is-fullwidth\", :style => Dict{Any, Any}()))], Dict{Symbol, Any}(:className => \"interact-flex-row-center\")), Node{WebIO.DOM}(WebIO.DOM(:html, :div), Any[Node{WebIO.DOM}(WebIO.DOM(:html, :p), Any[], Dict{Symbol, Any}(:attributes => Dict(\"data-bind\" => \"text: formatted_val\")))], Dict{Symbol, Any}(:className => \"interact-flex-row-right\"))], Dict{Symbol, Any}(:className => \"interact-flex-row interact-widget\")), Dict{String, Tuple{AbstractObservable, Union{Nothing, Bool}}}(\"changes\" => (Observable(0), nothing), \"index\" => (Observable{Any}(1), nothing)), Set{String}(), nothing, Asset[Asset(\"js\", \"knockout\", \"C:\\\\Users\\\\swehner\\\\.julia\\\\packages\\\\Knockout\\\\HReiN\\\\src\\\\..\\\\assets\\\\knockout.js\"), Asset(\"js\", \"knockout_punches\", \"C:\\\\Users\\\\swehner\\\\.julia\\\\packages\\\\Knockout\\\\HReiN\\\\src\\\\..\\\\assets\\\\knockout_punches.js\"), Asset(\"js\", nothing, \"C:\\\\Users\\\\swehner\\\\.julia\\\\packages\\\\InteractBase\\\\LJXv3\\\\src\\\\..\\\\assets\\\\all.js\"), Asset(\"css\", nothing, \"C:\\\\Users\\\\swehner\\\\.julia\\\\packages\\\\InteractBase\\\\LJXv3\\\\src\\\\..\\\\assets\\\\style.css\"), Asset(\"css\", nothing, \"C:\\\\Users\\\\swehner\\\\.julia\\\\packages\\\\Interact\\\\PENUy\\\\src\\\\..\\\\assets\\\\bulma_confined.min.css\")], Dict{Any, Any}(\"changes\" => Any[WebIO.JSString(\"(function (val){return (val!=this.model[\\\"changes\\\"]()) ? (this.valueFromJulia[\\\"changes\\\"]=true, this.model[\\\"changes\\\"](val)) : undefined})\")], \"index\" => Any[WebIO.JSString(\"(function (val){return (val!=this.model[\\\"index\\\"]()) ? (this.valueFromJulia[\\\"index\\\"]=true, this.model[\\\"index\\\"](val)) : undefined})\")]), WebIO.ConnectionPool(Channel{Any}(32), Set{AbstractConnection}(), Base.GenericCondition{ReentrantLock}(Base.IntrusiveLinkedList{Task}(Task (runnable) @0x000001b8d582c9c0, Task (runnable) @0x000001b8d582c9c0), ReentrantLock(nothing, 0x00000000, 0x00, Base.GenericCondition{Base.Threads.SpinLock}(Base.IntrusiveLinkedList{Task}(nothing, nothing), Base.Threads.SpinLock(0)), (0, 0, 0)))), WebIO.JSString[WebIO.JSString(\"function () {\\n    var handler = (function (ko, koPunches) {\\n    ko.punches.enableAll();\\n    ko.bindingHandlers.numericValue = {\\n        init: function(element, valueAccessor, allBindings, data, context) {\\n            var stringified = ko.observable(ko.unwrap(valueAccessor()));\\n            stringified.subscribe(function(value) {\\n                var val = parseFloat(value);\\n                if (!isNaN(val)) {\\n                    valueAccessor()(val);\\n                }\\n            });\\n            valueAccessor().subscribe(function(value) {\\n                var str = JSON.stringify(value);\\n                if ((str == \\\"0\\\") && ([\\\"-0\\\", \\\"-0.\\\"].indexOf(stringified()) >= 0))\\n                     return;\\n                 if ([\\\"null\\\", \\\"\\\"].indexOf(str) >= 0)\\n                     return;\\n                stringified(str);\\n            });\\n            ko.applyBindingsToNode(\\n                element,\\n                {\\n                    value: stringified,\\n                    valueUpdate: allBindings.get('valueUpdate'),\\n                },\\n                context,\\n            );\\n        }\\n    };\\n    var json_data = {\\\"formatted_vals\\\":[\\\"45.0\\\",\\\"0.0\\\",\\\"22.5\\\",\\\"77.5\\\"],\\\"changes\\\":WebIO.getval({\\\"name\\\":\\\"changes\\\",\\\"scope\\\":\\\"6403059100689876863\\\",\\\"id\\\":\\\"13486736670215222092\\\",\\\"type\\\":\\\"observable\\\"}),\\\"index\\\":WebIO.getval({\\\"name\\\":\\\"index\\\",\\\"scope\\\":\\\"6403059100689876863\\\",\\\"id\\\":\\\"17992372550121303175\\\",\\\"type\\\":\\\"observable\\\"})};\\n    var self = this;\\n    function AppViewModel() {\\n        for (var key in json_data) {\\n            var el = json_data[key];\\n            this[key] = Array.isArray(el) ? ko.observableArray(el) : ko.observable(el);\\n        }\\n        \\n        [this[\\\"formatted_val\\\"]=ko.computed(    function(){\\n        return this.formatted_vals()[parseInt(this.index())-(1)];\\n    }\\n,this)]\\n        [this[\\\"changes\\\"].subscribe((function (val){!(this.valueFromJulia[\\\"changes\\\"]) ? (WebIO.setval({\\\"name\\\":\\\"changes\\\",\\\"scope\\\":\\\"6403059100689876863\\\",\\\"id\\\":\\\"13486736670215222092\\\",\\\"type\\\":\\\"observable\\\"},val)) : undefined; return this.valueFromJulia[\\\"changes\\\"]=false}),self),this[\\\"index\\\"].subscribe((function (val){!(this.valueFromJulia[\\\"index\\\"]) ? (WebIO.setval({\\\"name\\\":\\\"index\\\",\\\"scope\\\":\\\"6403059100689876863\\\",\\\"id\\\":\\\"17992372550121303175\\\",\\\"type\\\":\\\"observable\\\"},val)) : undefined; return this.valueFromJulia[\\\"index\\\"]=false}),self)]\\n        \\n    }\\n    self.model = new AppViewModel();\\n    self.valueFromJulia = {};\\n    for (var key in json_data) {\\n        self.valueFromJulia[key] = false;\\n    }\\n    ko.applyBindings(self.model, self.dom);\\n}\\n);\\n    (WebIO.importBlock({\\\"data\\\":[{\\\"name\\\":\\\"knockout\\\",\\\"type\\\":\\\"js\\\",\\\"url\\\":\\\"/assetserver/b4a508c9136c618558113710688cbae52aaba4d4-knockout.js\\\"},{\\\"name\\\":\\\"knockout_punches\\\",\\\"type\\\":\\\"js\\\",\\\"url\\\":\\\"/assetserver/e11c6094eccf83a4064de263f38f2286ea44e256-knockout_punches.js\\\"}],\\\"type\\\":\\\"async_block\\\"})).then((imports) => handler.apply(this, imports));\\n}\\n\")])], Dict{Symbol, Any}(:className => \"field interact-widget\")), Node{WebIO.DOM}(WebIO.DOM(:html, :div), Any[Scope(Node{WebIO.DOM}(WebIO.DOM(:html, :div), Any[Node{WebIO.DOM}(WebIO.DOM(:html, :div), Any[Node{WebIO.DOM}(WebIO.DOM(:html, :label), Any[\"γ_0\"], Dict{Symbol, Any}(:className => \"interact \", :style => Dict{Any, Any}(:padding => \"5px 10px 0px 10px\")))], Dict{Symbol, Any}(:className => \"interact-flex-row-left\")), Node{WebIO.DOM}(WebIO.DOM(:html, :div), Any[Node{WebIO.DOM}(WebIO.DOM(:html, :input), Any[], Dict{Symbol, Any}(:max => 4, :min => 1, :attributes => Dict{Any, Any}(:type => \"range\", Symbol(\"data-bind\") => \"numericValue: index, valueUpdate: 'input', event: {change: function (){this.changes(this.changes()+1)}}\", \"orient\" => \"horizontal\"), :step => 1, :className => \"slider slider is-fullwidth\", :style => Dict{Any, Any}()))], Dict{Symbol, Any}(:className => \"interact-flex-row-center\")), Node{WebIO.DOM}(WebIO.DOM(:html, :div), Any[Node{WebIO.DOM}(WebIO.DOM(:html, :p), Any[], Dict{Symbol, Any}(:attributes => Dict(\"data-bind\" => \"text: formatted_val\")))], Dict{Symbol, Any}(:className => \"interact-flex-row-right\"))], Dict{Symbol, Any}(:className => \"interact-flex-row interact-widget\")), Dict{String, Tuple{AbstractObservable, Union{Nothing, Bool}}}(\"changes\" => (Observable(0), nothing), \"index\" => (Observable{Any}(1), nothing)), Set{String}(), nothing, Asset[Asset(\"js\", \"knockout\", \"C:\\\\Users\\\\swehner\\\\.julia\\\\packages\\\\Knockout\\\\HReiN\\\\src\\\\..\\\\assets\\\\knockout.js\"), Asset(\"js\", \"knockout_punches\", \"C:\\\\Users\\\\swehner\\\\.julia\\\\packages\\\\Knockout\\\\HReiN\\\\src\\\\..\\\\assets\\\\knockout_punches.js\"), Asset(\"js\", nothing, \"C:\\\\Users\\\\swehner\\\\.julia\\\\packages\\\\InteractBase\\\\LJXv3\\\\src\\\\..\\\\assets\\\\all.js\"), Asset(\"css\", nothing, \"C:\\\\Users\\\\swehner\\\\.julia\\\\packages\\\\InteractBase\\\\LJXv3\\\\src\\\\..\\\\assets\\\\style.css\"), Asset(\"css\", nothing, \"C:\\\\Users\\\\swehner\\\\.julia\\\\packages\\\\Interact\\\\PENUy\\\\src\\\\..\\\\assets\\\\bulma_confined.min.css\")], Dict{Any, Any}(\"changes\" => Any[WebIO.JSString(\"(function (val){return (val!=this.model[\\\"changes\\\"]()) ? (this.valueFromJulia[\\\"changes\\\"]=true, this.model[\\\"changes\\\"](val)) : undefined})\")], \"index\" => Any[WebIO.JSString(\"(function (val){return (val!=this.model[\\\"index\\\"]()) ? (this.valueFromJulia[\\\"index\\\"]=true, this.model[\\\"index\\\"](val)) : undefined})\")]), WebIO.ConnectionPool(Channel{Any}(32), Set{AbstractConnection}(), Base.GenericCondition{ReentrantLock}(Base.IntrusiveLinkedList{Task}(Task (runnable) @0x000001b8d582cbb0, Task (runnable) @0x000001b8d582cbb0), ReentrantLock(nothing, 0x00000000, 0x00, Base.GenericCondition{Base.Threads.SpinLock}(Base.IntrusiveLinkedList{Task}(nothing, nothing), Base.Threads.SpinLock(0)), (0, 0, 0)))), WebIO.JSString[WebIO.JSString(\"function () {\\n    var handler = (function (ko, koPunches) {\\n    ko.punches.enableAll();\\n    ko.bindingHandlers.numericValue = {\\n        init: function(element, valueAccessor, allBindings, data, context) {\\n            var stringified = ko.observable(ko.unwrap(valueAccessor()));\\n            stringified.subscribe(function(value) {\\n                var val = parseFloat(value);\\n                if (!isNaN(val)) {\\n                    valueAccessor()(val);\\n                }\\n            });\\n            valueAccessor().subscribe(function(value) {\\n                var str = JSON.stringify(value);\\n                if ((str == \\\"0\\\") && ([\\\"-0\\\", \\\"-0.\\\"].indexOf(stringified()) >= 0))\\n                     return;\\n                 if ([\\\"null\\\", \\\"\\\"].indexOf(str) >= 0)\\n                     return;\\n                stringified(str);\\n            });\\n            ko.applyBindingsToNode(\\n                element,\\n                {\\n                    value: stringified,\\n                    valueUpdate: allBindings.get('valueUpdate'),\\n                },\\n                context,\\n            );\\n        }\\n    };\\n    var json_data = {\\\"formatted_vals\\\":[\\\"22.5\\\",\\\"0.0\\\",\\\"45.0\\\",\\\"77.5\\\"],\\\"changes\\\":WebIO.getval({\\\"name\\\":\\\"changes\\\",\\\"scope\\\":\\\"17014926202374756708\\\",\\\"id\\\":\\\"5469917307095946173\\\",\\\"type\\\":\\\"observable\\\"}),\\\"index\\\":WebIO.getval({\\\"name\\\":\\\"index\\\",\\\"scope\\\":\\\"17014926202374756708\\\",\\\"id\\\":\\\"14078721255656687460\\\",\\\"type\\\":\\\"observable\\\"})};\\n    var self = this;\\n    function AppViewModel() {\\n        for (var key in json_data) {\\n            var el = json_data[key];\\n            this[key] = Array.isArray(el) ? ko.observableArray(el) : ko.observable(el);\\n        }\\n        \\n        [this[\\\"formatted_val\\\"]=ko.computed(    function(){\\n        return this.formatted_vals()[parseInt(this.index())-(1)];\\n    }\\n,this)]\\n        [this[\\\"changes\\\"].subscribe((function (val){!(this.valueFromJulia[\\\"changes\\\"]) ? (WebIO.setval({\\\"name\\\":\\\"changes\\\",\\\"scope\\\":\\\"17014926202374756708\\\",\\\"id\\\":\\\"5469917307095946173\\\",\\\"type\\\":\\\"observable\\\"},val)) : undefined; return this.valueFromJulia[\\\"changes\\\"]=false}),self),this[\\\"index\\\"].subscribe((function (val){!(this.valueFromJulia[\\\"index\\\"]) ? (WebIO.setval({\\\"name\\\":\\\"index\\\",\\\"scope\\\":\\\"17014926202374756708\\\",\\\"id\\\":\\\"14078721255656687460\\\",\\\"type\\\":\\\"observable\\\"},val)) : undefined; return this.valueFromJulia[\\\"index\\\"]=false}),self)]\\n        \\n    }\\n    self.model = new AppViewModel();\\n    self.valueFromJulia = {};\\n    for (var key in json_data) {\\n        self.valueFromJulia[key] = false;\\n    }\\n    ko.applyBindings(self.model, self.dom);\\n}\\n);\\n    (WebIO.importBlock({\\\"data\\\":[{\\\"name\\\":\\\"knockout\\\",\\\"type\\\":\\\"js\\\",\\\"url\\\":\\\"/assetserver/b4a508c9136c618558113710688cbae52aaba4d4-knockout.js\\\"},{\\\"name\\\":\\\"knockout_punches\\\",\\\"type\\\":\\\"js\\\",\\\"url\\\":\\\"/assetserver/e11c6094eccf83a4064de263f38f2286ea44e256-knockout_punches.js\\\"}],\\\"type\\\":\\\"async_block\\\"})).then((imports) => handler.apply(this, imports));\\n}\\n\")])], Dict{Symbol, Any}(:className => \"field interact-widget\")), Node{WebIO.DOM}(WebIO.DOM(:html, :div), Any[Scope(Node{WebIO.DOM}(WebIO.DOM(:html, :div), Any[Node{WebIO.DOM}(WebIO.DOM(:html, :div), Any[Node{WebIO.DOM}(WebIO.DOM(:html, :label), Any[\"γ_1\"], Dict{Symbol, Any}(:className => \"interact \", :style => Dict{Any, Any}(:padding => \"5px 10px 0px 10px\")))], Dict{Symbol, Any}(:className => \"interact-flex-row-left\")), Node{WebIO.DOM}(WebIO.DOM(:html, :div), Any[Node{WebIO.DOM}(WebIO.DOM(:html, :input), Any[], Dict{Symbol, Any}(:max => 4, :min => 1, :attributes => Dict{Any, Any}(:type => \"range\", Symbol(\"data-bind\") => \"numericValue: index, valueUpdate: 'input', event: {change: function (){this.changes(this.changes()+1)}}\", \"orient\" => \"horizontal\"), :step => 1, :className => \"slider slider is-fullwidth\", :style => Dict{Any, Any}()))], Dict{Symbol, Any}(:className => \"interact-flex-row-center\")), Node{WebIO.DOM}(WebIO.DOM(:html, :div), Any[Node{WebIO.DOM}(WebIO.DOM(:html, :p), Any[], Dict{Symbol, Any}(:attributes => Dict(\"data-bind\" => \"text: formatted_val\")))], Dict{Symbol, Any}(:className => \"interact-flex-row-right\"))], Dict{Symbol, Any}(:className => \"interact-flex-row interact-widget\")), Dict{String, Tuple{AbstractObservable, Union{Nothing, Bool}}}(\"changes\" => (Observable(0), nothing), \"index\" => (Observable{Any}(2), nothing)), Set{String}(), nothing, Asset[Asset(\"js\", \"knockout\", \"C:\\\\Users\\\\swehner\\\\.julia\\\\packages\\\\Knockout\\\\HReiN\\\\src\\\\..\\\\assets\\\\knockout.js\"), Asset(\"js\", \"knockout_punches\", \"C:\\\\Users\\\\swehner\\\\.julia\\\\packages\\\\Knockout\\\\HReiN\\\\src\\\\..\\\\assets\\\\knockout_punches.js\"), Asset(\"js\", nothing, \"C:\\\\Users\\\\swehner\\\\.julia\\\\packages\\\\InteractBase\\\\LJXv3\\\\src\\\\..\\\\assets\\\\all.js\"), Asset(\"css\", nothing, \"C:\\\\Users\\\\swehner\\\\.julia\\\\packages\\\\InteractBase\\\\LJXv3\\\\src\\\\..\\\\assets\\\\style.css\"), Asset(\"css\", nothing, \"C:\\\\Users\\\\swehner\\\\.julia\\\\packages\\\\Interact\\\\PENUy\\\\src\\\\..\\\\assets\\\\bulma_confined.min.css\")], Dict{Any, Any}(\"changes\" => Any[WebIO.JSString(\"(function (val){return (val!=this.model[\\\"changes\\\"]()) ? (this.valueFromJulia[\\\"changes\\\"]=true, this.model[\\\"changes\\\"](val)) : undefined})\")], \"index\" => Any[WebIO.JSString(\"(function (val){return (val!=this.model[\\\"index\\\"]()) ? (this.valueFromJulia[\\\"index\\\"]=true, this.model[\\\"index\\\"](val)) : undefined})\")]), WebIO.ConnectionPool(Channel{Any}(32), Set{AbstractConnection}(), Base.GenericCondition{ReentrantLock}(Base.IntrusiveLinkedList{Task}(Task (runnable) @0x000001b8d582cda0, Task (runnable) @0x000001b8d582cda0), ReentrantLock(nothing, 0x00000000, 0x00, Base.GenericCondition{Base.Threads.SpinLock}(Base.IntrusiveLinkedList{Task}(nothing, nothing), Base.Threads.SpinLock(0)), (0, 0, 0)))), WebIO.JSString[WebIO.JSString(\"function () {\\n    var handler = (function (ko, koPunches) {\\n    ko.punches.enableAll();\\n    ko.bindingHandlers.numericValue = {\\n        init: function(element, valueAccessor, allBindings, data, context) {\\n            var stringified = ko.observable(ko.unwrap(valueAccessor()));\\n            stringified.subscribe(function(value) {\\n                var val = parseFloat(value);\\n                if (!isNaN(val)) {\\n                    valueAccessor()(val);\\n                }\\n            });\\n            valueAccessor().subscribe(function(value) {\\n                var str = JSON.stringify(value);\\n                if ((str == \\\"0\\\") && ([\\\"-0\\\", \\\"-0.\\\"].indexOf(stringified()) >= 0))\\n                     return;\\n                 if ([\\\"null\\\", \\\"\\\"].indexOf(str) >= 0)\\n                     return;\\n                stringified(str);\\n            });\\n            ko.applyBindingsToNode(\\n                element,\\n                {\\n                    value: stringified,\\n                    valueUpdate: allBindings.get('valueUpdate'),\\n                },\\n                context,\\n            );\\n        }\\n    };\\n    var json_data = {\\\"formatted_vals\\\":[\\\"-22.5\\\",\\\"0.0\\\",\\\"22.5\\\",\\\"45.0\\\"],\\\"changes\\\":WebIO.getval({\\\"name\\\":\\\"changes\\\",\\\"scope\\\":\\\"17233934416776461207\\\",\\\"id\\\":\\\"5076172810638460568\\\",\\\"type\\\":\\\"observable\\\"}),\\\"index\\\":WebIO.getval({\\\"name\\\":\\\"index\\\",\\\"scope\\\":\\\"17233934416776461207\\\",\\\"id\\\":\\\"15642605394585520009\\\",\\\"type\\\":\\\"observable\\\"})};\\n    var self = this;\\n    function AppViewModel() {\\n        for (var key in json_data) {\\n            var el = json_data[key];\\n            this[key] = Array.isArray(el) ? ko.observableArray(el) : ko.observable(el);\\n        }\\n        \\n        [this[\\\"formatted_val\\\"]=ko.computed(    function(){\\n        return this.formatted_vals()[parseInt(this.index())-(1)];\\n    }\\n,this)]\\n        [this[\\\"changes\\\"].subscribe((function (val){!(this.valueFromJulia[\\\"changes\\\"]) ? (WebIO.setval({\\\"name\\\":\\\"changes\\\",\\\"scope\\\":\\\"17233934416776461207\\\",\\\"id\\\":\\\"5076172810638460568\\\",\\\"type\\\":\\\"observable\\\"},val)) : undefined; return this.valueFromJulia[\\\"changes\\\"]=false}),self),this[\\\"index\\\"].subscribe((function (val){!(this.valueFromJulia[\\\"index\\\"]) ? (WebIO.setval({\\\"name\\\":\\\"index\\\",\\\"scope\\\":\\\"17233934416776461207\\\",\\\"id\\\":\\\"15642605394585520009\\\",\\\"type\\\":\\\"observable\\\"},val)) : undefined; return this.valueFromJulia[\\\"index\\\"]=false}),self)]\\n        \\n    }\\n    self.model = new AppViewModel();\\n    self.valueFromJulia = {};\\n    for (var key in json_data) {\\n        self.valueFromJulia[key] = false;\\n    }\\n    ko.applyBindings(self.model, self.dom);\\n}\\n);\\n    (WebIO.importBlock({\\\"data\\\":[{\\\"name\\\":\\\"knockout\\\",\\\"type\\\":\\\"js\\\",\\\"url\\\":\\\"/assetserver/b4a508c9136c618558113710688cbae52aaba4d4-knockout.js\\\"},{\\\"name\\\":\\\"knockout_punches\\\",\\\"type\\\":\\\"js\\\",\\\"url\\\":\\\"/assetserver/e11c6094eccf83a4064de263f38f2286ea44e256-knockout_punches.js\\\"}],\\\"type\\\":\\\"async_block\\\"})).then((imports) => handler.apply(this, imports));\\n}\\n\")])], Dict{Symbol, Any}(:className => \"field interact-widget\")), Node{WebIO.DOM}(WebIO.DOM(:html, :div), Any[Scope(Node{WebIO.DOM}(WebIO.DOM(:html, :div), Any[Node{WebIO.DOM}(WebIO.DOM(:html, :div), Any[Node{WebIO.DOM}(WebIO.DOM(:html, :label), Any[\"p\"], Dict{Symbol, Any}(:className => \"interact \", :style => Dict{Any, Any}(:padding => \"5px 10px 0px 10px\")))], Dict{Symbol, Any}(:className => \"interact-flex-row-left\")), Node{WebIO.DOM}(WebIO.DOM(:html, :div), Any[Node{WebIO.DOM}(WebIO.DOM(:html, :input), Any[], Dict{Symbol, Any}(:max => 3, :min => 1, :attributes => Dict{Any, Any}(:type => \"range\", Symbol(\"data-bind\") => \"numericValue: index, valueUpdate: 'input', event: {change: function (){this.changes(this.changes()+1)}}\", \"orient\" => \"horizontal\"), :step => 1, :className => \"slider slider is-fullwidth\", :style => Dict{Any, Any}()))], Dict{Symbol, Any}(:className => \"interact-flex-row-center\")), Node{WebIO.DOM}(WebIO.DOM(:html, :div), Any[Node{WebIO.DOM}(WebIO.DOM(:html, :p), Any[], Dict{Symbol, Any}(:attributes => Dict(\"data-bind\" => \"text: formatted_val\")))], Dict{Symbol, Any}(:className => \"interact-flex-row-right\"))], Dict{Symbol, Any}(:className => \"interact-flex-row interact-widget\")), Dict{String, Tuple{AbstractObservable, Union{Nothing, Bool}}}(\"changes\" => (Observable(0), nothing), \"index\" => (Observable{Any}(2), nothing)), Set{String}(), nothing, Asset[Asset(\"js\", \"knockout\", \"C:\\\\Users\\\\swehner\\\\.julia\\\\packages\\\\Knockout\\\\HReiN\\\\src\\\\..\\\\assets\\\\knockout.js\"), Asset(\"js\", \"knockout_punches\", \"C:\\\\Users\\\\swehner\\\\.julia\\\\packages\\\\Knockout\\\\HReiN\\\\src\\\\..\\\\assets\\\\knockout_punches.js\"), Asset(\"js\", nothing, \"C:\\\\Users\\\\swehner\\\\.julia\\\\packages\\\\InteractBase\\\\LJXv3\\\\src\\\\..\\\\assets\\\\all.js\"), Asset(\"css\", nothing, \"C:\\\\Users\\\\swehner\\\\.julia\\\\packages\\\\InteractBase\\\\LJXv3\\\\src\\\\..\\\\assets\\\\style.css\"), Asset(\"css\", nothing, \"C:\\\\Users\\\\swehner\\\\.julia\\\\packages\\\\Interact\\\\PENUy\\\\src\\\\..\\\\assets\\\\bulma_confined.min.css\")], Dict{Any, Any}(\"changes\" => Any[WebIO.JSString(\"(function (val){return (val!=this.model[\\\"changes\\\"]()) ? (this.valueFromJulia[\\\"changes\\\"]=true, this.model[\\\"changes\\\"](val)) : undefined})\")], \"index\" => Any[WebIO.JSString(\"(function (val){return (val!=this.model[\\\"index\\\"]()) ? (this.valueFromJulia[\\\"index\\\"]=true, this.model[\\\"index\\\"](val)) : undefined})\")]), WebIO.ConnectionPool(Channel{Any}(32), Set{AbstractConnection}(), Base.GenericCondition{ReentrantLock}(Base.IntrusiveLinkedList{Task}(Task (runnable) @0x000001b8d582cf90, Task (runnable) @0x000001b8d582cf90), ReentrantLock(nothing, 0x00000000, 0x00, Base.GenericCondition{Base.Threads.SpinLock}(Base.IntrusiveLinkedList{Task}(nothing, nothing), Base.Threads.SpinLock(0)), (0, 0, 0)))), WebIO.JSString[WebIO.JSString(\"function () {\\n    var handler = (function (ko, koPunches) {\\n    ko.punches.enableAll();\\n    ko.bindingHandlers.numericValue = {\\n        init: function(element, valueAccessor, allBindings, data, context) {\\n            var stringified = ko.observable(ko.unwrap(valueAccessor()));\\n            stringified.subscribe(function(value) {\\n                var val = parseFloat(value);\\n                if (!isNaN(val)) {\\n                    valueAccessor()(val);\\n                }\\n            });\\n            valueAccessor().subscribe(function(value) {\\n                var str = JSON.stringify(value);\\n                if ((str == \\\"0\\\") && ([\\\"-0\\\", \\\"-0.\\\"].indexOf(stringified()) >= 0))\\n                     return;\\n                 if ([\\\"null\\\", \\\"\\\"].indexOf(str) >= 0)\\n                     return;\\n                stringified(str);\\n            });\\n            ko.applyBindingsToNode(\\n                element,\\n                {\\n                    value: stringified,\\n                    valueUpdate: allBindings.get('valueUpdate'),\\n                },\\n                context,\\n            );\\n        }\\n    };\\n    var json_data = {\\\"formatted_vals\\\":[\\\"0.0\\\",\\\"0.5\\\",\\\"1.0\\\"],\\\"changes\\\":WebIO.getval({\\\"name\\\":\\\"changes\\\",\\\"scope\\\":\\\"12647147129082004187\\\",\\\"id\\\":\\\"17955113371633546818\\\",\\\"type\\\":\\\"observable\\\"}),\\\"index\\\":WebIO.getval({\\\"name\\\":\\\"index\\\",\\\"scope\\\":\\\"12647147129082004187\\\",\\\"id\\\":\\\"13771440678610838683\\\",\\\"type\\\":\\\"observable\\\"})};\\n    var self = this;\\n    function AppViewModel() {\\n        for (var key in json_data) {\\n            var el = json_data[key];\\n            this[key] = Array.isArray(el) ? ko.observableArray(el) : ko.observable(el);\\n        }\\n        \\n        [this[\\\"formatted_val\\\"]=ko.computed(    function(){\\n        return this.formatted_vals()[parseInt(this.index())-(1)];\\n    }\\n,this)]\\n        [this[\\\"changes\\\"].subscribe((function (val){!(this.valueFromJulia[\\\"changes\\\"]) ? (WebIO.setval({\\\"name\\\":\\\"changes\\\",\\\"scope\\\":\\\"12647147129082004187\\\",\\\"id\\\":\\\"17955113371633546818\\\",\\\"type\\\":\\\"observable\\\"},val)) : undefined; return this.valueFromJulia[\\\"changes\\\"]=false}),self),this[\\\"index\\\"].subscribe((function (val){!(this.valueFromJulia[\\\"index\\\"]) ? (WebIO.setval({\\\"name\\\":\\\"index\\\",\\\"scope\\\":\\\"12647147129082004187\\\",\\\"id\\\":\\\"13771440678610838683\\\",\\\"type\\\":\\\"observable\\\"},val)) : undefined; return this.valueFromJulia[\\\"index\\\"]=false}),self)]\\n        \\n    }\\n    self.model = new AppViewModel();\\n    self.valueFromJulia = {};\\n    for (var key in json_data) {\\n        self.valueFromJulia[key] = false;\\n    }\\n    ko.applyBindings(self.model, self.dom);\\n}\\n);\\n    (WebIO.importBlock({\\\"data\\\":[{\\\"name\\\":\\\"knockout\\\",\\\"type\\\":\\\"js\\\",\\\"url\\\":\\\"/assetserver/b4a508c9136c618558113710688cbae52aaba4d4-knockout.js\\\"},{\\\"name\\\":\\\"knockout_punches\\\",\\\"type\\\":\\\"js\\\",\\\"url\\\":\\\"/assetserver/e11c6094eccf83a4064de263f38f2286ea44e256-knockout_punches.js\\\"}],\\\"type\\\":\\\"async_block\\\"})).then((imports) => handler.apply(this, imports));\\n}\\n\")])], Dict{Symbol, Any}(:className => \"field interact-widget\")), Observable(Node{WebIO.DOM}(WebIO.DOM(:html, :div), Any[Figure(PyObject <Figure size 1500x200 with 6 Axes>)], Dict{Symbol, Any}(:className => \"interact-flex-row interact-widget\")))], Dict{Symbol, Any}())"
      ]
     },
     "execution_count": 13,
     "metadata": {
      "application/vnd.webio.node+json": {
       "kernelId": "12ba87a8-78a1-4941-bc56-ff4f8e59039d"
      }
     },
     "output_type": "execute_result"
    }
   ],
   "source": [
    "@manipulate for θ_0 = [0,22.5,45], \n",
    "                θ_1 = [45,0,22.5,77.5], \n",
    "                γ_0 = [22.5,0,45,77.5], \n",
    "                γ_1 = [-22.5,0,22.5,45], \n",
    "                p = [0,0.5,1]\n",
    "    \n",
    "    rho_AB = p*0.25*I(4) + (1-p)*0.5*[1 0 0 1; 0 0 0 0; 0 0 0 0; 1 0 0 1] \n",
    "\n",
    "    # Calculate the associated probability distributions\n",
    "    p00, p01, p10, p11 = bell_test_calculations(rho_AB, θ_0, θ_1, γ_0, γ_1)\n",
    "    \n",
    "    # Plot \n",
    "    fig = figure(figsize=(15,2))\n",
    "    withfig(fig) do\n",
    "        bell_test_plot(θ_0, θ_1, γ_0, γ_1, p00, p01, p10, p11)\n",
    "    end\n",
    "end"
   ]
  },
  {
   "cell_type": "markdown",
   "metadata": {},
   "source": [
    "<b> Caption: </b> From left to right: \n",
    "Alice's measurement bases represented by the red and orange lines. Red (orange) represents the measurement basis associated with setting $x=0$ ($x=1$). \n",
    "\n",
    "Bob's measurement bases represented by the blue (light blue) lines. Blue (light blue) represents the measurement basis associated with setting $y=0$ ($y=1$).\n",
    "\n",
    "The probability distribution on measurement outcomes $a$, $b$ given settings $x=0$, $y=0$ - each pillar corresponds to $p(a,b|x,y)$ for $a,b = 00, 01,10,11$. Likewise for the remaining combinations of $x \\in \\{0,1\\}$, $y \\in \\{0,1\\}$ (from left to right). Note, the weighted sum of the probabilities associated with shaded bars give the CHSH winning probability. "
   ]
  }
 ],
 "metadata": {
  "@webio": {
   "lastCommId": "f12d19da7f0046b3b5ab2e2636c4d53e",
   "lastKernelId": "1b656ca9-199b-4da4-b255-a004b3ad2722"
  },
  "anaconda-cloud": {},
  "kernelspec": {
   "display_name": "Julia 1.9.1",
   "language": "julia",
   "name": "julia-1.9"
  },
  "language_info": {
   "file_extension": ".jl",
   "mimetype": "application/julia",
   "name": "julia",
   "version": "1.9.1"
  }
 },
 "nbformat": 4,
 "nbformat_minor": 1
}
