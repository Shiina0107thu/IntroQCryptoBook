{
 "cells": [
  {
   "cell_type": "markdown",
   "metadata": {},
   "source": [
    "<h1 style=\"color:#00A6D6;\">Introduction to Quantum Cryptography - Jupyter Notebooks</h1>\n",
    "<h2 style=\"color:#00A6D6;\">Chapter 9: Quantum Cryptography using Untrusted Devices </h2>\n",
    "\n",
    "Welcome to the new Julia sheet! As usual, we will ask you to use Julia to answer a few exercises. Most importantly, however, the purpose of these Julia sheets is for you to play around and build intuition by exploring and calculating things we do NOT ask you :-) We hope that you take advantage of using Julia this way.\n",
    "\n",
    "In this Julia Jupyter notebook, we focus on exploring device independent quantum cryptography - by exploring the interrelationship between the violation of the CHSH inequality, and the performance of using entanglement for QKD! The crux of such device independent protocols rests indeed on using CHSH to test the entanglement during test rounds, and then essentially perform entanglement based QKD in the untested rounds. Before you embark on this Julia sheet, is it useful to do the one for Chapters 4 and 8, if you have not already done so.\n",
    "\n",
    "* <a href=\"#estate\"> An entangled state </a>\n",
    "* <a href=\"#chsh\"> CHSH using the entangled state </a>\n",
    "\n",
    "* <a href=\"#e91\"> Entanglement based QKD using the entangled state </a>\n",
    "\n",
    "\n",
    "The include command that follows will include all the functions that you have used on the previous chapters."
   ]
  },
  {
   "cell_type": "code",
   "execution_count": null,
   "metadata": {},
   "outputs": [],
   "source": [
    "include(\"source/main.jl\");"
   ]
  },
  {
   "cell_type": "markdown",
   "metadata": {},
   "source": [
    "<a id=\"estate\"></a>\n",
    "<h2 style=\"color:#00A6D6;\">An entangled state</h2>\n",
    "In this Jupyter sheet, we will explore how well we can perform CHSH, and how well we can perform entanglement based QKD, using the very same starting state $\\rho_{AB}$ for Alice and Bob. We will set this state here, and then proceed in our investigations. We will pre-set a few possible states to explore below that we will come back to in the exercises, and you are encouraged to try your own! The first is the EPR pair $$|\\Psi\\rangle = \\frac{1}{\\sqrt{2}} \\left(|00\\rangle + |11\\rangle\\right)\\ , $$ which we encoutered many times before.\n",
    "\n",
    "Second, we will consider another Bell state obtained by applying $X$ to Alice's qubit $$|\\Psi\\rangle_{10} = \\frac{1}{\\sqrt{2}}\\left(|10\\rangle + |01\\rangle\\right) . $$ \n",
    "\n",
    "Finally, we will examine what happens in the case of a Werner state, where we mix the EPR pair with a fully mixed state according to a parameter $p$. This state is given by $$\n",
    "(1-p) \\Phi^+ + p \\frac{\\mathbb I}{4}\\ , \n",
    "$$ where $$\\Phi^+ = |\\Psi\\rangle\\langle\\Psi|.$$"
   ]
  },
  {
   "cell_type": "code",
   "execution_count": null,
   "metadata": {},
   "outputs": [],
   "source": [
    "# The EPR Pair\n",
    "psi = [1 0 0 1]/sqrt(2);\n",
    "eprPair = psi' * psi;\n",
    "\n",
    "# EPR Pair with X applied - a noisy EPR pair!\n",
    "psiX = [0 1 1 0]/sqrt(2);\n",
    "eprPairX = psiX'*psiX;\n",
    "\n",
    "# Werner state for a noise parameter p \n",
    "function wernerState(p)\n",
    "    return p*0.25*I(4) + (1-p)*eprPair;\n",
    "end"
   ]
  },
  {
   "cell_type": "markdown",
   "metadata": {},
   "source": [
    "<h3 style=\"color:#00A6D6;\"> Exercise 1</h3>\n",
    "Let's first investigste whether the states are entangled: \n",
    "<ul>\n",
    "<li> Check whether the EPR pair is indeed entangled.</li>\n",
    "    <li> Do the same for the EPR pair with X applied to it.</li>\n",
    "    <li> Investigate whether/when the Werner state is entangled for different values of $p$. Is the Werner state entangled for all $p$? </li>\n",
    " </ul>\n",
    "        "
   ]
  },
  {
   "cell_type": "code",
   "execution_count": null,
   "metadata": {},
   "outputs": [],
   "source": [
    "# Your code goes here - recall that for 2 qubit states we have a convenient function to check entanglement!\n",
    "check_entangled(eprPair)"
   ]
  },
  {
   "cell_type": "markdown",
   "metadata": {},
   "source": [
    "<a id=\"chsh\"></a>\n",
    "<h2 style=\"color:#00A6D6;\">CHSH using the entangled state</h2>\n",
    "\n",
    "Let's now investigate how well Alice and Bob can perform CHSH, given one of the possible states above. In the exercises below, we will use the standard measurements for CHSH as explained in the Jupyter Sheet for Chapter 4. "
   ]
  },
  {
   "cell_type": "code",
   "execution_count": null,
   "metadata": {},
   "outputs": [],
   "source": [
    "# Computes the winning probability for CHSH given a specific input state rhoAB\n",
    "function winningProbCHSH(rhoAB)\n",
    "    # Set the standard CHSH measurements (see sheet Chapter 4)\n",
    "    θ_0 = 0;\n",
    "    θ_1 = 45;\n",
    "    γ_0 = 22.5;\n",
    "    γ_1 = -22.5;\n",
    "\n",
    "    return pwinCHSH(rhoAB,θ_0, θ_1, γ_0, γ_1);\n",
    "end"
   ]
  },
  {
   "cell_type": "markdown",
   "metadata": {},
   "source": [
    "<h3 style=\"color:#00A6D6;\"> Exercise 2</h3>\n",
    "\n",
    "What is the probability that Alice and Bob win the CHSH using \n",
    "<ul> \n",
    "    <li>a shared state $\\rho_{AB}$ given by the EPR pair?</li>\n",
    "    <li>the shared state $\\rho_{AB}$ given by the EPR pair with $X$ applied?</li>\n",
    "   </ul>\n",
    "What do you observe? Can you think of a strategy for Alice and Bob in which they can use the second state to obtain the same winning probability that they obtain using the EPR pair?"
   ]
  },
  {
   "cell_type": "code",
   "execution_count": null,
   "metadata": {},
   "outputs": [],
   "source": [
    "# Your code goes here."
   ]
  },
  {
   "cell_type": "markdown",
   "metadata": {},
   "source": [
    "\n",
    "<h3 style=\"color:#00A6D6;\">Exercise 3</h3>\n",
    "Investigate how well Alice and Bob can play the CHSH game using the Werner state with error parameter $p$. What do you observe? For what values of $p$ can Alice and Bob do better than the classical value of 3/4?"
   ]
  },
  {
   "cell_type": "code",
   "execution_count": null,
   "metadata": {},
   "outputs": [],
   "source": [
    "# Build on the code below to investigate!\n",
    "\n",
    "# Compute the CHSH winning probability for different values of p\n",
    "function winCHSH(p)\n",
    "    return winningProbCHSH(wernerState(p));\n",
    "end\n",
    "\n",
    "# Plot\n",
    "# p = range(0,1, length=100);\n",
    "# winP = winCHSH.(p);\n",
    "# plot(p,winP)\n",
    "# xlabel(\"p\")\n",
    "# ylabel(\"winning Prob\")\n",
    "# PyPlot.title(\"CHSH winning probability\")\n",
    "# grid(\"on\")\n"
   ]
  },
  {
   "cell_type": "markdown",
   "metadata": {},
   "source": [
    "<h2 style=\"color:#00A6D6;\">E91 Entanglement Based QKD</h2>\n",
    "\n",
    "Let's now take a look at how well we can perform entanglement based QKD using the very same state as for CHSH above. The code below is adapted from Chapter 8 to let you explore their relationship more easily."
   ]
  },
  {
   "cell_type": "code",
   "execution_count": null,
   "metadata": {},
   "outputs": [],
   "source": [
    "# Let's define the elements of the BB84 Basis as ket vectors\n",
    "# The first index indicates the basis and the second the basis element\n",
    "v0 = [1 0]';\n",
    "v1 = [0 1]';\n",
    "w0 = ([1 1]')/sqrt(2);\n",
    "w1 = ([1 -1]')/sqrt(2);\n",
    "\n",
    "# The BB84 states. Note that due to Julia indexing from 1 onwards, 1 is the standard basis, and 2 the Hadamard one\n",
    "# Similarly bit x=0 will correspond to index 1, and x=1 to index 2\n",
    "BB84 = [[v0] [v1]; [w0] [w1]];\n",
    "\n",
    "# function to compute the QBERs in X and Z for some state rhoAB for n round\n",
    "\n",
    "function entangledQKD(rhoAB,n)\n",
    "\n",
    "    # Build the basis measurements on Alice and Bob's side, we will keep them around for potential future use\n",
    "    # We will also compute the probabilities of outcomes immediately\n",
    "    measAB = Dict();\n",
    "    outcomeProb = Dict();\n",
    "    for thetaA = 1:2\n",
    "        for thetaB = 1:2\n",
    "            outcomeProb[(thetaA,thetaB)] = zeros(4);\n",
    "            pcount = 1;\n",
    "            for xA = 1:2\n",
    "                for xB = 1:2\n",
    "                    a = BB84[thetaA,xA][1:2];\n",
    "                    b = BB84[thetaB,xB][1:2]; \n",
    "\n",
    "                    # Construct the measurement operator on A and B\n",
    "                    measAB[(thetaA,xA,thetaB,xB)] = kron(a*a', b*b');\n",
    "\n",
    "                    # compute the outcome probability on rho that we will sample from later, and add it to a probability vector\n",
    "                    outcomeProb[(thetaA,thetaB)][pcount] = tr(rhoAB *  measAB[(thetaA,xA,thetaB,xB)]);\n",
    "                    pcount = pcount + 1;\n",
    "                end\n",
    "            end\n",
    "        end\n",
    "    end\n",
    "\n",
    "\n",
    "    # Let's now do QKD\n",
    "    thetaA = zeros(Int8,n);\n",
    "    thetaB = zeros(Int8,n);\n",
    "    errorCount = [0;0];\n",
    "    sameBasis = [0;0];\n",
    "    diffBasis = 0;\n",
    "    sameOutcomeAnyways = 0;\n",
    "\n",
    "    for i = 1:n\n",
    "  \n",
    "        # Alice picks a random basis\n",
    "        thetaA[i] = rand(1:2);\n",
    "    \n",
    "        # Bob picks a random basis\n",
    "        thetaB[i] = rand(1:2);\n",
    "    \n",
    "        # Sample from the outcome distribution\n",
    "        # outcomes mean 1 -> 00, 2 -> 01, 3 -> 10, 4 -> 11\n",
    "        rng = Multinomial(1,outcomeProb[(thetaA[i],thetaB[i])]);\n",
    "        outcome = rand(rng);\n",
    "        if outcome[1] == 1\n",
    "            aliceOutcome = 0;\n",
    "            bobOutcome = 0;\n",
    "        elseif outcome[2] == 1\n",
    "            aliceOutcome = 0;\n",
    "            bobOutcome = 1;\n",
    "        elseif outcome[3] == 1\n",
    "            aliceOutcome = 1;\n",
    "            bobOutcome = 0;\n",
    "        elseif outcome[4] == 1\n",
    "            aliceOutcome = 1;\n",
    "            bobOutcome = 1;\n",
    "        end\n",
    "        \n",
    "        # Print basis used - comment/uncomment as desired\n",
    "        # print(\"Alice used basis \", thetaA[i]-1, \" with bit \", aliceOutcome ,\" and Bob measured in basis \", thetaB[i]-1, \" and got outcome \", bobOutcome, \"\\n\");\n",
    "    \n",
    "        # Compute potential errors\n",
    "        if (thetaA[i] == thetaB[i])\n",
    "            # Alice and Bob measured in the same basis\n",
    "            sameBasis[thetaA[i]] = sameBasis[thetaA[i]] + 1;\n",
    "            if (aliceOutcome != bobOutcome)\n",
    "                # this is an error\n",
    "                errorCount[thetaA[i]] = errorCount[thetaA[i]] + 1;\n",
    "            end\n",
    "        end\n",
    "\n",
    "    end\n",
    "\n",
    "    # Compute the error rates\n",
    "    qberZ = errorCount[1]/sameBasis[1];\n",
    "    qberX = errorCount[2]/sameBasis[2];\n",
    "\n",
    "    return [qberZ, qberX];\n",
    "end\n",
    "\n"
   ]
  },
  {
   "cell_type": "markdown",
   "metadata": {},
   "source": [
    "<h3 style=\"color:#00A6D6;\"> Exercise 4</h3>\n",
    "Let's first examine how well Alice and Bob can perform entanglement based QKD!\n",
    "<ul>\n",
    "<li> For $\\rho_{AB}$ being the EPR pair, what do you observe for the QBER in the standard and the Hadamard basis?</li>\n",
    "    <li> For $\\rho_{AB}$ being the EPR pair with the X applied, what do you observe for the QBERs? Can you explain your observations?</li>\n",
    " </ul>\n",
    "        "
   ]
  },
  {
   "cell_type": "code",
   "execution_count": null,
   "metadata": {},
   "outputs": [],
   "source": [
    "# Run entanglement based QKD with a specific state and n=1000 rounds\n",
    "output  = entangledQKD(eprPair,1000);\n",
    "\n",
    "# Let's print the quantum bit error rate in the standard basis\n",
    "\n",
    "print(\"QBER in the standard basis: \", output[1], \"\\n\");\n",
    "print(\"QBER in the Hadamard basis: \", output[2], \"\\n\");"
   ]
  },
  {
   "cell_type": "markdown",
   "metadata": {},
   "source": [
    "<h3 style=\"color:#00A6D6;\"> Exercise 5</h3>\n",
    "\n",
    "Let's now investigate what happens for the Werner state. \n",
    "<ul>\n",
    "    <li>What do you observe for the QBER in Z (standard basis) and X (Hadamard basis) as a function of $p$?</li>\n",
    "    <li>In Chapter 4 you investigated for which qbers QKD was possible (using one way discussion from Alice to Bob). Use this knowledge to investigate for which values of $p$ for the Werner state, Alice and Bob can still make key.</li>\n",
    "</ul>"
   ]
  },
  {
   "cell_type": "code",
   "execution_count": null,
   "metadata": {},
   "outputs": [],
   "source": [
    "# Build on the code below to investigate!\n",
    "\n",
    "# Compute the CHSH winning probability for different values of p\n",
    "function entQKD(p)\n",
    "    return entangledQKD(wernerState(p),10000);\n",
    "end\n",
    "\n",
    "# Plot\n",
    "# p = range(0,1, length=100);\n",
    "# output = entQKD.(p);\n",
    "# Z = [val[1] for val in output]\n",
    "# X = [val[2] for val in output]\n",
    "\n",
    "# plot(p, Z, label=\"QBER Z\")\n",
    "# plot(p, X, label=\"QBER X\")\n",
    "\n",
    "# xlabel(\"p\")\n",
    "# ylabel(\"QBER\")\n",
    "# PyPlot.title(\"QBER in Z and X\")\n",
    "# grid(\"on\")\n",
    "# legend()\n"
   ]
  },
  {
   "cell_type": "markdown",
   "metadata": {},
   "source": [
    "<h3 style=\"color:#00A6D6;\"> Exercise 6</h3>\n",
    "We are now ready to compare CHSH and entanglement based QKD! Investigate the relationship between winning CHSH, and the QBER in Z and X for the Werner state with error parameter $p$. What do you observe? "
   ]
  },
  {
   "cell_type": "code",
   "execution_count": null,
   "metadata": {},
   "outputs": [],
   "source": [
    "# Your code goes here, where you may want to use the Julia code given above."
   ]
  }
 ],
 "metadata": {
  "@webio": {
   "lastCommId": null,
   "lastKernelId": null
  },
  "anaconda-cloud": {},
  "kernelspec": {
   "display_name": "Julia 1.9.1",
   "language": "julia",
   "name": "julia-1.9"
  },
  "language_info": {
   "file_extension": ".jl",
   "mimetype": "application/julia",
   "name": "julia",
   "version": "1.9.1"
  }
 },
 "nbformat": 4,
 "nbformat_minor": 4
}
