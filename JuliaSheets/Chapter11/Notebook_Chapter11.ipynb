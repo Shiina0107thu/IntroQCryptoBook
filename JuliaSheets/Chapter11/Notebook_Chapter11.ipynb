{
 "cells": [
  {
   "cell_type": "markdown",
   "metadata": {},
   "source": [
    "<h1 style=\"color:#00A6D6;\">Introduction to Quantum Cryptography - Jupyter Notebooks</h1>\n",
    "<h2 style=\"color:#00A6D6;\">Chapter 11: Security from Physical Assumptions</h2>\n",
    "\n",
    "Welcome to the new Julia sheet! As usual, we will ask you to use Julia to answer a few exercises. Most importantly, however, the purpose of these Julia sheets is for you to play around and build intuition by exploring and calculating things we do NOT ask you :-) We hope that you take advantage of using Julia this way.\n",
    "\n",
    "In this Julia Jupyter notebook, we focus on exploring some features of noisy storage, as assumed in the noisy storage model. We will take a look at gaining some intuition of why error correction can at all help by inventing a mini quantum error correcting code for a simple scenario, and try and gain an intuitive understanding how error probabilities used in earlier notebooks relate to the capacity of a quantum memory for storing information.\n",
    "\n",
    "* <a href=\"#ecc\"> A mini quantum error correcting code </a>\n",
    "* <a href=\"#flipping\"> Flipping bits and capacities </a>\n",
    "\n",
    "The include command that follows will include all the functions that you have used on the previous chapters."
   ]
  },
  {
   "cell_type": "code",
   "execution_count": null,
   "metadata": {},
   "outputs": [],
   "source": [
    "include(\"source/main.jl\");"
   ]
  },
  {
   "cell_type": "markdown",
   "metadata": {},
   "source": [
    "<a id=\"bb84\"></a>\n",
    "<h2 style=\"color:#00A6D6;\">A mini quantum error correcting code</h2>\n",
    "\n",
    "In the following two exercises, we will try and gain some intuition for how we might use a very simple form of error correction, or more specifically error protection, to protect quantum states from noise in a quantum memory. We emphasize this is merely for you to gain some intuition and we refer to e.g.  <a href=\"https://www.cambridge.org/core/books/quantum-error-correction/B51E8333050A0F9A67363254DC1EA15A\"> this book</a> for an introduction to quantum error correction. \n",
    "\n",
    "Let's start with noise in a classical memory, and classical bits. We will imagine that we have a classical memory of two bits $x_1$ and $x_2$ with a very peculiar form of noise: at each time step, we either apply a bit flip to both bits with probability $p$, or we do nothing. That is, for our memory $x = x_1x_2$, the state of the memory transforms to $\\tilde{x} = (1-x_1)(1-x_2)$ with probability $p$.\n",
    "\n",
    "\n",
    "How can we deal with such noise? It is clear that our memory does not preserve information perfectly: there are some errors. However, we could hope to maybe store a smaller amount of bits in such a memory without any noise at all? Suppose we would like to store a single bit $y \\in \\{0,1\\}$ in the memory. We are then looking for an <b>encoder</b> that takes $$y \\rightarrow x\\, $$\n",
    "where $x$ is an <b> encoding</b> of $y$ in our memory. Naturally, while in our memory $x$ may be subject to noise. We are hence also looking for a <b>decoder</b> that can recover $y$ from a potentially noisy version of $x$.\n",
    "\n",
    "\n",
    "<h3 style=\"color:#00A6D6;\"> Exercise 1</h3>\n",
    "Let us first examine what the memory does at all to its input strings $x \\in \\{0,1\\}^2$, where we will already phrase everything in the language of qubits.\n",
    "\n",
    "Try all $4$ possible inputs $x \\in \\{0,1\\}$ several times and investigate what happens to the memory output."
   ]
  },
  {
   "cell_type": "code",
   "execution_count": null,
   "metadata": {},
   "outputs": [],
   "source": [
    "# our classical input strings, written as qubits:\n",
    "v0 = [1 0]';\n",
    "v1 = [0 1]';\n",
    "x00 = kron(v0,v0);\n",
    "x01 = kron(v0,v1);\n",
    "x10 = kron(v1,v0);\n",
    "x11 = kron(v1,v1);\n",
    "\n",
    "# Out chosen input string\n",
    "input = x01;\n",
    "\n",
    "# bit flip X\n",
    "X = [0 1;1 0];\n",
    "\n",
    "# Let's simulate the effects of random noise\n",
    "q = 0.9 # error probability\n",
    "errorRnd = Bernoulli(q);\n",
    "error = rand(errorRnd);\n",
    "if error\n",
    "    output = kron(X,X) * input;\n",
    "end\n",
    "\n",
    "if input != output\n",
    "    print(\"ERROR: Input state was \",input,\" output state is \", output, \"\\n\");\n",
    "else\n",
    "    print(\"No error :-)\\n\");\n",
    "end"
   ]
  },
  {
   "cell_type": "markdown",
   "metadata": {},
   "source": [
    "<h3 style=\"color:#00A6D6;\"> Exercise 2</h3>\n",
    "The goal of this exercise is to find an encoder as well as a decoder that allows us to store any single bit $y \\in \\{0,1\\}$ perfectly in the memory.\n",
    "<ul>\n",
    "    <li>What is the encoder, i.e. the mapping $y \\rightarrow x$ ?</li>\n",
    "    <li>What is the decoder?</li>\n",
    "</ul>\n",
    "Convince yourself this works reliably for both values of $y$."
   ]
  },
  {
   "cell_type": "code",
   "execution_count": null,
   "metadata": {},
   "outputs": [],
   "source": [
    "# Your code goes here, where you may wish to start by copy pasting and expanding the code given above.\n"
   ]
  },
  {
   "cell_type": "markdown",
   "metadata": {},
   "source": [
    "<h3 style=\"color:#00A6D6;\"> Exercise 3</h3>\n",
    "Let us now imagine that our memory is actually a quantum memory, in which we can place two qubits. The noise remains the same of applying $X \\otimes X$ with probability $p$. \n",
    "\n",
    "Can you extend you idea above to create a quantum encoding that can protect one single qubit using two qubits in memory.\n",
    "<ul>\n",
    "    <li>Can you find quantum states that $|\\Psi_{ab}\\rangle$ that are invariant under the noise applied?</li>\n",
    "    <li>Can you find an encoder for one quantum bit into the two qubit quantum memory?</li>\n",
    "    <li>How about a decoder?</li>\n",
    "</ul>"
   ]
  },
  {
   "cell_type": "code",
   "execution_count": null,
   "metadata": {},
   "outputs": [],
   "source": [
    "# Your code goes here"
   ]
  },
  {
   "cell_type": "markdown",
   "metadata": {},
   "source": [
    "<a id=\"flipping\"></a>\n",
    "<h2 style=\"color:#00A6D6;\">Flipping bits and capacities</h2>\n",
    "\n",
    "Suppose that we have not just one quantum memory but $n$ of them, where each quantum memory is described by some noisy channel $\\mathcal{N}$. That is, our memory is of the form $\\mathcal{F} = \\mathcal{N}^{\\otimes n}$. For example, each quantum memory could consist of one qubit, where $\\mathcal{N}(\\rho) = (1-p)\\rho + p X \\rho X$ is the bit flip channel applying $X$ with probability $p$.\n",
    "\n",
    "When it comes to the noisy-storage model it is intuitive that <a href=\"https://arxiv.org/abs/1305.1316\">security is linked to the capacity</a> of the channel $\\mathcal{N}$. While many forms of capacities exist in the quantum world, we here focus on gaining some intuition of again sending classical information through $\\mathcal{N}$. Again, we might envision using an encoder that maps a classical string $y \\in \\{0,1\\}^m$ to a quantum state: $y \\rightarrow \\rho_{in}$. The decoder then performs a measurement to recover a guess $\\tilde{y}$ for $y$ on the noisy output state $\\mathcal{F}(\\rho_{in})$. The rate at which such classical information can be sent is given by $R = m/n$ (with an error that is vanishing for large $n$). The <b>classical capacity</b> $C$ of $\\mathcal{N}$ determines the maximum rate $C > R$ at which information can be sent reliably. \n",
    "\n",
    "Throughout these Julia sheets we applied bit flip noise and other forms of noise frequently in our examples. In our final exercise, we will get some idea of how such error probabilities $p$ relate to sending classical information through the channel.\n",
    "\n",
    "<h3 style=\"color:#00A6D6;\"> Exercise 4</h3>\n",
    "What do you think is the classical capacity of the bit flip channel? Can you find a way to send one single classical bit through a one qubit quantum memory subject to bit flip noise?\n"
   ]
  },
  {
   "cell_type": "code",
   "execution_count": null,
   "metadata": {},
   "outputs": [],
   "source": [
    "# Space to try things"
   ]
  },
  {
   "cell_type": "markdown",
   "metadata": {},
   "source": [
    "<h3 style=\"color:#00A6D6;\"> Exercise 5</h3>\n",
    "\n",
    "If $$\\mathcal{N}(\\rho) = (1-p)\\rho + p \\frac{I}{2}$$ is qubit depolarizing noise, the classical capacity is known to be $$C = 1 + \\frac{1+r}{2} \\log_2 \\frac{1+r}{2} + \\frac{1-r}{2}log_2 \\frac{1-r}{2}\\ , $$\n",
    "with $r = 1-p$.\n",
    "\n",
    "Investigate the capacity as a function of $p$. How many bits can thus be sent at most through a memory $\\mathcal{F} = \\mathcal{N}^{\\otimes 1000}$ for $p=1$?"
   ]
  },
  {
   "cell_type": "code",
   "execution_count": null,
   "metadata": {},
   "outputs": [],
   "source": [
    "# Capacity of the depolarizing channel due to C. King\n",
    "function classicalCapDepol(p)\n",
    "    r = 1-p;\n",
    "    out = 1 + (1+r)/2 * log2((1+r)/2) + (1-r)/2 * log2((1 - r)/2);\n",
    "    return r\n",
    "end\n",
    "\n",
    "# Plot\n",
    "# p = range(0,1, length=100);\n",
    "# cP = classicalCapDepol.(p);\n",
    "# plot(p,cP)\n",
    "# xlabel(\"p\")\n",
    "# ylabel(\"Capacity\")\n",
    "# grid(\"on\")"
   ]
  }
 ],
 "metadata": {
  "@webio": {
   "lastCommId": "c7b65448108f46a49685ec97cd40cae5",
   "lastKernelId": "01a28e58-e7b8-4fa0-b2b5-9916d3153a89"
  },
  "anaconda-cloud": {},
  "kernelspec": {
   "display_name": "Julia 1.9.1",
   "language": "julia",
   "name": "julia-1.9"
  },
  "language_info": {
   "file_extension": ".jl",
   "mimetype": "application/julia",
   "name": "julia",
   "version": "1.9.1"
  }
 },
 "nbformat": 4,
 "nbformat_minor": 4
}
